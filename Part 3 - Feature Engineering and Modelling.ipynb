{
 "cells": [
  {
   "cell_type": "markdown",
   "metadata": {},
   "source": [
    "## Part 3 - Feature Engineering and Modelling\n",
    "\n",
    "### Author: Johann Manukulasuriya\n",
    "\n",
    "#### BrainStation, Fall 2021 Cohort"
   ]
  },
  {
   "cell_type": "markdown",
   "metadata": {},
   "source": [
    "#### Order of Notebook\n",
    "\n",
    "1. Basic EDA\n",
    "2. Feature Engineering\n",
    "3. Data Splitting\n",
    "4. Modelling\n",
    "    - Logistic Regression\n",
    "    - KNN\n",
    "    - Decision Trees\n",
    "    - SVM\n",
    "5. Conclusions"
   ]
  },
  {
   "cell_type": "markdown",
   "metadata": {},
   "source": [
    "In this third part, I will be working on the cleaned dataset. I will be binarzing the target column - `recommended` - which indicates that my modelling will be focused on binary classification.\n",
    "\n",
    "The modelling process will also involve One Hot Encoding the `Customer_Review` column to extract 'tokens' (individualized words) that will be crucial in creating my machine learning models that could correctly predict which reviews were a 'Yes'/'No' recommendation."
   ]
  },
  {
   "cell_type": "code",
   "execution_count": 1,
   "metadata": {},
   "outputs": [],
   "source": [
    "# Import libraries\n",
    "import numpy as np\n",
    "import pandas as pd\n",
    "import matplotlib.pyplot as plt\n",
    "%matplotlib inline\n",
    "import seaborn as sns\n",
    "\n",
    "# Import OneHotEncoder\n",
    "from sklearn.preprocessing import OneHotEncoder\n",
    "from sklearn.model_selection import train_test_split\n",
    "from sklearn.feature_extraction.text import CountVectorizer\n",
    "from sklearn.feature_extraction.text import TfidfVectorizer\n",
    "\n",
    "# Import libraries\n",
    "from sklearn.model_selection import train_test_split, GridSearchCV\n",
    "\n",
    "from sklearn.preprocessing import MinMaxScaler\n",
    "\n",
    "from sklearn.linear_model import LogisticRegression\n",
    "from sklearn.neighbors import KNeighborsClassifier, KNeighborsTransformer\n",
    "from sklearn.tree import DecisionTreeClassifier\n",
    "from sklearn.svm import LinearSVC\n",
    "from sklearn.decomposition import PCA\n",
    "from sklearn.pipeline import Pipeline\n",
    "from sklearn.metrics import plot_confusion_matrix, confusion_matrix, classification_report"
   ]
  },
  {
   "cell_type": "markdown",
   "metadata": {},
   "source": [
    "We can now read in the cleaned dataset that was produced from the Preprocessing and Cleaning notebook."
   ]
  },
  {
   "cell_type": "code",
   "execution_count": 2,
   "metadata": {},
   "outputs": [
    {
     "data": {
      "text/html": [
       "<div>\n",
       "<style scoped>\n",
       "    .dataframe tbody tr th:only-of-type {\n",
       "        vertical-align: middle;\n",
       "    }\n",
       "\n",
       "    .dataframe tbody tr th {\n",
       "        vertical-align: top;\n",
       "    }\n",
       "\n",
       "    .dataframe thead th {\n",
       "        text-align: right;\n",
       "    }\n",
       "</style>\n",
       "<table border=\"1\" class=\"dataframe\">\n",
       "  <thead>\n",
       "    <tr style=\"text-align: right;\">\n",
       "      <th></th>\n",
       "      <th>airline</th>\n",
       "      <th>overall</th>\n",
       "      <th>customer_review</th>\n",
       "      <th>traveller_type</th>\n",
       "      <th>cabin</th>\n",
       "      <th>seat_comfort</th>\n",
       "      <th>cabin_service</th>\n",
       "      <th>food_bev</th>\n",
       "      <th>entertainment</th>\n",
       "      <th>ground_service</th>\n",
       "      <th>value_for_money</th>\n",
       "      <th>recommended</th>\n",
       "      <th>origin</th>\n",
       "      <th>destination</th>\n",
       "      <th>week_of_year</th>\n",
       "      <th>month_of_year</th>\n",
       "      <th>year</th>\n",
       "      <th>day_of_month</th>\n",
       "    </tr>\n",
       "  </thead>\n",
       "  <tbody>\n",
       "    <tr>\n",
       "      <th>0</th>\n",
       "      <td>Turkish Airlines</td>\n",
       "      <td>7</td>\n",
       "      <td>✅ Trip Verified | London to Izmir via Istanbul...</td>\n",
       "      <td>Business</td>\n",
       "      <td>Economy Class</td>\n",
       "      <td>4</td>\n",
       "      <td>5</td>\n",
       "      <td>4</td>\n",
       "      <td>4</td>\n",
       "      <td>2</td>\n",
       "      <td>4</td>\n",
       "      <td>yes</td>\n",
       "      <td>London</td>\n",
       "      <td>Izmir</td>\n",
       "      <td>19</td>\n",
       "      <td>5</td>\n",
       "      <td>2019</td>\n",
       "      <td>8</td>\n",
       "    </tr>\n",
       "    <tr>\n",
       "      <th>1</th>\n",
       "      <td>Turkish Airlines</td>\n",
       "      <td>2</td>\n",
       "      <td>✅ Trip Verified | Istanbul to Bucharest. We ma...</td>\n",
       "      <td>Family Leisure</td>\n",
       "      <td>Economy Class</td>\n",
       "      <td>4</td>\n",
       "      <td>1</td>\n",
       "      <td>1</td>\n",
       "      <td>1</td>\n",
       "      <td>1</td>\n",
       "      <td>1</td>\n",
       "      <td>no</td>\n",
       "      <td>Istanbul</td>\n",
       "      <td>Bucharest</td>\n",
       "      <td>19</td>\n",
       "      <td>5</td>\n",
       "      <td>2019</td>\n",
       "      <td>7</td>\n",
       "    </tr>\n",
       "    <tr>\n",
       "      <th>2</th>\n",
       "      <td>Turkish Airlines</td>\n",
       "      <td>3</td>\n",
       "      <td>✅ Trip Verified | Rome to Prishtina via Istanb...</td>\n",
       "      <td>Business</td>\n",
       "      <td>Economy Class</td>\n",
       "      <td>1</td>\n",
       "      <td>4</td>\n",
       "      <td>1</td>\n",
       "      <td>3</td>\n",
       "      <td>1</td>\n",
       "      <td>2</td>\n",
       "      <td>no</td>\n",
       "      <td>Rome</td>\n",
       "      <td>Prishtina</td>\n",
       "      <td>19</td>\n",
       "      <td>5</td>\n",
       "      <td>2019</td>\n",
       "      <td>7</td>\n",
       "    </tr>\n",
       "    <tr>\n",
       "      <th>3</th>\n",
       "      <td>Turkish Airlines</td>\n",
       "      <td>10</td>\n",
       "      <td>✅ Trip Verified | Flew on Turkish Airlines IAD...</td>\n",
       "      <td>Solo Leisure</td>\n",
       "      <td>Economy Class</td>\n",
       "      <td>4</td>\n",
       "      <td>5</td>\n",
       "      <td>5</td>\n",
       "      <td>5</td>\n",
       "      <td>5</td>\n",
       "      <td>5</td>\n",
       "      <td>yes</td>\n",
       "      <td>Washington Dulles</td>\n",
       "      <td>Karachi</td>\n",
       "      <td>19</td>\n",
       "      <td>5</td>\n",
       "      <td>2019</td>\n",
       "      <td>6</td>\n",
       "    </tr>\n",
       "    <tr>\n",
       "      <th>4</th>\n",
       "      <td>Turkish Airlines</td>\n",
       "      <td>1</td>\n",
       "      <td>✅ Trip Verified | Mumbai to Dublin via Istanbu...</td>\n",
       "      <td>Solo Leisure</td>\n",
       "      <td>Economy Class</td>\n",
       "      <td>1</td>\n",
       "      <td>1</td>\n",
       "      <td>1</td>\n",
       "      <td>1</td>\n",
       "      <td>1</td>\n",
       "      <td>1</td>\n",
       "      <td>no</td>\n",
       "      <td>Mumbai</td>\n",
       "      <td>Dublin</td>\n",
       "      <td>19</td>\n",
       "      <td>5</td>\n",
       "      <td>2019</td>\n",
       "      <td>6</td>\n",
       "    </tr>\n",
       "  </tbody>\n",
       "</table>\n",
       "</div>"
      ],
      "text/plain": [
       "            airline  overall  \\\n",
       "0  Turkish Airlines        7   \n",
       "1  Turkish Airlines        2   \n",
       "2  Turkish Airlines        3   \n",
       "3  Turkish Airlines       10   \n",
       "4  Turkish Airlines        1   \n",
       "\n",
       "                                     customer_review  traveller_type  \\\n",
       "0  ✅ Trip Verified | London to Izmir via Istanbul...        Business   \n",
       "1  ✅ Trip Verified | Istanbul to Bucharest. We ma...  Family Leisure   \n",
       "2  ✅ Trip Verified | Rome to Prishtina via Istanb...        Business   \n",
       "3  ✅ Trip Verified | Flew on Turkish Airlines IAD...    Solo Leisure   \n",
       "4  ✅ Trip Verified | Mumbai to Dublin via Istanbu...    Solo Leisure   \n",
       "\n",
       "           cabin  seat_comfort  cabin_service  food_bev  entertainment  \\\n",
       "0  Economy Class             4              5         4              4   \n",
       "1  Economy Class             4              1         1              1   \n",
       "2  Economy Class             1              4         1              3   \n",
       "3  Economy Class             4              5         5              5   \n",
       "4  Economy Class             1              1         1              1   \n",
       "\n",
       "   ground_service  value_for_money recommended             origin destination  \\\n",
       "0               2                4         yes             London       Izmir   \n",
       "1               1                1          no           Istanbul   Bucharest   \n",
       "2               1                2          no               Rome   Prishtina   \n",
       "3               5                5         yes  Washington Dulles     Karachi   \n",
       "4               1                1          no             Mumbai      Dublin   \n",
       "\n",
       "   week_of_year  month_of_year  year  day_of_month  \n",
       "0            19              5  2019             8  \n",
       "1            19              5  2019             7  \n",
       "2            19              5  2019             7  \n",
       "3            19              5  2019             6  \n",
       "4            19              5  2019             6  "
      ]
     },
     "execution_count": 2,
     "metadata": {},
     "output_type": "execute_result"
    }
   ],
   "source": [
    "# Read in the dataset\n",
    "airlines = pd.read_csv('airlines_data_cleaned_finalized.csv')\n",
    "airlines.head()"
   ]
  },
  {
   "cell_type": "markdown",
   "metadata": {},
   "source": [
    "The first step here is to convert the `recommended` column into binary values."
   ]
  },
  {
   "cell_type": "markdown",
   "metadata": {},
   "source": [
    "### 1. Basic EDA"
   ]
  },
  {
   "cell_type": "code",
   "execution_count": 3,
   "metadata": {},
   "outputs": [],
   "source": [
    "# Convert recommended variable to binary\n",
    "airlines['recommended'] = np.where(airlines['recommended'] == 'yes', 1, 0)"
   ]
  },
  {
   "cell_type": "code",
   "execution_count": 4,
   "metadata": {},
   "outputs": [
    {
     "data": {
      "text/html": [
       "<div>\n",
       "<style scoped>\n",
       "    .dataframe tbody tr th:only-of-type {\n",
       "        vertical-align: middle;\n",
       "    }\n",
       "\n",
       "    .dataframe tbody tr th {\n",
       "        vertical-align: top;\n",
       "    }\n",
       "\n",
       "    .dataframe thead th {\n",
       "        text-align: right;\n",
       "    }\n",
       "</style>\n",
       "<table border=\"1\" class=\"dataframe\">\n",
       "  <thead>\n",
       "    <tr style=\"text-align: right;\">\n",
       "      <th></th>\n",
       "      <th>airline</th>\n",
       "      <th>overall</th>\n",
       "      <th>customer_review</th>\n",
       "      <th>traveller_type</th>\n",
       "      <th>cabin</th>\n",
       "      <th>seat_comfort</th>\n",
       "      <th>cabin_service</th>\n",
       "      <th>food_bev</th>\n",
       "      <th>entertainment</th>\n",
       "      <th>ground_service</th>\n",
       "      <th>value_for_money</th>\n",
       "      <th>recommended</th>\n",
       "      <th>origin</th>\n",
       "      <th>destination</th>\n",
       "      <th>week_of_year</th>\n",
       "      <th>month_of_year</th>\n",
       "      <th>year</th>\n",
       "      <th>day_of_month</th>\n",
       "    </tr>\n",
       "  </thead>\n",
       "  <tbody>\n",
       "    <tr>\n",
       "      <th>0</th>\n",
       "      <td>Turkish Airlines</td>\n",
       "      <td>7</td>\n",
       "      <td>✅ Trip Verified | London to Izmir via Istanbul...</td>\n",
       "      <td>Business</td>\n",
       "      <td>Economy Class</td>\n",
       "      <td>4</td>\n",
       "      <td>5</td>\n",
       "      <td>4</td>\n",
       "      <td>4</td>\n",
       "      <td>2</td>\n",
       "      <td>4</td>\n",
       "      <td>1</td>\n",
       "      <td>London</td>\n",
       "      <td>Izmir</td>\n",
       "      <td>19</td>\n",
       "      <td>5</td>\n",
       "      <td>2019</td>\n",
       "      <td>8</td>\n",
       "    </tr>\n",
       "    <tr>\n",
       "      <th>1</th>\n",
       "      <td>Turkish Airlines</td>\n",
       "      <td>2</td>\n",
       "      <td>✅ Trip Verified | Istanbul to Bucharest. We ma...</td>\n",
       "      <td>Family Leisure</td>\n",
       "      <td>Economy Class</td>\n",
       "      <td>4</td>\n",
       "      <td>1</td>\n",
       "      <td>1</td>\n",
       "      <td>1</td>\n",
       "      <td>1</td>\n",
       "      <td>1</td>\n",
       "      <td>0</td>\n",
       "      <td>Istanbul</td>\n",
       "      <td>Bucharest</td>\n",
       "      <td>19</td>\n",
       "      <td>5</td>\n",
       "      <td>2019</td>\n",
       "      <td>7</td>\n",
       "    </tr>\n",
       "    <tr>\n",
       "      <th>2</th>\n",
       "      <td>Turkish Airlines</td>\n",
       "      <td>3</td>\n",
       "      <td>✅ Trip Verified | Rome to Prishtina via Istanb...</td>\n",
       "      <td>Business</td>\n",
       "      <td>Economy Class</td>\n",
       "      <td>1</td>\n",
       "      <td>4</td>\n",
       "      <td>1</td>\n",
       "      <td>3</td>\n",
       "      <td>1</td>\n",
       "      <td>2</td>\n",
       "      <td>0</td>\n",
       "      <td>Rome</td>\n",
       "      <td>Prishtina</td>\n",
       "      <td>19</td>\n",
       "      <td>5</td>\n",
       "      <td>2019</td>\n",
       "      <td>7</td>\n",
       "    </tr>\n",
       "    <tr>\n",
       "      <th>3</th>\n",
       "      <td>Turkish Airlines</td>\n",
       "      <td>10</td>\n",
       "      <td>✅ Trip Verified | Flew on Turkish Airlines IAD...</td>\n",
       "      <td>Solo Leisure</td>\n",
       "      <td>Economy Class</td>\n",
       "      <td>4</td>\n",
       "      <td>5</td>\n",
       "      <td>5</td>\n",
       "      <td>5</td>\n",
       "      <td>5</td>\n",
       "      <td>5</td>\n",
       "      <td>1</td>\n",
       "      <td>Washington Dulles</td>\n",
       "      <td>Karachi</td>\n",
       "      <td>19</td>\n",
       "      <td>5</td>\n",
       "      <td>2019</td>\n",
       "      <td>6</td>\n",
       "    </tr>\n",
       "    <tr>\n",
       "      <th>4</th>\n",
       "      <td>Turkish Airlines</td>\n",
       "      <td>1</td>\n",
       "      <td>✅ Trip Verified | Mumbai to Dublin via Istanbu...</td>\n",
       "      <td>Solo Leisure</td>\n",
       "      <td>Economy Class</td>\n",
       "      <td>1</td>\n",
       "      <td>1</td>\n",
       "      <td>1</td>\n",
       "      <td>1</td>\n",
       "      <td>1</td>\n",
       "      <td>1</td>\n",
       "      <td>0</td>\n",
       "      <td>Mumbai</td>\n",
       "      <td>Dublin</td>\n",
       "      <td>19</td>\n",
       "      <td>5</td>\n",
       "      <td>2019</td>\n",
       "      <td>6</td>\n",
       "    </tr>\n",
       "  </tbody>\n",
       "</table>\n",
       "</div>"
      ],
      "text/plain": [
       "            airline  overall  \\\n",
       "0  Turkish Airlines        7   \n",
       "1  Turkish Airlines        2   \n",
       "2  Turkish Airlines        3   \n",
       "3  Turkish Airlines       10   \n",
       "4  Turkish Airlines        1   \n",
       "\n",
       "                                     customer_review  traveller_type  \\\n",
       "0  ✅ Trip Verified | London to Izmir via Istanbul...        Business   \n",
       "1  ✅ Trip Verified | Istanbul to Bucharest. We ma...  Family Leisure   \n",
       "2  ✅ Trip Verified | Rome to Prishtina via Istanb...        Business   \n",
       "3  ✅ Trip Verified | Flew on Turkish Airlines IAD...    Solo Leisure   \n",
       "4  ✅ Trip Verified | Mumbai to Dublin via Istanbu...    Solo Leisure   \n",
       "\n",
       "           cabin  seat_comfort  cabin_service  food_bev  entertainment  \\\n",
       "0  Economy Class             4              5         4              4   \n",
       "1  Economy Class             4              1         1              1   \n",
       "2  Economy Class             1              4         1              3   \n",
       "3  Economy Class             4              5         5              5   \n",
       "4  Economy Class             1              1         1              1   \n",
       "\n",
       "   ground_service  value_for_money  recommended             origin  \\\n",
       "0               2                4            1             London   \n",
       "1               1                1            0           Istanbul   \n",
       "2               1                2            0               Rome   \n",
       "3               5                5            1  Washington Dulles   \n",
       "4               1                1            0             Mumbai   \n",
       "\n",
       "  destination  week_of_year  month_of_year  year  day_of_month  \n",
       "0       Izmir            19              5  2019             8  \n",
       "1   Bucharest            19              5  2019             7  \n",
       "2   Prishtina            19              5  2019             7  \n",
       "3     Karachi            19              5  2019             6  \n",
       "4      Dublin            19              5  2019             6  "
      ]
     },
     "execution_count": 4,
     "metadata": {},
     "output_type": "execute_result"
    }
   ],
   "source": [
    "# Check\n",
    "airlines.head()"
   ]
  },
  {
   "cell_type": "markdown",
   "metadata": {},
   "source": [
    "Now wer can create a smaller dataframe consisting of airlines of a select region. I will be creating a dataframe consisting of Middle Eastern carriers, and unlike the analysis in the EDA notebook that consisted of only 6 carriers, here I will be including all Middle Eastern carriers."
   ]
  },
  {
   "cell_type": "code",
   "execution_count": 5,
   "metadata": {},
   "outputs": [
    {
     "data": {
      "text/plain": [
       "array(['Turkish Airlines', 'Qatar Airways', 'Emirates', 'Lufthansa',\n",
       "       'KLM Royal Dutch Airlines', 'Virgin America', 'American Airlines',\n",
       "       'Delta Air Lines', 'Southwest Airlines', 'United Airlines',\n",
       "       'Jetblue Airways', 'Aegean Airlines', 'Aeroflot Russian Airlines',\n",
       "       'Aeromexico', 'Air Canada', 'Air New Zealand', 'Alitalia',\n",
       "       'AirAsia', 'Asiana Airlines', 'Avianca', 'Austrian Airlines',\n",
       "       'British Airways', 'Brussels Airlines', 'China Eastern Airlines',\n",
       "       'China Southern Airlines', 'Copa Airlines', 'Ethiopian Airlines',\n",
       "       'Egyptair', 'Finnair', 'Iberia', 'ANA All Nippon Airways',\n",
       "       'easyJet', 'Korean Air', 'LATAM Airlines', 'LOT Polish Airlines',\n",
       "       'Qantas Airways', 'Air France', 'Etihad Airways',\n",
       "       'Pegasus Airlines', 'Royal Jordanian Airlines', 'Ryanair',\n",
       "       'South African Airways', 'Saudi Arabian Airlines', 'TAP Portugal',\n",
       "       'Eurowings', 'EVA Air', 'Royal Air Maroc', 'Singapore Airlines',\n",
       "       'SAS Scandinavian', 'Swiss Intl Air Lines', 'Thai Airways',\n",
       "       'Wizz Air', 'Spirit Airlines', 'TAROM Romanian',\n",
       "       'Vueling Airlines', 'Sunwing Airlines', 'QantasLink',\n",
       "       'Bangkok Airways', 'flydubai', 'Garuda Indonesia', 'Germanwings',\n",
       "       'Frontier Airlines', 'Icelandair', 'IndiGo', 'Aer Lingus',\n",
       "       'Adria Airways', 'Air Arabia', 'Alaska Airlines', 'Tunisair',\n",
       "       'Norwegian', 'Thai Smile Airways', 'Gulf Air', 'Kuwait Airways',\n",
       "       'WOW air', 'Ukraine International'], dtype=object)"
      ]
     },
     "execution_count": 5,
     "metadata": {},
     "output_type": "execute_result"
    }
   ],
   "source": [
    "# Check unique number of airlines\n",
    "airlines['airline'].unique()"
   ]
  },
  {
   "cell_type": "markdown",
   "metadata": {},
   "source": [
    "For the Middle Eastern dataframe, the following airlines will be selected - Emirates, Turkish Airlines, Qatar Airways, Egyptair, Etihad Airways, Royal Jordanian Airlines, flydubai, Saudi Arabian Airlines, Air Arabia, Gulf Air, and Kuwait Airways."
   ]
  },
  {
   "cell_type": "code",
   "execution_count": 6,
   "metadata": {},
   "outputs": [],
   "source": [
    "# Create a North American airline dataframe\n",
    "me_airlines = airlines[(airlines['airline'] == 'Turkish Airlines') | (airlines['airline'] == 'Qatar Airways')\n",
    "                      | (airlines['airline'] == 'Egyptair') | (airlines['airline'] == 'Etihad Airways')\n",
    "                      | (airlines['airline'] == 'Royal Jordanian Airlines') | (airlines['airline'] == 'flydubai')\n",
    "                      | (airlines['airline'] == 'Saudi Arabian Airlines') | (airlines['airline'] == 'Air Arabia') \n",
    "                      | (airlines['airline'] == 'Gulf Air') | (airlines['airline'] == 'Kuwait Airways')\n",
    "                       | (airlines['airline'] == 'Emirates')\n",
    "                      ]"
   ]
  },
  {
   "cell_type": "code",
   "execution_count": 7,
   "metadata": {},
   "outputs": [
    {
     "data": {
      "text/plain": [
       "(4598, 18)"
      ]
     },
     "execution_count": 7,
     "metadata": {},
     "output_type": "execute_result"
    }
   ],
   "source": [
    "# Check shape of new dataframe\n",
    "me_airlines.shape"
   ]
  },
  {
   "cell_type": "markdown",
   "metadata": {},
   "source": [
    "Save the Middle Eastern Airlines dataframe as its own CSV file.\n"
   ]
  },
  {
   "cell_type": "code",
   "execution_count": 8,
   "metadata": {},
   "outputs": [],
   "source": [
    "me_airlines.to_csv('me_airlines.csv', index=False)"
   ]
  },
  {
   "cell_type": "markdown",
   "metadata": {},
   "source": [
    "I have a nice 3480 row by 18 column dataframe consisting of Middle Eastern carriers. Before we begin One-Hot Encoding the categorical variables, let's have a quick look at the target column to check if there's any class imbalance. "
   ]
  },
  {
   "cell_type": "code",
   "execution_count": 9,
   "metadata": {},
   "outputs": [
    {
     "data": {
      "image/png": "[encoded data removed]",
      "text/plain": [
       "<Figure size 720x432 with 1 Axes>"
      ]
     },
     "metadata": {
      "needs_background": "light"
     },
     "output_type": "display_data"
    }
   ],
   "source": [
    "recommended_totals = me_airlines['recommended']\n",
    "\n",
    "plt.figure(figsize=(10,6))\n",
    "sns.histplot(x=recommended_totals, discrete=True, shrink=0.8)\n",
    "plt.xlabel('Yes/No Recommendation')\n",
    "plt.ylabel('Count')\n",
    "plt.title(\"Yes/No Distribution - Non-binarized 'recommended'\")\n",
    "\n",
    "plt.show()"
   ]
  },
  {
   "cell_type": "markdown",
   "metadata": {},
   "source": [
    "I can see there isn't any significant class imbalance between the 'Yes Recommend' (1) and 'No Recommend' (0)."
   ]
  },
  {
   "cell_type": "markdown",
   "metadata": {},
   "source": [
    "SIDE NOTE: Please don't mark this code below. It's code I plan to keep for later iterations!"
   ]
  },
  {
   "cell_type": "code",
   "execution_count": 10,
   "metadata": {},
   "outputs": [],
   "source": [
    "#def classify_score(me_airlines_row):\n",
    "#    \"\"\"\n",
    "#    INPUT: \n",
    "#    row\n",
    "#    \n",
    "#    OUTPUT:\n",
    "#    - positive if the overall score is >=7\n",
    "#    - neutral if the overall score is 5 or 6\n",
    "#    - negative if the overall score is <= 4\n",
    "#    \"\"\"\n",
    "#    \n",
    "#    if (me_airlines_row['overall'] <= 4):\n",
    "#        classify_score = 'negative'\n",
    "#    elif (me_airlines_row['overall'] > 4 and me_airlines_row['overall'] <=6):\n",
    "#       classify_score = 'neutral'\n",
    "#    else:\n",
    "#        classify_score = 'positive'\n",
    "#        \n",
    "#    return classify_score\n",
    "\n",
    "# me_airlines['classify_experience'] = me_airlines.apply(lambda x: classify_score(x), axis=1)"
   ]
  },
  {
   "cell_type": "markdown",
   "metadata": {},
   "source": [
    "I can now move onto One-Hot Encoding the categorical columns - `airline`, `cabin`, `traveller_type`, `origin` and `destination` - to get my dataframe ready for modelling."
   ]
  },
  {
   "cell_type": "markdown",
   "metadata": {},
   "source": [
    "### 2. Feature Engineering"
   ]
  },
  {
   "cell_type": "markdown",
   "metadata": {},
   "source": [
    "Time to One-Hot Encode the categorical variables!"
   ]
  },
  {
   "cell_type": "markdown",
   "metadata": {},
   "source": [
    "#### `Airline`"
   ]
  },
  {
   "cell_type": "code",
   "execution_count": 11,
   "metadata": {},
   "outputs": [
    {
     "data": {
      "text/plain": [
       "<4598x11 sparse matrix of type '<class 'numpy.float64'>'\n",
       "\twith 4598 stored elements in Compressed Sparse Row format>"
      ]
     },
     "execution_count": 11,
     "metadata": {},
     "output_type": "execute_result"
    }
   ],
   "source": [
    "# Using OneHotEncoder to encode the airline column\n",
    "ohe = OneHotEncoder()\n",
    "\n",
    "# Fit the OneHotEncoder to the bookings column and transform\n",
    "# Expects a 2D array\n",
    "me_airlines_df = pd.DataFrame(me_airlines['airline'])\n",
    "ohe_me_airline = ohe.fit_transform(me_airlines_df)\n",
    "\n",
    "ohe_me_airline"
   ]
  },
  {
   "cell_type": "markdown",
   "metadata": {},
   "source": [
    "Thanks to One-Hot Encoding, I now have a sparse matrix that has the same number of rows as my North American carrier dataset, but now with 10 new airline columns."
   ]
  },
  {
   "cell_type": "code",
   "execution_count": 12,
   "metadata": {},
   "outputs": [],
   "source": [
    "# Convert the sparse matrix to a dense matrix\n",
    "ohe_me_airline_dense = ohe_me_airline.toarray()\n",
    "\n",
    "me_airlines_df = pd.DataFrame(ohe_me_airline_dense, columns=ohe.categories_[0]).astype('int')"
   ]
  },
  {
   "cell_type": "code",
   "execution_count": 13,
   "metadata": {},
   "outputs": [
    {
     "data": {
      "text/html": [
       "<div>\n",
       "<style scoped>\n",
       "    .dataframe tbody tr th:only-of-type {\n",
       "        vertical-align: middle;\n",
       "    }\n",
       "\n",
       "    .dataframe tbody tr th {\n",
       "        vertical-align: top;\n",
       "    }\n",
       "\n",
       "    .dataframe thead th {\n",
       "        text-align: right;\n",
       "    }\n",
       "</style>\n",
       "<table border=\"1\" class=\"dataframe\">\n",
       "  <thead>\n",
       "    <tr style=\"text-align: right;\">\n",
       "      <th></th>\n",
       "      <th>Air Arabia</th>\n",
       "      <th>Egyptair</th>\n",
       "      <th>Emirates</th>\n",
       "      <th>Etihad Airways</th>\n",
       "      <th>Gulf Air</th>\n",
       "      <th>Kuwait Airways</th>\n",
       "      <th>Qatar Airways</th>\n",
       "      <th>Royal Jordanian Airlines</th>\n",
       "      <th>Saudi Arabian Airlines</th>\n",
       "      <th>Turkish Airlines</th>\n",
       "      <th>flydubai</th>\n",
       "    </tr>\n",
       "  </thead>\n",
       "  <tbody>\n",
       "    <tr>\n",
       "      <th>0</th>\n",
       "      <td>0</td>\n",
       "      <td>0</td>\n",
       "      <td>0</td>\n",
       "      <td>0</td>\n",
       "      <td>0</td>\n",
       "      <td>0</td>\n",
       "      <td>0</td>\n",
       "      <td>0</td>\n",
       "      <td>0</td>\n",
       "      <td>1</td>\n",
       "      <td>0</td>\n",
       "    </tr>\n",
       "    <tr>\n",
       "      <th>1</th>\n",
       "      <td>0</td>\n",
       "      <td>0</td>\n",
       "      <td>0</td>\n",
       "      <td>0</td>\n",
       "      <td>0</td>\n",
       "      <td>0</td>\n",
       "      <td>0</td>\n",
       "      <td>0</td>\n",
       "      <td>0</td>\n",
       "      <td>1</td>\n",
       "      <td>0</td>\n",
       "    </tr>\n",
       "    <tr>\n",
       "      <th>2</th>\n",
       "      <td>0</td>\n",
       "      <td>0</td>\n",
       "      <td>0</td>\n",
       "      <td>0</td>\n",
       "      <td>0</td>\n",
       "      <td>0</td>\n",
       "      <td>0</td>\n",
       "      <td>0</td>\n",
       "      <td>0</td>\n",
       "      <td>1</td>\n",
       "      <td>0</td>\n",
       "    </tr>\n",
       "    <tr>\n",
       "      <th>3</th>\n",
       "      <td>0</td>\n",
       "      <td>0</td>\n",
       "      <td>0</td>\n",
       "      <td>0</td>\n",
       "      <td>0</td>\n",
       "      <td>0</td>\n",
       "      <td>0</td>\n",
       "      <td>0</td>\n",
       "      <td>0</td>\n",
       "      <td>1</td>\n",
       "      <td>0</td>\n",
       "    </tr>\n",
       "    <tr>\n",
       "      <th>4</th>\n",
       "      <td>0</td>\n",
       "      <td>0</td>\n",
       "      <td>0</td>\n",
       "      <td>0</td>\n",
       "      <td>0</td>\n",
       "      <td>0</td>\n",
       "      <td>0</td>\n",
       "      <td>0</td>\n",
       "      <td>0</td>\n",
       "      <td>1</td>\n",
       "      <td>0</td>\n",
       "    </tr>\n",
       "  </tbody>\n",
       "</table>\n",
       "</div>"
      ],
      "text/plain": [
       "   Air Arabia  Egyptair  Emirates  Etihad Airways  Gulf Air  Kuwait Airways  \\\n",
       "0           0         0         0               0         0               0   \n",
       "1           0         0         0               0         0               0   \n",
       "2           0         0         0               0         0               0   \n",
       "3           0         0         0               0         0               0   \n",
       "4           0         0         0               0         0               0   \n",
       "\n",
       "   Qatar Airways  Royal Jordanian Airlines  Saudi Arabian Airlines  \\\n",
       "0              0                         0                       0   \n",
       "1              0                         0                       0   \n",
       "2              0                         0                       0   \n",
       "3              0                         0                       0   \n",
       "4              0                         0                       0   \n",
       "\n",
       "   Turkish Airlines  flydubai  \n",
       "0                 1         0  \n",
       "1                 1         0  \n",
       "2                 1         0  \n",
       "3                 1         0  \n",
       "4                 1         0  "
      ]
     },
     "execution_count": 13,
     "metadata": {},
     "output_type": "execute_result"
    }
   ],
   "source": [
    "# Inspect the airline columns\n",
    "me_airlines_df.head()"
   ]
  },
  {
   "cell_type": "markdown",
   "metadata": {},
   "source": [
    "Add the dataframe above to the `na_airlines` dataframe."
   ]
  },
  {
   "cell_type": "code",
   "execution_count": 14,
   "metadata": {},
   "outputs": [],
   "source": [
    "me_airlines = pd.concat([me_airlines, me_airlines_df.set_index(me_airlines.index)], axis=1)"
   ]
  },
  {
   "cell_type": "markdown",
   "metadata": {},
   "source": [
    "I can now drop the original `airline` column."
   ]
  },
  {
   "cell_type": "code",
   "execution_count": 15,
   "metadata": {},
   "outputs": [
    {
     "data": {
      "text/html": [
       "<div>\n",
       "<style scoped>\n",
       "    .dataframe tbody tr th:only-of-type {\n",
       "        vertical-align: middle;\n",
       "    }\n",
       "\n",
       "    .dataframe tbody tr th {\n",
       "        vertical-align: top;\n",
       "    }\n",
       "\n",
       "    .dataframe thead th {\n",
       "        text-align: right;\n",
       "    }\n",
       "</style>\n",
       "<table border=\"1\" class=\"dataframe\">\n",
       "  <thead>\n",
       "    <tr style=\"text-align: right;\">\n",
       "      <th></th>\n",
       "      <th>overall</th>\n",
       "      <th>customer_review</th>\n",
       "      <th>traveller_type</th>\n",
       "      <th>cabin</th>\n",
       "      <th>seat_comfort</th>\n",
       "      <th>cabin_service</th>\n",
       "      <th>food_bev</th>\n",
       "      <th>entertainment</th>\n",
       "      <th>ground_service</th>\n",
       "      <th>value_for_money</th>\n",
       "      <th>...</th>\n",
       "      <th>Egyptair</th>\n",
       "      <th>Emirates</th>\n",
       "      <th>Etihad Airways</th>\n",
       "      <th>Gulf Air</th>\n",
       "      <th>Kuwait Airways</th>\n",
       "      <th>Qatar Airways</th>\n",
       "      <th>Royal Jordanian Airlines</th>\n",
       "      <th>Saudi Arabian Airlines</th>\n",
       "      <th>Turkish Airlines</th>\n",
       "      <th>flydubai</th>\n",
       "    </tr>\n",
       "  </thead>\n",
       "  <tbody>\n",
       "    <tr>\n",
       "      <th>0</th>\n",
       "      <td>7</td>\n",
       "      <td>✅ Trip Verified | London to Izmir via Istanbul...</td>\n",
       "      <td>Business</td>\n",
       "      <td>Economy Class</td>\n",
       "      <td>4</td>\n",
       "      <td>5</td>\n",
       "      <td>4</td>\n",
       "      <td>4</td>\n",
       "      <td>2</td>\n",
       "      <td>4</td>\n",
       "      <td>...</td>\n",
       "      <td>0</td>\n",
       "      <td>0</td>\n",
       "      <td>0</td>\n",
       "      <td>0</td>\n",
       "      <td>0</td>\n",
       "      <td>0</td>\n",
       "      <td>0</td>\n",
       "      <td>0</td>\n",
       "      <td>1</td>\n",
       "      <td>0</td>\n",
       "    </tr>\n",
       "    <tr>\n",
       "      <th>1</th>\n",
       "      <td>2</td>\n",
       "      <td>✅ Trip Verified | Istanbul to Bucharest. We ma...</td>\n",
       "      <td>Family Leisure</td>\n",
       "      <td>Economy Class</td>\n",
       "      <td>4</td>\n",
       "      <td>1</td>\n",
       "      <td>1</td>\n",
       "      <td>1</td>\n",
       "      <td>1</td>\n",
       "      <td>1</td>\n",
       "      <td>...</td>\n",
       "      <td>0</td>\n",
       "      <td>0</td>\n",
       "      <td>0</td>\n",
       "      <td>0</td>\n",
       "      <td>0</td>\n",
       "      <td>0</td>\n",
       "      <td>0</td>\n",
       "      <td>0</td>\n",
       "      <td>1</td>\n",
       "      <td>0</td>\n",
       "    </tr>\n",
       "    <tr>\n",
       "      <th>2</th>\n",
       "      <td>3</td>\n",
       "      <td>✅ Trip Verified | Rome to Prishtina via Istanb...</td>\n",
       "      <td>Business</td>\n",
       "      <td>Economy Class</td>\n",
       "      <td>1</td>\n",
       "      <td>4</td>\n",
       "      <td>1</td>\n",
       "      <td>3</td>\n",
       "      <td>1</td>\n",
       "      <td>2</td>\n",
       "      <td>...</td>\n",
       "      <td>0</td>\n",
       "      <td>0</td>\n",
       "      <td>0</td>\n",
       "      <td>0</td>\n",
       "      <td>0</td>\n",
       "      <td>0</td>\n",
       "      <td>0</td>\n",
       "      <td>0</td>\n",
       "      <td>1</td>\n",
       "      <td>0</td>\n",
       "    </tr>\n",
       "    <tr>\n",
       "      <th>3</th>\n",
       "      <td>10</td>\n",
       "      <td>✅ Trip Verified | Flew on Turkish Airlines IAD...</td>\n",
       "      <td>Solo Leisure</td>\n",
       "      <td>Economy Class</td>\n",
       "      <td>4</td>\n",
       "      <td>5</td>\n",
       "      <td>5</td>\n",
       "      <td>5</td>\n",
       "      <td>5</td>\n",
       "      <td>5</td>\n",
       "      <td>...</td>\n",
       "      <td>0</td>\n",
       "      <td>0</td>\n",
       "      <td>0</td>\n",
       "      <td>0</td>\n",
       "      <td>0</td>\n",
       "      <td>0</td>\n",
       "      <td>0</td>\n",
       "      <td>0</td>\n",
       "      <td>1</td>\n",
       "      <td>0</td>\n",
       "    </tr>\n",
       "    <tr>\n",
       "      <th>4</th>\n",
       "      <td>1</td>\n",
       "      <td>✅ Trip Verified | Mumbai to Dublin via Istanbu...</td>\n",
       "      <td>Solo Leisure</td>\n",
       "      <td>Economy Class</td>\n",
       "      <td>1</td>\n",
       "      <td>1</td>\n",
       "      <td>1</td>\n",
       "      <td>1</td>\n",
       "      <td>1</td>\n",
       "      <td>1</td>\n",
       "      <td>...</td>\n",
       "      <td>0</td>\n",
       "      <td>0</td>\n",
       "      <td>0</td>\n",
       "      <td>0</td>\n",
       "      <td>0</td>\n",
       "      <td>0</td>\n",
       "      <td>0</td>\n",
       "      <td>0</td>\n",
       "      <td>1</td>\n",
       "      <td>0</td>\n",
       "    </tr>\n",
       "  </tbody>\n",
       "</table>\n",
       "<p>5 rows × 28 columns</p>\n",
       "</div>"
      ],
      "text/plain": [
       "   overall                                    customer_review  traveller_type  \\\n",
       "0        7  ✅ Trip Verified | London to Izmir via Istanbul...        Business   \n",
       "1        2  ✅ Trip Verified | Istanbul to Bucharest. We ma...  Family Leisure   \n",
       "2        3  ✅ Trip Verified | Rome to Prishtina via Istanb...        Business   \n",
       "3       10  ✅ Trip Verified | Flew on Turkish Airlines IAD...    Solo Leisure   \n",
       "4        1  ✅ Trip Verified | Mumbai to Dublin via Istanbu...    Solo Leisure   \n",
       "\n",
       "           cabin  seat_comfort  cabin_service  food_bev  entertainment  \\\n",
       "0  Economy Class             4              5         4              4   \n",
       "1  Economy Class             4              1         1              1   \n",
       "2  Economy Class             1              4         1              3   \n",
       "3  Economy Class             4              5         5              5   \n",
       "4  Economy Class             1              1         1              1   \n",
       "\n",
       "   ground_service  value_for_money  ...  Egyptair Emirates Etihad Airways  \\\n",
       "0               2                4  ...         0        0              0   \n",
       "1               1                1  ...         0        0              0   \n",
       "2               1                2  ...         0        0              0   \n",
       "3               5                5  ...         0        0              0   \n",
       "4               1                1  ...         0        0              0   \n",
       "\n",
       "   Gulf Air  Kuwait Airways  Qatar Airways  Royal Jordanian Airlines  \\\n",
       "0         0               0              0                         0   \n",
       "1         0               0              0                         0   \n",
       "2         0               0              0                         0   \n",
       "3         0               0              0                         0   \n",
       "4         0               0              0                         0   \n",
       "\n",
       "   Saudi Arabian Airlines  Turkish Airlines  flydubai  \n",
       "0                       0                 1         0  \n",
       "1                       0                 1         0  \n",
       "2                       0                 1         0  \n",
       "3                       0                 1         0  \n",
       "4                       0                 1         0  \n",
       "\n",
       "[5 rows x 28 columns]"
      ]
     },
     "execution_count": 15,
     "metadata": {},
     "output_type": "execute_result"
    }
   ],
   "source": [
    "me_airlines.drop(columns='airline', inplace=True)\n",
    "\n",
    "# Check\n",
    "me_airlines.head()"
   ]
  },
  {
   "cell_type": "markdown",
   "metadata": {},
   "source": [
    "I have successfully One-Hot Encoded the `airline` column and dropped it. Let's take care of the `traveller_type` variable next."
   ]
  },
  {
   "cell_type": "markdown",
   "metadata": {},
   "source": [
    "#### `traveller_type`"
   ]
  },
  {
   "cell_type": "code",
   "execution_count": 16,
   "metadata": {},
   "outputs": [
    {
     "data": {
      "text/plain": [
       "<4598x4 sparse matrix of type '<class 'numpy.float64'>'\n",
       "\twith 4598 stored elements in Compressed Sparse Row format>"
      ]
     },
     "execution_count": 16,
     "metadata": {},
     "output_type": "execute_result"
    }
   ],
   "source": [
    "# Fit the OneHotEncoder to the bookings column and transform\n",
    "me_traveller_df = pd.DataFrame(me_airlines['traveller_type'])\n",
    "ohe_me_traveller_df = ohe.fit_transform(me_traveller_df)\n",
    "\n",
    "ohe_me_traveller_df"
   ]
  },
  {
   "cell_type": "code",
   "execution_count": 17,
   "metadata": {},
   "outputs": [
    {
     "data": {
      "text/html": [
       "<div>\n",
       "<style scoped>\n",
       "    .dataframe tbody tr th:only-of-type {\n",
       "        vertical-align: middle;\n",
       "    }\n",
       "\n",
       "    .dataframe tbody tr th {\n",
       "        vertical-align: top;\n",
       "    }\n",
       "\n",
       "    .dataframe thead th {\n",
       "        text-align: right;\n",
       "    }\n",
       "</style>\n",
       "<table border=\"1\" class=\"dataframe\">\n",
       "  <thead>\n",
       "    <tr style=\"text-align: right;\">\n",
       "      <th></th>\n",
       "      <th>Business</th>\n",
       "      <th>Couple Leisure</th>\n",
       "      <th>Family Leisure</th>\n",
       "      <th>Solo Leisure</th>\n",
       "    </tr>\n",
       "  </thead>\n",
       "  <tbody>\n",
       "    <tr>\n",
       "      <th>0</th>\n",
       "      <td>1</td>\n",
       "      <td>0</td>\n",
       "      <td>0</td>\n",
       "      <td>0</td>\n",
       "    </tr>\n",
       "    <tr>\n",
       "      <th>1</th>\n",
       "      <td>0</td>\n",
       "      <td>0</td>\n",
       "      <td>1</td>\n",
       "      <td>0</td>\n",
       "    </tr>\n",
       "    <tr>\n",
       "      <th>2</th>\n",
       "      <td>1</td>\n",
       "      <td>0</td>\n",
       "      <td>0</td>\n",
       "      <td>0</td>\n",
       "    </tr>\n",
       "    <tr>\n",
       "      <th>3</th>\n",
       "      <td>0</td>\n",
       "      <td>0</td>\n",
       "      <td>0</td>\n",
       "      <td>1</td>\n",
       "    </tr>\n",
       "    <tr>\n",
       "      <th>4</th>\n",
       "      <td>0</td>\n",
       "      <td>0</td>\n",
       "      <td>0</td>\n",
       "      <td>1</td>\n",
       "    </tr>\n",
       "  </tbody>\n",
       "</table>\n",
       "</div>"
      ],
      "text/plain": [
       "   Business  Couple Leisure  Family Leisure  Solo Leisure\n",
       "0         1               0               0             0\n",
       "1         0               0               1             0\n",
       "2         1               0               0             0\n",
       "3         0               0               0             1\n",
       "4         0               0               0             1"
      ]
     },
     "execution_count": 17,
     "metadata": {},
     "output_type": "execute_result"
    }
   ],
   "source": [
    "# Convert the sparse matrix to a dense matrix\n",
    "ohe_me_traveller_dense = ohe_me_traveller_df.toarray()\n",
    "\n",
    "me_traveller_df = pd.DataFrame(ohe_me_traveller_dense, columns=ohe.categories_[0]).astype('int')\n",
    "\n",
    "# Inspect\n",
    "me_traveller_df.head()"
   ]
  },
  {
   "cell_type": "markdown",
   "metadata": {},
   "source": [
    "I can now add this dataframe to my North American carriers dataframe."
   ]
  },
  {
   "cell_type": "code",
   "execution_count": 18,
   "metadata": {},
   "outputs": [],
   "source": [
    "me_airlines = pd.concat([me_airlines, me_traveller_df.set_index(me_airlines.index)], axis=1)"
   ]
  },
  {
   "cell_type": "markdown",
   "metadata": {},
   "source": [
    "It's time to drop the `traveller_type` column."
   ]
  },
  {
   "cell_type": "code",
   "execution_count": 19,
   "metadata": {},
   "outputs": [],
   "source": [
    "me_airlines.drop(columns='traveller_type', inplace=True)"
   ]
  },
  {
   "cell_type": "code",
   "execution_count": 20,
   "metadata": {},
   "outputs": [
    {
     "data": {
      "text/html": [
       "<div>\n",
       "<style scoped>\n",
       "    .dataframe tbody tr th:only-of-type {\n",
       "        vertical-align: middle;\n",
       "    }\n",
       "\n",
       "    .dataframe tbody tr th {\n",
       "        vertical-align: top;\n",
       "    }\n",
       "\n",
       "    .dataframe thead th {\n",
       "        text-align: right;\n",
       "    }\n",
       "</style>\n",
       "<table border=\"1\" class=\"dataframe\">\n",
       "  <thead>\n",
       "    <tr style=\"text-align: right;\">\n",
       "      <th></th>\n",
       "      <th>overall</th>\n",
       "      <th>customer_review</th>\n",
       "      <th>cabin</th>\n",
       "      <th>seat_comfort</th>\n",
       "      <th>cabin_service</th>\n",
       "      <th>food_bev</th>\n",
       "      <th>entertainment</th>\n",
       "      <th>ground_service</th>\n",
       "      <th>value_for_money</th>\n",
       "      <th>recommended</th>\n",
       "      <th>...</th>\n",
       "      <th>Kuwait Airways</th>\n",
       "      <th>Qatar Airways</th>\n",
       "      <th>Royal Jordanian Airlines</th>\n",
       "      <th>Saudi Arabian Airlines</th>\n",
       "      <th>Turkish Airlines</th>\n",
       "      <th>flydubai</th>\n",
       "      <th>Business</th>\n",
       "      <th>Couple Leisure</th>\n",
       "      <th>Family Leisure</th>\n",
       "      <th>Solo Leisure</th>\n",
       "    </tr>\n",
       "  </thead>\n",
       "  <tbody>\n",
       "    <tr>\n",
       "      <th>0</th>\n",
       "      <td>7</td>\n",
       "      <td>✅ Trip Verified | London to Izmir via Istanbul...</td>\n",
       "      <td>Economy Class</td>\n",
       "      <td>4</td>\n",
       "      <td>5</td>\n",
       "      <td>4</td>\n",
       "      <td>4</td>\n",
       "      <td>2</td>\n",
       "      <td>4</td>\n",
       "      <td>1</td>\n",
       "      <td>...</td>\n",
       "      <td>0</td>\n",
       "      <td>0</td>\n",
       "      <td>0</td>\n",
       "      <td>0</td>\n",
       "      <td>1</td>\n",
       "      <td>0</td>\n",
       "      <td>1</td>\n",
       "      <td>0</td>\n",
       "      <td>0</td>\n",
       "      <td>0</td>\n",
       "    </tr>\n",
       "    <tr>\n",
       "      <th>1</th>\n",
       "      <td>2</td>\n",
       "      <td>✅ Trip Verified | Istanbul to Bucharest. We ma...</td>\n",
       "      <td>Economy Class</td>\n",
       "      <td>4</td>\n",
       "      <td>1</td>\n",
       "      <td>1</td>\n",
       "      <td>1</td>\n",
       "      <td>1</td>\n",
       "      <td>1</td>\n",
       "      <td>0</td>\n",
       "      <td>...</td>\n",
       "      <td>0</td>\n",
       "      <td>0</td>\n",
       "      <td>0</td>\n",
       "      <td>0</td>\n",
       "      <td>1</td>\n",
       "      <td>0</td>\n",
       "      <td>0</td>\n",
       "      <td>0</td>\n",
       "      <td>1</td>\n",
       "      <td>0</td>\n",
       "    </tr>\n",
       "  </tbody>\n",
       "</table>\n",
       "<p>2 rows × 31 columns</p>\n",
       "</div>"
      ],
      "text/plain": [
       "   overall                                    customer_review          cabin  \\\n",
       "0        7  ✅ Trip Verified | London to Izmir via Istanbul...  Economy Class   \n",
       "1        2  ✅ Trip Verified | Istanbul to Bucharest. We ma...  Economy Class   \n",
       "\n",
       "   seat_comfort  cabin_service  food_bev  entertainment  ground_service  \\\n",
       "0             4              5         4              4               2   \n",
       "1             4              1         1              1               1   \n",
       "\n",
       "   value_for_money  recommended  ... Kuwait Airways Qatar Airways  \\\n",
       "0                4            1  ...              0             0   \n",
       "1                1            0  ...              0             0   \n",
       "\n",
       "   Royal Jordanian Airlines  Saudi Arabian Airlines  Turkish Airlines  \\\n",
       "0                         0                       0                 1   \n",
       "1                         0                       0                 1   \n",
       "\n",
       "   flydubai  Business  Couple Leisure  Family Leisure  Solo Leisure  \n",
       "0         0         1               0               0             0  \n",
       "1         0         0               0               1             0  \n",
       "\n",
       "[2 rows x 31 columns]"
      ]
     },
     "execution_count": 20,
     "metadata": {},
     "output_type": "execute_result"
    }
   ],
   "source": [
    "# Check\n",
    "me_airlines.head(2)"
   ]
  },
  {
   "cell_type": "markdown",
   "metadata": {},
   "source": [
    "Next will be the `cabin` variable."
   ]
  },
  {
   "cell_type": "markdown",
   "metadata": {},
   "source": [
    "#### `cabin`"
   ]
  },
  {
   "cell_type": "code",
   "execution_count": 21,
   "metadata": {},
   "outputs": [
    {
     "data": {
      "text/plain": [
       "<4598x4 sparse matrix of type '<class 'numpy.float64'>'\n",
       "\twith 4598 stored elements in Compressed Sparse Row format>"
      ]
     },
     "execution_count": 21,
     "metadata": {},
     "output_type": "execute_result"
    }
   ],
   "source": [
    "# Fit the OneHotEncoder to the bookings column and transform\n",
    "me_cabin_df = pd.DataFrame(me_airlines['cabin'])\n",
    "ohe_me_cabin_df = ohe.fit_transform(me_cabin_df)\n",
    "\n",
    "ohe_me_cabin_df"
   ]
  },
  {
   "cell_type": "code",
   "execution_count": 22,
   "metadata": {
    "scrolled": true
   },
   "outputs": [
    {
     "data": {
      "text/html": [
       "<div>\n",
       "<style scoped>\n",
       "    .dataframe tbody tr th:only-of-type {\n",
       "        vertical-align: middle;\n",
       "    }\n",
       "\n",
       "    .dataframe tbody tr th {\n",
       "        vertical-align: top;\n",
       "    }\n",
       "\n",
       "    .dataframe thead th {\n",
       "        text-align: right;\n",
       "    }\n",
       "</style>\n",
       "<table border=\"1\" class=\"dataframe\">\n",
       "  <thead>\n",
       "    <tr style=\"text-align: right;\">\n",
       "      <th></th>\n",
       "      <th>Business Class</th>\n",
       "      <th>Economy Class</th>\n",
       "      <th>First Class</th>\n",
       "      <th>Premium Economy</th>\n",
       "    </tr>\n",
       "  </thead>\n",
       "  <tbody>\n",
       "    <tr>\n",
       "      <th>0</th>\n",
       "      <td>0</td>\n",
       "      <td>1</td>\n",
       "      <td>0</td>\n",
       "      <td>0</td>\n",
       "    </tr>\n",
       "    <tr>\n",
       "      <th>1</th>\n",
       "      <td>0</td>\n",
       "      <td>1</td>\n",
       "      <td>0</td>\n",
       "      <td>0</td>\n",
       "    </tr>\n",
       "    <tr>\n",
       "      <th>2</th>\n",
       "      <td>0</td>\n",
       "      <td>1</td>\n",
       "      <td>0</td>\n",
       "      <td>0</td>\n",
       "    </tr>\n",
       "    <tr>\n",
       "      <th>3</th>\n",
       "      <td>0</td>\n",
       "      <td>1</td>\n",
       "      <td>0</td>\n",
       "      <td>0</td>\n",
       "    </tr>\n",
       "    <tr>\n",
       "      <th>4</th>\n",
       "      <td>0</td>\n",
       "      <td>1</td>\n",
       "      <td>0</td>\n",
       "      <td>0</td>\n",
       "    </tr>\n",
       "  </tbody>\n",
       "</table>\n",
       "</div>"
      ],
      "text/plain": [
       "   Business Class  Economy Class  First Class  Premium Economy\n",
       "0               0              1            0                0\n",
       "1               0              1            0                0\n",
       "2               0              1            0                0\n",
       "3               0              1            0                0\n",
       "4               0              1            0                0"
      ]
     },
     "execution_count": 22,
     "metadata": {},
     "output_type": "execute_result"
    }
   ],
   "source": [
    "# Convert the sparse matrix to a dense matrix\n",
    "ohe_me_cabin_dense = ohe_me_cabin_df.toarray()\n",
    "\n",
    "me_cabin_df = pd.DataFrame(ohe_me_cabin_dense, columns=ohe.categories_[0]).astype('int')\n",
    "\n",
    "# Inspect\n",
    "me_cabin_df.head()"
   ]
  },
  {
   "cell_type": "markdown",
   "metadata": {},
   "source": [
    "I can now add this dataframe to my North American carriers dataframe."
   ]
  },
  {
   "cell_type": "code",
   "execution_count": 23,
   "metadata": {},
   "outputs": [
    {
     "data": {
      "text/html": [
       "<div>\n",
       "<style scoped>\n",
       "    .dataframe tbody tr th:only-of-type {\n",
       "        vertical-align: middle;\n",
       "    }\n",
       "\n",
       "    .dataframe tbody tr th {\n",
       "        vertical-align: top;\n",
       "    }\n",
       "\n",
       "    .dataframe thead th {\n",
       "        text-align: right;\n",
       "    }\n",
       "</style>\n",
       "<table border=\"1\" class=\"dataframe\">\n",
       "  <thead>\n",
       "    <tr style=\"text-align: right;\">\n",
       "      <th></th>\n",
       "      <th>overall</th>\n",
       "      <th>customer_review</th>\n",
       "      <th>seat_comfort</th>\n",
       "      <th>cabin_service</th>\n",
       "      <th>food_bev</th>\n",
       "      <th>entertainment</th>\n",
       "      <th>ground_service</th>\n",
       "      <th>value_for_money</th>\n",
       "      <th>recommended</th>\n",
       "      <th>origin</th>\n",
       "      <th>...</th>\n",
       "      <th>Turkish Airlines</th>\n",
       "      <th>flydubai</th>\n",
       "      <th>Business</th>\n",
       "      <th>Couple Leisure</th>\n",
       "      <th>Family Leisure</th>\n",
       "      <th>Solo Leisure</th>\n",
       "      <th>Business Class</th>\n",
       "      <th>Economy Class</th>\n",
       "      <th>First Class</th>\n",
       "      <th>Premium Economy</th>\n",
       "    </tr>\n",
       "  </thead>\n",
       "  <tbody>\n",
       "    <tr>\n",
       "      <th>0</th>\n",
       "      <td>7</td>\n",
       "      <td>✅ Trip Verified | London to Izmir via Istanbul...</td>\n",
       "      <td>4</td>\n",
       "      <td>5</td>\n",
       "      <td>4</td>\n",
       "      <td>4</td>\n",
       "      <td>2</td>\n",
       "      <td>4</td>\n",
       "      <td>1</td>\n",
       "      <td>London</td>\n",
       "      <td>...</td>\n",
       "      <td>1</td>\n",
       "      <td>0</td>\n",
       "      <td>1</td>\n",
       "      <td>0</td>\n",
       "      <td>0</td>\n",
       "      <td>0</td>\n",
       "      <td>0</td>\n",
       "      <td>1</td>\n",
       "      <td>0</td>\n",
       "      <td>0</td>\n",
       "    </tr>\n",
       "    <tr>\n",
       "      <th>1</th>\n",
       "      <td>2</td>\n",
       "      <td>✅ Trip Verified | Istanbul to Bucharest. We ma...</td>\n",
       "      <td>4</td>\n",
       "      <td>1</td>\n",
       "      <td>1</td>\n",
       "      <td>1</td>\n",
       "      <td>1</td>\n",
       "      <td>1</td>\n",
       "      <td>0</td>\n",
       "      <td>Istanbul</td>\n",
       "      <td>...</td>\n",
       "      <td>1</td>\n",
       "      <td>0</td>\n",
       "      <td>0</td>\n",
       "      <td>0</td>\n",
       "      <td>1</td>\n",
       "      <td>0</td>\n",
       "      <td>0</td>\n",
       "      <td>1</td>\n",
       "      <td>0</td>\n",
       "      <td>0</td>\n",
       "    </tr>\n",
       "    <tr>\n",
       "      <th>2</th>\n",
       "      <td>3</td>\n",
       "      <td>✅ Trip Verified | Rome to Prishtina via Istanb...</td>\n",
       "      <td>1</td>\n",
       "      <td>4</td>\n",
       "      <td>1</td>\n",
       "      <td>3</td>\n",
       "      <td>1</td>\n",
       "      <td>2</td>\n",
       "      <td>0</td>\n",
       "      <td>Rome</td>\n",
       "      <td>...</td>\n",
       "      <td>1</td>\n",
       "      <td>0</td>\n",
       "      <td>1</td>\n",
       "      <td>0</td>\n",
       "      <td>0</td>\n",
       "      <td>0</td>\n",
       "      <td>0</td>\n",
       "      <td>1</td>\n",
       "      <td>0</td>\n",
       "      <td>0</td>\n",
       "    </tr>\n",
       "    <tr>\n",
       "      <th>3</th>\n",
       "      <td>10</td>\n",
       "      <td>✅ Trip Verified | Flew on Turkish Airlines IAD...</td>\n",
       "      <td>4</td>\n",
       "      <td>5</td>\n",
       "      <td>5</td>\n",
       "      <td>5</td>\n",
       "      <td>5</td>\n",
       "      <td>5</td>\n",
       "      <td>1</td>\n",
       "      <td>Washington Dulles</td>\n",
       "      <td>...</td>\n",
       "      <td>1</td>\n",
       "      <td>0</td>\n",
       "      <td>0</td>\n",
       "      <td>0</td>\n",
       "      <td>0</td>\n",
       "      <td>1</td>\n",
       "      <td>0</td>\n",
       "      <td>1</td>\n",
       "      <td>0</td>\n",
       "      <td>0</td>\n",
       "    </tr>\n",
       "    <tr>\n",
       "      <th>4</th>\n",
       "      <td>1</td>\n",
       "      <td>✅ Trip Verified | Mumbai to Dublin via Istanbu...</td>\n",
       "      <td>1</td>\n",
       "      <td>1</td>\n",
       "      <td>1</td>\n",
       "      <td>1</td>\n",
       "      <td>1</td>\n",
       "      <td>1</td>\n",
       "      <td>0</td>\n",
       "      <td>Mumbai</td>\n",
       "      <td>...</td>\n",
       "      <td>1</td>\n",
       "      <td>0</td>\n",
       "      <td>0</td>\n",
       "      <td>0</td>\n",
       "      <td>0</td>\n",
       "      <td>1</td>\n",
       "      <td>0</td>\n",
       "      <td>1</td>\n",
       "      <td>0</td>\n",
       "      <td>0</td>\n",
       "    </tr>\n",
       "  </tbody>\n",
       "</table>\n",
       "<p>5 rows × 34 columns</p>\n",
       "</div>"
      ],
      "text/plain": [
       "   overall                                    customer_review  seat_comfort  \\\n",
       "0        7  ✅ Trip Verified | London to Izmir via Istanbul...             4   \n",
       "1        2  ✅ Trip Verified | Istanbul to Bucharest. We ma...             4   \n",
       "2        3  ✅ Trip Verified | Rome to Prishtina via Istanb...             1   \n",
       "3       10  ✅ Trip Verified | Flew on Turkish Airlines IAD...             4   \n",
       "4        1  ✅ Trip Verified | Mumbai to Dublin via Istanbu...             1   \n",
       "\n",
       "   cabin_service  food_bev  entertainment  ground_service  value_for_money  \\\n",
       "0              5         4              4               2                4   \n",
       "1              1         1              1               1                1   \n",
       "2              4         1              3               1                2   \n",
       "3              5         5              5               5                5   \n",
       "4              1         1              1               1                1   \n",
       "\n",
       "   recommended             origin  ... Turkish Airlines  flydubai  Business  \\\n",
       "0            1             London  ...                1         0         1   \n",
       "1            0           Istanbul  ...                1         0         0   \n",
       "2            0               Rome  ...                1         0         1   \n",
       "3            1  Washington Dulles  ...                1         0         0   \n",
       "4            0             Mumbai  ...                1         0         0   \n",
       "\n",
       "   Couple Leisure  Family Leisure  Solo Leisure  Business Class  \\\n",
       "0               0               0             0               0   \n",
       "1               0               1             0               0   \n",
       "2               0               0             0               0   \n",
       "3               0               0             1               0   \n",
       "4               0               0             1               0   \n",
       "\n",
       "   Economy Class  First Class  Premium Economy  \n",
       "0              1            0                0  \n",
       "1              1            0                0  \n",
       "2              1            0                0  \n",
       "3              1            0                0  \n",
       "4              1            0                0  \n",
       "\n",
       "[5 rows x 34 columns]"
      ]
     },
     "execution_count": 23,
     "metadata": {},
     "output_type": "execute_result"
    }
   ],
   "source": [
    "me_airlines = pd.concat([me_airlines, me_cabin_df.set_index(me_airlines.index)], axis=1)\n",
    "\n",
    "# Drop old cabin column\n",
    "me_airlines.drop(columns='cabin', inplace=True)\n",
    "\n",
    "# Check\n",
    "me_airlines.head()"
   ]
  },
  {
   "cell_type": "markdown",
   "metadata": {},
   "source": [
    "Let's do the same process for the `origin` column."
   ]
  },
  {
   "cell_type": "markdown",
   "metadata": {},
   "source": [
    "#### `origin`"
   ]
  },
  {
   "cell_type": "code",
   "execution_count": 24,
   "metadata": {},
   "outputs": [
    {
     "data": {
      "text/plain": [
       "<4598x437 sparse matrix of type '<class 'numpy.float64'>'\n",
       "\twith 4598 stored elements in Compressed Sparse Row format>"
      ]
     },
     "execution_count": 24,
     "metadata": {},
     "output_type": "execute_result"
    }
   ],
   "source": [
    "# Fit the OneHotEncoder to the bookings column and transform\n",
    "me_origin_df = pd.DataFrame(me_airlines['origin'])\n",
    "ohe_me_origin_df = ohe.fit_transform(me_origin_df)\n",
    "\n",
    "ohe_me_origin_df"
   ]
  },
  {
   "cell_type": "code",
   "execution_count": 25,
   "metadata": {},
   "outputs": [
    {
     "data": {
      "text/html": [
       "<div>\n",
       "<style scoped>\n",
       "    .dataframe tbody tr th:only-of-type {\n",
       "        vertical-align: middle;\n",
       "    }\n",
       "\n",
       "    .dataframe tbody tr th {\n",
       "        vertical-align: top;\n",
       "    }\n",
       "\n",
       "    .dataframe thead th {\n",
       "        text-align: right;\n",
       "    }\n",
       "</style>\n",
       "<table border=\"1\" class=\"dataframe\">\n",
       "  <thead>\n",
       "    <tr style=\"text-align: right;\">\n",
       "      <th></th>\n",
       "      <th>ABJ</th>\n",
       "      <th>ABV</th>\n",
       "      <th>ACC</th>\n",
       "      <th>ADD</th>\n",
       "      <th>ADL</th>\n",
       "      <th>AGP</th>\n",
       "      <th>ALA</th>\n",
       "      <th>ALG</th>\n",
       "      <th>AMD</th>\n",
       "      <th>AMM</th>\n",
       "      <th>...</th>\n",
       "      <th>ZAG</th>\n",
       "      <th>Zagreb</th>\n",
       "      <th>Zanzibar</th>\n",
       "      <th>Zurich</th>\n",
       "      <th>Zürich</th>\n",
       "      <th>cape town</th>\n",
       "      <th>istambul</th>\n",
       "      <th>istanbul</th>\n",
       "      <th>manchester</th>\n",
       "      <th>İstanbul</th>\n",
       "    </tr>\n",
       "  </thead>\n",
       "  <tbody>\n",
       "    <tr>\n",
       "      <th>0</th>\n",
       "      <td>0</td>\n",
       "      <td>0</td>\n",
       "      <td>0</td>\n",
       "      <td>0</td>\n",
       "      <td>0</td>\n",
       "      <td>0</td>\n",
       "      <td>0</td>\n",
       "      <td>0</td>\n",
       "      <td>0</td>\n",
       "      <td>0</td>\n",
       "      <td>...</td>\n",
       "      <td>0</td>\n",
       "      <td>0</td>\n",
       "      <td>0</td>\n",
       "      <td>0</td>\n",
       "      <td>0</td>\n",
       "      <td>0</td>\n",
       "      <td>0</td>\n",
       "      <td>0</td>\n",
       "      <td>0</td>\n",
       "      <td>0</td>\n",
       "    </tr>\n",
       "    <tr>\n",
       "      <th>1</th>\n",
       "      <td>0</td>\n",
       "      <td>0</td>\n",
       "      <td>0</td>\n",
       "      <td>0</td>\n",
       "      <td>0</td>\n",
       "      <td>0</td>\n",
       "      <td>0</td>\n",
       "      <td>0</td>\n",
       "      <td>0</td>\n",
       "      <td>0</td>\n",
       "      <td>...</td>\n",
       "      <td>0</td>\n",
       "      <td>0</td>\n",
       "      <td>0</td>\n",
       "      <td>0</td>\n",
       "      <td>0</td>\n",
       "      <td>0</td>\n",
       "      <td>0</td>\n",
       "      <td>0</td>\n",
       "      <td>0</td>\n",
       "      <td>0</td>\n",
       "    </tr>\n",
       "    <tr>\n",
       "      <th>2</th>\n",
       "      <td>0</td>\n",
       "      <td>0</td>\n",
       "      <td>0</td>\n",
       "      <td>0</td>\n",
       "      <td>0</td>\n",
       "      <td>0</td>\n",
       "      <td>0</td>\n",
       "      <td>0</td>\n",
       "      <td>0</td>\n",
       "      <td>0</td>\n",
       "      <td>...</td>\n",
       "      <td>0</td>\n",
       "      <td>0</td>\n",
       "      <td>0</td>\n",
       "      <td>0</td>\n",
       "      <td>0</td>\n",
       "      <td>0</td>\n",
       "      <td>0</td>\n",
       "      <td>0</td>\n",
       "      <td>0</td>\n",
       "      <td>0</td>\n",
       "    </tr>\n",
       "    <tr>\n",
       "      <th>3</th>\n",
       "      <td>0</td>\n",
       "      <td>0</td>\n",
       "      <td>0</td>\n",
       "      <td>0</td>\n",
       "      <td>0</td>\n",
       "      <td>0</td>\n",
       "      <td>0</td>\n",
       "      <td>0</td>\n",
       "      <td>0</td>\n",
       "      <td>0</td>\n",
       "      <td>...</td>\n",
       "      <td>0</td>\n",
       "      <td>0</td>\n",
       "      <td>0</td>\n",
       "      <td>0</td>\n",
       "      <td>0</td>\n",
       "      <td>0</td>\n",
       "      <td>0</td>\n",
       "      <td>0</td>\n",
       "      <td>0</td>\n",
       "      <td>0</td>\n",
       "    </tr>\n",
       "    <tr>\n",
       "      <th>4</th>\n",
       "      <td>0</td>\n",
       "      <td>0</td>\n",
       "      <td>0</td>\n",
       "      <td>0</td>\n",
       "      <td>0</td>\n",
       "      <td>0</td>\n",
       "      <td>0</td>\n",
       "      <td>0</td>\n",
       "      <td>0</td>\n",
       "      <td>0</td>\n",
       "      <td>...</td>\n",
       "      <td>0</td>\n",
       "      <td>0</td>\n",
       "      <td>0</td>\n",
       "      <td>0</td>\n",
       "      <td>0</td>\n",
       "      <td>0</td>\n",
       "      <td>0</td>\n",
       "      <td>0</td>\n",
       "      <td>0</td>\n",
       "      <td>0</td>\n",
       "    </tr>\n",
       "  </tbody>\n",
       "</table>\n",
       "<p>5 rows × 437 columns</p>\n",
       "</div>"
      ],
      "text/plain": [
       "   ABJ  ABV  ACC  ADD  ADL  AGP  ALA  ALG  AMD  AMM  ...  ZAG  Zagreb  \\\n",
       "0    0    0    0    0    0    0    0    0    0    0  ...    0       0   \n",
       "1    0    0    0    0    0    0    0    0    0    0  ...    0       0   \n",
       "2    0    0    0    0    0    0    0    0    0    0  ...    0       0   \n",
       "3    0    0    0    0    0    0    0    0    0    0  ...    0       0   \n",
       "4    0    0    0    0    0    0    0    0    0    0  ...    0       0   \n",
       "\n",
       "   Zanzibar  Zurich  Zürich  cape town  istambul  istanbul  manchester  \\\n",
       "0         0       0       0          0         0         0           0   \n",
       "1         0       0       0          0         0         0           0   \n",
       "2         0       0       0          0         0         0           0   \n",
       "3         0       0       0          0         0         0           0   \n",
       "4         0       0       0          0         0         0           0   \n",
       "\n",
       "   İstanbul  \n",
       "0         0  \n",
       "1         0  \n",
       "2         0  \n",
       "3         0  \n",
       "4         0  \n",
       "\n",
       "[5 rows x 437 columns]"
      ]
     },
     "execution_count": 25,
     "metadata": {},
     "output_type": "execute_result"
    }
   ],
   "source": [
    "# Convert the sparse matrix to a dense matrix\n",
    "ohe_me_origin_dense = ohe_me_origin_df.toarray()\n",
    "\n",
    "me_origin_df = pd.DataFrame(ohe_me_origin_dense, columns=ohe.categories_[0]).astype('int')\n",
    "\n",
    "# Inspect\n",
    "me_origin_df.head()"
   ]
  },
  {
   "cell_type": "code",
   "execution_count": 26,
   "metadata": {},
   "outputs": [
    {
     "data": {
      "text/html": [
       "<div>\n",
       "<style scoped>\n",
       "    .dataframe tbody tr th:only-of-type {\n",
       "        vertical-align: middle;\n",
       "    }\n",
       "\n",
       "    .dataframe tbody tr th {\n",
       "        vertical-align: top;\n",
       "    }\n",
       "\n",
       "    .dataframe thead th {\n",
       "        text-align: right;\n",
       "    }\n",
       "</style>\n",
       "<table border=\"1\" class=\"dataframe\">\n",
       "  <thead>\n",
       "    <tr style=\"text-align: right;\">\n",
       "      <th></th>\n",
       "      <th>overall</th>\n",
       "      <th>customer_review</th>\n",
       "      <th>seat_comfort</th>\n",
       "      <th>cabin_service</th>\n",
       "      <th>food_bev</th>\n",
       "      <th>entertainment</th>\n",
       "      <th>ground_service</th>\n",
       "      <th>value_for_money</th>\n",
       "      <th>recommended</th>\n",
       "      <th>destination</th>\n",
       "      <th>...</th>\n",
       "      <th>ZAG</th>\n",
       "      <th>Zagreb</th>\n",
       "      <th>Zanzibar</th>\n",
       "      <th>Zurich</th>\n",
       "      <th>Zürich</th>\n",
       "      <th>cape town</th>\n",
       "      <th>istambul</th>\n",
       "      <th>istanbul</th>\n",
       "      <th>manchester</th>\n",
       "      <th>İstanbul</th>\n",
       "    </tr>\n",
       "  </thead>\n",
       "  <tbody>\n",
       "    <tr>\n",
       "      <th>0</th>\n",
       "      <td>7</td>\n",
       "      <td>✅ Trip Verified | London to Izmir via Istanbul...</td>\n",
       "      <td>4</td>\n",
       "      <td>5</td>\n",
       "      <td>4</td>\n",
       "      <td>4</td>\n",
       "      <td>2</td>\n",
       "      <td>4</td>\n",
       "      <td>1</td>\n",
       "      <td>Izmir</td>\n",
       "      <td>...</td>\n",
       "      <td>0</td>\n",
       "      <td>0</td>\n",
       "      <td>0</td>\n",
       "      <td>0</td>\n",
       "      <td>0</td>\n",
       "      <td>0</td>\n",
       "      <td>0</td>\n",
       "      <td>0</td>\n",
       "      <td>0</td>\n",
       "      <td>0</td>\n",
       "    </tr>\n",
       "    <tr>\n",
       "      <th>1</th>\n",
       "      <td>2</td>\n",
       "      <td>✅ Trip Verified | Istanbul to Bucharest. We ma...</td>\n",
       "      <td>4</td>\n",
       "      <td>1</td>\n",
       "      <td>1</td>\n",
       "      <td>1</td>\n",
       "      <td>1</td>\n",
       "      <td>1</td>\n",
       "      <td>0</td>\n",
       "      <td>Bucharest</td>\n",
       "      <td>...</td>\n",
       "      <td>0</td>\n",
       "      <td>0</td>\n",
       "      <td>0</td>\n",
       "      <td>0</td>\n",
       "      <td>0</td>\n",
       "      <td>0</td>\n",
       "      <td>0</td>\n",
       "      <td>0</td>\n",
       "      <td>0</td>\n",
       "      <td>0</td>\n",
       "    </tr>\n",
       "    <tr>\n",
       "      <th>2</th>\n",
       "      <td>3</td>\n",
       "      <td>✅ Trip Verified | Rome to Prishtina via Istanb...</td>\n",
       "      <td>1</td>\n",
       "      <td>4</td>\n",
       "      <td>1</td>\n",
       "      <td>3</td>\n",
       "      <td>1</td>\n",
       "      <td>2</td>\n",
       "      <td>0</td>\n",
       "      <td>Prishtina</td>\n",
       "      <td>...</td>\n",
       "      <td>0</td>\n",
       "      <td>0</td>\n",
       "      <td>0</td>\n",
       "      <td>0</td>\n",
       "      <td>0</td>\n",
       "      <td>0</td>\n",
       "      <td>0</td>\n",
       "      <td>0</td>\n",
       "      <td>0</td>\n",
       "      <td>0</td>\n",
       "    </tr>\n",
       "    <tr>\n",
       "      <th>3</th>\n",
       "      <td>10</td>\n",
       "      <td>✅ Trip Verified | Flew on Turkish Airlines IAD...</td>\n",
       "      <td>4</td>\n",
       "      <td>5</td>\n",
       "      <td>5</td>\n",
       "      <td>5</td>\n",
       "      <td>5</td>\n",
       "      <td>5</td>\n",
       "      <td>1</td>\n",
       "      <td>Karachi</td>\n",
       "      <td>...</td>\n",
       "      <td>0</td>\n",
       "      <td>0</td>\n",
       "      <td>0</td>\n",
       "      <td>0</td>\n",
       "      <td>0</td>\n",
       "      <td>0</td>\n",
       "      <td>0</td>\n",
       "      <td>0</td>\n",
       "      <td>0</td>\n",
       "      <td>0</td>\n",
       "    </tr>\n",
       "    <tr>\n",
       "      <th>4</th>\n",
       "      <td>1</td>\n",
       "      <td>✅ Trip Verified | Mumbai to Dublin via Istanbu...</td>\n",
       "      <td>1</td>\n",
       "      <td>1</td>\n",
       "      <td>1</td>\n",
       "      <td>1</td>\n",
       "      <td>1</td>\n",
       "      <td>1</td>\n",
       "      <td>0</td>\n",
       "      <td>Dublin</td>\n",
       "      <td>...</td>\n",
       "      <td>0</td>\n",
       "      <td>0</td>\n",
       "      <td>0</td>\n",
       "      <td>0</td>\n",
       "      <td>0</td>\n",
       "      <td>0</td>\n",
       "      <td>0</td>\n",
       "      <td>0</td>\n",
       "      <td>0</td>\n",
       "      <td>0</td>\n",
       "    </tr>\n",
       "  </tbody>\n",
       "</table>\n",
       "<p>5 rows × 470 columns</p>\n",
       "</div>"
      ],
      "text/plain": [
       "   overall                                    customer_review  seat_comfort  \\\n",
       "0        7  ✅ Trip Verified | London to Izmir via Istanbul...             4   \n",
       "1        2  ✅ Trip Verified | Istanbul to Bucharest. We ma...             4   \n",
       "2        3  ✅ Trip Verified | Rome to Prishtina via Istanb...             1   \n",
       "3       10  ✅ Trip Verified | Flew on Turkish Airlines IAD...             4   \n",
       "4        1  ✅ Trip Verified | Mumbai to Dublin via Istanbu...             1   \n",
       "\n",
       "   cabin_service  food_bev  entertainment  ground_service  value_for_money  \\\n",
       "0              5         4              4               2                4   \n",
       "1              1         1              1               1                1   \n",
       "2              4         1              3               1                2   \n",
       "3              5         5              5               5                5   \n",
       "4              1         1              1               1                1   \n",
       "\n",
       "   recommended destination  ...  ZAG  Zagreb  Zanzibar  Zurich  Zürich  \\\n",
       "0            1       Izmir  ...    0       0         0       0       0   \n",
       "1            0   Bucharest  ...    0       0         0       0       0   \n",
       "2            0   Prishtina  ...    0       0         0       0       0   \n",
       "3            1     Karachi  ...    0       0         0       0       0   \n",
       "4            0      Dublin  ...    0       0         0       0       0   \n",
       "\n",
       "   cape town  istambul  istanbul  manchester  İstanbul  \n",
       "0          0         0         0           0         0  \n",
       "1          0         0         0           0         0  \n",
       "2          0         0         0           0         0  \n",
       "3          0         0         0           0         0  \n",
       "4          0         0         0           0         0  \n",
       "\n",
       "[5 rows x 470 columns]"
      ]
     },
     "execution_count": 26,
     "metadata": {},
     "output_type": "execute_result"
    }
   ],
   "source": [
    "me_airlines = pd.concat([me_airlines, me_origin_df.set_index(me_airlines.index)], axis=1)\n",
    "\n",
    "# Drop old cabin column\n",
    "me_airlines.drop(columns='origin', inplace=True)\n",
    "\n",
    "# Check\n",
    "me_airlines.head()"
   ]
  },
  {
   "cell_type": "markdown",
   "metadata": {},
   "source": [
    "And finally, we have the `destination` variable."
   ]
  },
  {
   "cell_type": "markdown",
   "metadata": {},
   "source": [
    "#### `destination`"
   ]
  },
  {
   "cell_type": "code",
   "execution_count": 27,
   "metadata": {},
   "outputs": [
    {
     "data": {
      "text/plain": [
       "<4598x451 sparse matrix of type '<class 'numpy.float64'>'\n",
       "\twith 4598 stored elements in Compressed Sparse Row format>"
      ]
     },
     "execution_count": 27,
     "metadata": {},
     "output_type": "execute_result"
    }
   ],
   "source": [
    "# Fit the OneHotEncoder to the bookings column and transform\n",
    "me_destination_df = pd.DataFrame(me_airlines['destination'])\n",
    "ohe_me_destination_df = ohe.fit_transform(me_destination_df)\n",
    "\n",
    "ohe_me_destination_df"
   ]
  },
  {
   "cell_type": "code",
   "execution_count": 28,
   "metadata": {},
   "outputs": [
    {
     "data": {
      "text/html": [
       "<div>\n",
       "<style scoped>\n",
       "    .dataframe tbody tr th:only-of-type {\n",
       "        vertical-align: middle;\n",
       "    }\n",
       "\n",
       "    .dataframe tbody tr th {\n",
       "        vertical-align: top;\n",
       "    }\n",
       "\n",
       "    .dataframe thead th {\n",
       "        text-align: right;\n",
       "    }\n",
       "</style>\n",
       "<table border=\"1\" class=\"dataframe\">\n",
       "  <thead>\n",
       "    <tr style=\"text-align: right;\">\n",
       "      <th></th>\n",
       "      <th>ABV</th>\n",
       "      <th>ACC</th>\n",
       "      <th>ADB</th>\n",
       "      <th>ADD</th>\n",
       "      <th>ADL</th>\n",
       "      <th>AGP</th>\n",
       "      <th>AIUH</th>\n",
       "      <th>ALA</th>\n",
       "      <th>AMD</th>\n",
       "      <th>AMM</th>\n",
       "      <th>...</th>\n",
       "      <th>ZAG</th>\n",
       "      <th>Zagreb</th>\n",
       "      <th>Zanzibar</th>\n",
       "      <th>Zurich</th>\n",
       "      <th>bodrum</th>\n",
       "      <th>brussels</th>\n",
       "      <th>cairo</th>\n",
       "      <th>dxb</th>\n",
       "      <th>goa</th>\n",
       "      <th>İstanbul</th>\n",
       "    </tr>\n",
       "  </thead>\n",
       "  <tbody>\n",
       "    <tr>\n",
       "      <th>0</th>\n",
       "      <td>0</td>\n",
       "      <td>0</td>\n",
       "      <td>0</td>\n",
       "      <td>0</td>\n",
       "      <td>0</td>\n",
       "      <td>0</td>\n",
       "      <td>0</td>\n",
       "      <td>0</td>\n",
       "      <td>0</td>\n",
       "      <td>0</td>\n",
       "      <td>...</td>\n",
       "      <td>0</td>\n",
       "      <td>0</td>\n",
       "      <td>0</td>\n",
       "      <td>0</td>\n",
       "      <td>0</td>\n",
       "      <td>0</td>\n",
       "      <td>0</td>\n",
       "      <td>0</td>\n",
       "      <td>0</td>\n",
       "      <td>0</td>\n",
       "    </tr>\n",
       "    <tr>\n",
       "      <th>1</th>\n",
       "      <td>0</td>\n",
       "      <td>0</td>\n",
       "      <td>0</td>\n",
       "      <td>0</td>\n",
       "      <td>0</td>\n",
       "      <td>0</td>\n",
       "      <td>0</td>\n",
       "      <td>0</td>\n",
       "      <td>0</td>\n",
       "      <td>0</td>\n",
       "      <td>...</td>\n",
       "      <td>0</td>\n",
       "      <td>0</td>\n",
       "      <td>0</td>\n",
       "      <td>0</td>\n",
       "      <td>0</td>\n",
       "      <td>0</td>\n",
       "      <td>0</td>\n",
       "      <td>0</td>\n",
       "      <td>0</td>\n",
       "      <td>0</td>\n",
       "    </tr>\n",
       "    <tr>\n",
       "      <th>2</th>\n",
       "      <td>0</td>\n",
       "      <td>0</td>\n",
       "      <td>0</td>\n",
       "      <td>0</td>\n",
       "      <td>0</td>\n",
       "      <td>0</td>\n",
       "      <td>0</td>\n",
       "      <td>0</td>\n",
       "      <td>0</td>\n",
       "      <td>0</td>\n",
       "      <td>...</td>\n",
       "      <td>0</td>\n",
       "      <td>0</td>\n",
       "      <td>0</td>\n",
       "      <td>0</td>\n",
       "      <td>0</td>\n",
       "      <td>0</td>\n",
       "      <td>0</td>\n",
       "      <td>0</td>\n",
       "      <td>0</td>\n",
       "      <td>0</td>\n",
       "    </tr>\n",
       "    <tr>\n",
       "      <th>3</th>\n",
       "      <td>0</td>\n",
       "      <td>0</td>\n",
       "      <td>0</td>\n",
       "      <td>0</td>\n",
       "      <td>0</td>\n",
       "      <td>0</td>\n",
       "      <td>0</td>\n",
       "      <td>0</td>\n",
       "      <td>0</td>\n",
       "      <td>0</td>\n",
       "      <td>...</td>\n",
       "      <td>0</td>\n",
       "      <td>0</td>\n",
       "      <td>0</td>\n",
       "      <td>0</td>\n",
       "      <td>0</td>\n",
       "      <td>0</td>\n",
       "      <td>0</td>\n",
       "      <td>0</td>\n",
       "      <td>0</td>\n",
       "      <td>0</td>\n",
       "    </tr>\n",
       "    <tr>\n",
       "      <th>4</th>\n",
       "      <td>0</td>\n",
       "      <td>0</td>\n",
       "      <td>0</td>\n",
       "      <td>0</td>\n",
       "      <td>0</td>\n",
       "      <td>0</td>\n",
       "      <td>0</td>\n",
       "      <td>0</td>\n",
       "      <td>0</td>\n",
       "      <td>0</td>\n",
       "      <td>...</td>\n",
       "      <td>0</td>\n",
       "      <td>0</td>\n",
       "      <td>0</td>\n",
       "      <td>0</td>\n",
       "      <td>0</td>\n",
       "      <td>0</td>\n",
       "      <td>0</td>\n",
       "      <td>0</td>\n",
       "      <td>0</td>\n",
       "      <td>0</td>\n",
       "    </tr>\n",
       "  </tbody>\n",
       "</table>\n",
       "<p>5 rows × 451 columns</p>\n",
       "</div>"
      ],
      "text/plain": [
       "   ABV  ACC  ADB  ADD  ADL  AGP  AIUH  ALA  AMD  AMM  ...  ZAG  Zagreb  \\\n",
       "0    0    0    0    0    0    0     0    0    0    0  ...    0       0   \n",
       "1    0    0    0    0    0    0     0    0    0    0  ...    0       0   \n",
       "2    0    0    0    0    0    0     0    0    0    0  ...    0       0   \n",
       "3    0    0    0    0    0    0     0    0    0    0  ...    0       0   \n",
       "4    0    0    0    0    0    0     0    0    0    0  ...    0       0   \n",
       "\n",
       "   Zanzibar  Zurich  bodrum  brussels  cairo  dxb  goa  İstanbul  \n",
       "0         0       0       0         0      0    0    0         0  \n",
       "1         0       0       0         0      0    0    0         0  \n",
       "2         0       0       0         0      0    0    0         0  \n",
       "3         0       0       0         0      0    0    0         0  \n",
       "4         0       0       0         0      0    0    0         0  \n",
       "\n",
       "[5 rows x 451 columns]"
      ]
     },
     "execution_count": 28,
     "metadata": {},
     "output_type": "execute_result"
    }
   ],
   "source": [
    "# Convert the sparse matrix to a dense matrix\n",
    "ohe_me_destination_dense = ohe_me_destination_df.toarray()\n",
    "\n",
    "me_destination_df = pd.DataFrame(ohe_me_destination_dense, columns=ohe.categories_[0]).astype('int')\n",
    "\n",
    "# Inspect\n",
    "me_destination_df.head()"
   ]
  },
  {
   "cell_type": "code",
   "execution_count": 29,
   "metadata": {},
   "outputs": [
    {
     "data": {
      "text/html": [
       "<div>\n",
       "<style scoped>\n",
       "    .dataframe tbody tr th:only-of-type {\n",
       "        vertical-align: middle;\n",
       "    }\n",
       "\n",
       "    .dataframe tbody tr th {\n",
       "        vertical-align: top;\n",
       "    }\n",
       "\n",
       "    .dataframe thead th {\n",
       "        text-align: right;\n",
       "    }\n",
       "</style>\n",
       "<table border=\"1\" class=\"dataframe\">\n",
       "  <thead>\n",
       "    <tr style=\"text-align: right;\">\n",
       "      <th></th>\n",
       "      <th>overall</th>\n",
       "      <th>customer_review</th>\n",
       "      <th>seat_comfort</th>\n",
       "      <th>cabin_service</th>\n",
       "      <th>food_bev</th>\n",
       "      <th>entertainment</th>\n",
       "      <th>ground_service</th>\n",
       "      <th>value_for_money</th>\n",
       "      <th>recommended</th>\n",
       "      <th>week_of_year</th>\n",
       "      <th>...</th>\n",
       "      <th>ZAG</th>\n",
       "      <th>Zagreb</th>\n",
       "      <th>Zanzibar</th>\n",
       "      <th>Zurich</th>\n",
       "      <th>bodrum</th>\n",
       "      <th>brussels</th>\n",
       "      <th>cairo</th>\n",
       "      <th>dxb</th>\n",
       "      <th>goa</th>\n",
       "      <th>İstanbul</th>\n",
       "    </tr>\n",
       "  </thead>\n",
       "  <tbody>\n",
       "    <tr>\n",
       "      <th>0</th>\n",
       "      <td>7</td>\n",
       "      <td>✅ Trip Verified | London to Izmir via Istanbul...</td>\n",
       "      <td>4</td>\n",
       "      <td>5</td>\n",
       "      <td>4</td>\n",
       "      <td>4</td>\n",
       "      <td>2</td>\n",
       "      <td>4</td>\n",
       "      <td>1</td>\n",
       "      <td>19</td>\n",
       "      <td>...</td>\n",
       "      <td>0</td>\n",
       "      <td>0</td>\n",
       "      <td>0</td>\n",
       "      <td>0</td>\n",
       "      <td>0</td>\n",
       "      <td>0</td>\n",
       "      <td>0</td>\n",
       "      <td>0</td>\n",
       "      <td>0</td>\n",
       "      <td>0</td>\n",
       "    </tr>\n",
       "    <tr>\n",
       "      <th>1</th>\n",
       "      <td>2</td>\n",
       "      <td>✅ Trip Verified | Istanbul to Bucharest. We ma...</td>\n",
       "      <td>4</td>\n",
       "      <td>1</td>\n",
       "      <td>1</td>\n",
       "      <td>1</td>\n",
       "      <td>1</td>\n",
       "      <td>1</td>\n",
       "      <td>0</td>\n",
       "      <td>19</td>\n",
       "      <td>...</td>\n",
       "      <td>0</td>\n",
       "      <td>0</td>\n",
       "      <td>0</td>\n",
       "      <td>0</td>\n",
       "      <td>0</td>\n",
       "      <td>0</td>\n",
       "      <td>0</td>\n",
       "      <td>0</td>\n",
       "      <td>0</td>\n",
       "      <td>0</td>\n",
       "    </tr>\n",
       "    <tr>\n",
       "      <th>2</th>\n",
       "      <td>3</td>\n",
       "      <td>✅ Trip Verified | Rome to Prishtina via Istanb...</td>\n",
       "      <td>1</td>\n",
       "      <td>4</td>\n",
       "      <td>1</td>\n",
       "      <td>3</td>\n",
       "      <td>1</td>\n",
       "      <td>2</td>\n",
       "      <td>0</td>\n",
       "      <td>19</td>\n",
       "      <td>...</td>\n",
       "      <td>0</td>\n",
       "      <td>0</td>\n",
       "      <td>0</td>\n",
       "      <td>0</td>\n",
       "      <td>0</td>\n",
       "      <td>0</td>\n",
       "      <td>0</td>\n",
       "      <td>0</td>\n",
       "      <td>0</td>\n",
       "      <td>0</td>\n",
       "    </tr>\n",
       "    <tr>\n",
       "      <th>3</th>\n",
       "      <td>10</td>\n",
       "      <td>✅ Trip Verified | Flew on Turkish Airlines IAD...</td>\n",
       "      <td>4</td>\n",
       "      <td>5</td>\n",
       "      <td>5</td>\n",
       "      <td>5</td>\n",
       "      <td>5</td>\n",
       "      <td>5</td>\n",
       "      <td>1</td>\n",
       "      <td>19</td>\n",
       "      <td>...</td>\n",
       "      <td>0</td>\n",
       "      <td>0</td>\n",
       "      <td>0</td>\n",
       "      <td>0</td>\n",
       "      <td>0</td>\n",
       "      <td>0</td>\n",
       "      <td>0</td>\n",
       "      <td>0</td>\n",
       "      <td>0</td>\n",
       "      <td>0</td>\n",
       "    </tr>\n",
       "    <tr>\n",
       "      <th>4</th>\n",
       "      <td>1</td>\n",
       "      <td>✅ Trip Verified | Mumbai to Dublin via Istanbu...</td>\n",
       "      <td>1</td>\n",
       "      <td>1</td>\n",
       "      <td>1</td>\n",
       "      <td>1</td>\n",
       "      <td>1</td>\n",
       "      <td>1</td>\n",
       "      <td>0</td>\n",
       "      <td>19</td>\n",
       "      <td>...</td>\n",
       "      <td>0</td>\n",
       "      <td>0</td>\n",
       "      <td>0</td>\n",
       "      <td>0</td>\n",
       "      <td>0</td>\n",
       "      <td>0</td>\n",
       "      <td>0</td>\n",
       "      <td>0</td>\n",
       "      <td>0</td>\n",
       "      <td>0</td>\n",
       "    </tr>\n",
       "  </tbody>\n",
       "</table>\n",
       "<p>5 rows × 920 columns</p>\n",
       "</div>"
      ],
      "text/plain": [
       "   overall                                    customer_review  seat_comfort  \\\n",
       "0        7  ✅ Trip Verified | London to Izmir via Istanbul...             4   \n",
       "1        2  ✅ Trip Verified | Istanbul to Bucharest. We ma...             4   \n",
       "2        3  ✅ Trip Verified | Rome to Prishtina via Istanb...             1   \n",
       "3       10  ✅ Trip Verified | Flew on Turkish Airlines IAD...             4   \n",
       "4        1  ✅ Trip Verified | Mumbai to Dublin via Istanbu...             1   \n",
       "\n",
       "   cabin_service  food_bev  entertainment  ground_service  value_for_money  \\\n",
       "0              5         4              4               2                4   \n",
       "1              1         1              1               1                1   \n",
       "2              4         1              3               1                2   \n",
       "3              5         5              5               5                5   \n",
       "4              1         1              1               1                1   \n",
       "\n",
       "   recommended  week_of_year  ...  ZAG  Zagreb  Zanzibar  Zurich  bodrum  \\\n",
       "0            1            19  ...    0       0         0       0       0   \n",
       "1            0            19  ...    0       0         0       0       0   \n",
       "2            0            19  ...    0       0         0       0       0   \n",
       "3            1            19  ...    0       0         0       0       0   \n",
       "4            0            19  ...    0       0         0       0       0   \n",
       "\n",
       "   brussels  cairo  dxb  goa  İstanbul  \n",
       "0         0      0    0    0         0  \n",
       "1         0      0    0    0         0  \n",
       "2         0      0    0    0         0  \n",
       "3         0      0    0    0         0  \n",
       "4         0      0    0    0         0  \n",
       "\n",
       "[5 rows x 920 columns]"
      ]
     },
     "execution_count": 29,
     "metadata": {},
     "output_type": "execute_result"
    }
   ],
   "source": [
    "me_airlines = pd.concat([me_airlines, me_destination_df.set_index(me_airlines.index)], axis=1)\n",
    "\n",
    "# Drop old cabin column\n",
    "me_airlines.drop(columns='destination', inplace=True)\n",
    "\n",
    "# Check\n",
    "me_airlines.head()"
   ]
  },
  {
   "cell_type": "code",
   "execution_count": 30,
   "metadata": {},
   "outputs": [
    {
     "data": {
      "text/plain": [
       "(4598, 920)"
      ]
     },
     "execution_count": 30,
     "metadata": {},
     "output_type": "execute_result"
    }
   ],
   "source": [
    "me_airlines.shape"
   ]
  },
  {
   "cell_type": "markdown",
   "metadata": {},
   "source": [
    "With the categorical variables all converted to binary using One-Hot Encoding, we can move onto extracting the positive and negative sentiment related words from the Middle Eastern carrier dataframe. \n",
    "\n",
    "Before I begin modelling, I'd like to extract the positive and negative words that are associated with 'Yes' recommended flights, and 'No' recommended flights. I will be creating a temporary X and temporary y variable for this section which I will not use during my modelling section.\n",
    "\n",
    "The independent X1 variable will contain only the `customer_review` column while the y1 variable will contain the target column, the `recommended` column. I will also be comparing the `CountVectorizer()` and `TfidfVectorizer()` to see if I get similar negative/positive experience words."
   ]
  },
  {
   "cell_type": "markdown",
   "metadata": {},
   "source": [
    "##### `CountVectorizer()`"
   ]
  },
  {
   "cell_type": "code",
   "execution_count": 30,
   "metadata": {},
   "outputs": [],
   "source": [
    "X1 = me_airlines['customer_review']\n",
    "y1 = me_airlines['recommended']"
   ]
  },
  {
   "cell_type": "code",
   "execution_count": 31,
   "metadata": {},
   "outputs": [],
   "source": [
    "# Perform a train-test split\n",
    "X1_train, X1_test, y1_train, y1_test = train_test_split(X1, y1, \n",
    "                                                    test_size=0.33, \n",
    "                                                    stratify=y1,\n",
    "                                                    random_state=42)"
   ]
  },
  {
   "cell_type": "code",
   "execution_count": 32,
   "metadata": {},
   "outputs": [
    {
     "data": {
      "text/plain": [
       "(3080, 12533)"
      ]
     },
     "execution_count": 32,
     "metadata": {},
     "output_type": "execute_result"
    }
   ],
   "source": [
    "bagofwords_count = CountVectorizer(stop_words=\"english\")\n",
    "bagofwords_count.fit(X1_train)\n",
    "\n",
    "X1_train_transformed = bagofwords_count.transform(X1_train) \n",
    "X1_test_transformed = bagofwords_count.transform(X1_test) \n",
    "\n",
    "X1_train_transformed.shape"
   ]
  },
  {
   "cell_type": "code",
   "execution_count": 33,
   "metadata": {},
   "outputs": [
    {
     "name": "stderr",
     "output_type": "stream",
     "text": [
      "D:\\UDemy\\lib\\site-packages\\sklearn\\utils\\deprecation.py:87: FutureWarning: Function get_feature_names is deprecated; get_feature_names is deprecated in 1.0 and will be removed in 1.2. Please use get_feature_names_out instead.\n",
      "  warnings.warn(msg, category=FutureWarning)\n"
     ]
    }
   ],
   "source": [
    "words = bagofwords_count.get_feature_names()\n",
    "word_counts = X1_train_transformed.toarray().sum(axis=0)"
   ]
  },
  {
   "cell_type": "code",
   "execution_count": 34,
   "metadata": {},
   "outputs": [
    {
     "name": "stdout",
     "output_type": "stream",
     "text": [
      "Train score: 0.9707792207792207\n",
      "Test score: 0.8728590250329381\n"
     ]
    }
   ],
   "source": [
    "# Fitting a model\n",
    "logreg = LogisticRegression(C = 0.1)\n",
    "logreg.fit(X1_train_transformed, y1_train)\n",
    "\n",
    "# Training and test score\n",
    "print(f\"Train score: {logreg.score(X1_train_transformed, y1_train)}\")\n",
    "print(f\"Test score: {logreg.score(X1_test_transformed, y1_test)}\")"
   ]
  },
  {
   "cell_type": "code",
   "execution_count": 35,
   "metadata": {},
   "outputs": [
    {
     "data": {
      "image/png": "[encoded data removed]",
      "text/plain": [
       "<Figure size 720x576 with 2 Axes>"
      ]
     },
     "metadata": {
      "needs_background": "light"
     },
     "output_type": "display_data"
    }
   ],
   "source": [
    "def plot_coefs(logreg, words):\n",
    "    coef_df = pd.DataFrame({\"coefficient\": logreg.coef_[0], \"token\": words})\n",
    "    coef_df = coef_df.sort_values(\"coefficient\", ascending=False)\n",
    "\n",
    "    fig, axs = plt.subplots(2, 1, figsize=(10, 8))\n",
    "\n",
    "    # smallest coefficient -> tokens indicating negative sentiment \n",
    "    coef_df.tail(20).set_index(\"token\").plot(kind=\"bar\", rot=45, ax=axs[0], color=\"red\")\n",
    "    axs[0].set_title(\"Negative indicators\")\n",
    " \n",
    "    \n",
    "    # largest coefficient -> tokens indicating positive sentiment \n",
    "    coef_df.head(20).set_index(\"token\").plot(kind=\"bar\", rot=45, ax=axs[1], color=\"blue\")\n",
    "    axs[1].set_title(\"Positive indicators\")\n",
    "    \n",
    "    \n",
    "    sns.despine()\n",
    "    plt.tight_layout()\n",
    "    plt.show()\n",
    "    \n",
    "plot_coefs(logreg, words)"
   ]
  },
  {
   "cell_type": "markdown",
   "metadata": {},
   "source": [
    "The words most commonly used for a negative review (No Recommend) appear to be - worst, poor, bad, horrible, etc. This is a good start, as the model appears capable of recognizing reviews that led to a 'No Recommend'. \n",
    "\n",
    "It's the same situation for the most commonly used words for a positive review (Yes recommend), with words like excellent, great, good, and attentive being recognized.\n",
    "\n",
    "Next, let's produce a dataframe containing the top 20 positive/negative sentiment words for Middle Eastern carriers."
   ]
  },
  {
   "cell_type": "code",
   "execution_count": 36,
   "metadata": {},
   "outputs": [],
   "source": [
    "# Create the coefficients dataframe\n",
    "coef_df = pd.DataFrame({\"coefficient\": logreg.coef_[0], \"token\": words})\n",
    "coef_df = coef_df.sort_values(\"coefficient\", ascending=False)"
   ]
  },
  {
   "cell_type": "code",
   "execution_count": 37,
   "metadata": {},
   "outputs": [],
   "source": [
    "# Create dataframes for the top 20 positive/negative words\n",
    "coef_df_pos = coef_df.head(20)\n",
    "coef_df_neg = coef_df.tail(20)"
   ]
  },
  {
   "cell_type": "code",
   "execution_count": 38,
   "metadata": {},
   "outputs": [
    {
     "data": {
      "text/html": [
       "<div>\n",
       "<style scoped>\n",
       "    .dataframe tbody tr th:only-of-type {\n",
       "        vertical-align: middle;\n",
       "    }\n",
       "\n",
       "    .dataframe tbody tr th {\n",
       "        vertical-align: top;\n",
       "    }\n",
       "\n",
       "    .dataframe thead th {\n",
       "        text-align: right;\n",
       "    }\n",
       "</style>\n",
       "<table border=\"1\" class=\"dataframe\">\n",
       "  <thead>\n",
       "    <tr style=\"text-align: right;\">\n",
       "      <th></th>\n",
       "      <th>coefficient</th>\n",
       "      <th>token</th>\n",
       "    </tr>\n",
       "  </thead>\n",
       "  <tbody>\n",
       "    <tr>\n",
       "      <th>4608</th>\n",
       "      <td>0.973384</td>\n",
       "      <td>excellent</td>\n",
       "    </tr>\n",
       "    <tr>\n",
       "      <th>1536</th>\n",
       "      <td>0.594991</td>\n",
       "      <td>attentive</td>\n",
       "    </tr>\n",
       "    <tr>\n",
       "      <th>5421</th>\n",
       "      <td>0.567965</td>\n",
       "      <td>good</td>\n",
       "    </tr>\n",
       "    <tr>\n",
       "      <th>2829</th>\n",
       "      <td>0.556180</td>\n",
       "      <td>comfortable</td>\n",
       "    </tr>\n",
       "    <tr>\n",
       "      <th>8791</th>\n",
       "      <td>0.522340</td>\n",
       "      <td>professional</td>\n",
       "    </tr>\n",
       "    <tr>\n",
       "      <th>3595</th>\n",
       "      <td>0.512808</td>\n",
       "      <td>delicious</td>\n",
       "    </tr>\n",
       "    <tr>\n",
       "      <th>5483</th>\n",
       "      <td>0.501427</td>\n",
       "      <td>great</td>\n",
       "    </tr>\n",
       "    <tr>\n",
       "      <th>5204</th>\n",
       "      <td>0.490092</td>\n",
       "      <td>friendly</td>\n",
       "    </tr>\n",
       "    <tr>\n",
       "      <th>8946</th>\n",
       "      <td>0.489451</td>\n",
       "      <td>qatar</td>\n",
       "    </tr>\n",
       "    <tr>\n",
       "      <th>4214</th>\n",
       "      <td>0.403571</td>\n",
       "      <td>easy</td>\n",
       "    </tr>\n",
       "    <tr>\n",
       "      <th>8517</th>\n",
       "      <td>0.402333</td>\n",
       "      <td>plenty</td>\n",
       "    </tr>\n",
       "    <tr>\n",
       "      <th>11156</th>\n",
       "      <td>0.399496</td>\n",
       "      <td>taste</td>\n",
       "    </tr>\n",
       "    <tr>\n",
       "      <th>1189</th>\n",
       "      <td>0.379972</td>\n",
       "      <td>amazing</td>\n",
       "    </tr>\n",
       "    <tr>\n",
       "      <th>8780</th>\n",
       "      <td>0.372954</td>\n",
       "      <td>process</td>\n",
       "    </tr>\n",
       "    <tr>\n",
       "      <th>1505</th>\n",
       "      <td>0.360198</td>\n",
       "      <td>athens</td>\n",
       "    </tr>\n",
       "    <tr>\n",
       "      <th>11163</th>\n",
       "      <td>0.359304</td>\n",
       "      <td>tasty</td>\n",
       "    </tr>\n",
       "    <tr>\n",
       "      <th>10174</th>\n",
       "      <td>0.358099</td>\n",
       "      <td>short</td>\n",
       "    </tr>\n",
       "    <tr>\n",
       "      <th>10969</th>\n",
       "      <td>0.357940</td>\n",
       "      <td>superb</td>\n",
       "    </tr>\n",
       "    <tr>\n",
       "      <th>10411</th>\n",
       "      <td>0.342749</td>\n",
       "      <td>smooth</td>\n",
       "    </tr>\n",
       "    <tr>\n",
       "      <th>2005</th>\n",
       "      <td>0.338018</td>\n",
       "      <td>board</td>\n",
       "    </tr>\n",
       "  </tbody>\n",
       "</table>\n",
       "</div>"
      ],
      "text/plain": [
       "       coefficient         token\n",
       "4608      0.973384     excellent\n",
       "1536      0.594991     attentive\n",
       "5421      0.567965          good\n",
       "2829      0.556180   comfortable\n",
       "8791      0.522340  professional\n",
       "3595      0.512808     delicious\n",
       "5483      0.501427         great\n",
       "5204      0.490092      friendly\n",
       "8946      0.489451         qatar\n",
       "4214      0.403571          easy\n",
       "8517      0.402333        plenty\n",
       "11156     0.399496         taste\n",
       "1189      0.379972       amazing\n",
       "8780      0.372954       process\n",
       "1505      0.360198        athens\n",
       "11163     0.359304         tasty\n",
       "10174     0.358099         short\n",
       "10969     0.357940        superb\n",
       "10411     0.342749        smooth\n",
       "2005      0.338018         board"
      ]
     },
     "execution_count": 38,
     "metadata": {},
     "output_type": "execute_result"
    }
   ],
   "source": [
    "coef_df_pos"
   ]
  },
  {
   "cell_type": "code",
   "execution_count": 39,
   "metadata": {},
   "outputs": [
    {
     "data": {
      "text/html": [
       "<div>\n",
       "<style scoped>\n",
       "    .dataframe tbody tr th:only-of-type {\n",
       "        vertical-align: middle;\n",
       "    }\n",
       "\n",
       "    .dataframe tbody tr th {\n",
       "        vertical-align: top;\n",
       "    }\n",
       "\n",
       "    .dataframe thead th {\n",
       "        text-align: right;\n",
       "    }\n",
       "</style>\n",
       "<table border=\"1\" class=\"dataframe\">\n",
       "  <thead>\n",
       "    <tr style=\"text-align: right;\">\n",
       "      <th></th>\n",
       "      <th>coefficient</th>\n",
       "      <th>token</th>\n",
       "    </tr>\n",
       "  </thead>\n",
       "  <tbody>\n",
       "    <tr>\n",
       "      <th>7986</th>\n",
       "      <td>-0.350568</td>\n",
       "      <td>ordered</td>\n",
       "    </tr>\n",
       "    <tr>\n",
       "      <th>4666</th>\n",
       "      <td>-0.350877</td>\n",
       "      <td>expected</td>\n",
       "    </tr>\n",
       "    <tr>\n",
       "      <th>2172</th>\n",
       "      <td>-0.360364</td>\n",
       "      <td>broken</td>\n",
       "    </tr>\n",
       "    <tr>\n",
       "      <th>12435</th>\n",
       "      <td>-0.375319</td>\n",
       "      <td>worse</td>\n",
       "    </tr>\n",
       "    <tr>\n",
       "      <th>3290</th>\n",
       "      <td>-0.405371</td>\n",
       "      <td>cramped</td>\n",
       "    </tr>\n",
       "    <tr>\n",
       "      <th>11435</th>\n",
       "      <td>-0.410960</td>\n",
       "      <td>told</td>\n",
       "    </tr>\n",
       "    <tr>\n",
       "      <th>6180</th>\n",
       "      <td>-0.428090</td>\n",
       "      <td>informed</td>\n",
       "    </tr>\n",
       "    <tr>\n",
       "      <th>6250</th>\n",
       "      <td>-0.443113</td>\n",
       "      <td>instead</td>\n",
       "    </tr>\n",
       "    <tr>\n",
       "      <th>2504</th>\n",
       "      <td>-0.446575</td>\n",
       "      <td>changed</td>\n",
       "    </tr>\n",
       "    <tr>\n",
       "      <th>10367</th>\n",
       "      <td>-0.457776</td>\n",
       "      <td>slow</td>\n",
       "    </tr>\n",
       "    <tr>\n",
       "      <th>9715</th>\n",
       "      <td>-0.469672</td>\n",
       "      <td>rude</td>\n",
       "    </tr>\n",
       "    <tr>\n",
       "      <th>3833</th>\n",
       "      <td>-0.484343</td>\n",
       "      <td>disappointing</td>\n",
       "    </tr>\n",
       "    <tr>\n",
       "      <th>3816</th>\n",
       "      <td>-0.508463</td>\n",
       "      <td>dirty</td>\n",
       "    </tr>\n",
       "    <tr>\n",
       "      <th>5866</th>\n",
       "      <td>-0.541025</td>\n",
       "      <td>horrible</td>\n",
       "    </tr>\n",
       "    <tr>\n",
       "      <th>11248</th>\n",
       "      <td>-0.541328</td>\n",
       "      <td>terrible</td>\n",
       "    </tr>\n",
       "    <tr>\n",
       "      <th>1682</th>\n",
       "      <td>-0.551780</td>\n",
       "      <td>bad</td>\n",
       "    </tr>\n",
       "    <tr>\n",
       "      <th>11741</th>\n",
       "      <td>-0.600368</td>\n",
       "      <td>uncomfortable</td>\n",
       "    </tr>\n",
       "    <tr>\n",
       "      <th>3832</th>\n",
       "      <td>-0.665208</td>\n",
       "      <td>disappointed</td>\n",
       "    </tr>\n",
       "    <tr>\n",
       "      <th>8566</th>\n",
       "      <td>-0.734146</td>\n",
       "      <td>poor</td>\n",
       "    </tr>\n",
       "    <tr>\n",
       "      <th>12437</th>\n",
       "      <td>-0.948065</td>\n",
       "      <td>worst</td>\n",
       "    </tr>\n",
       "  </tbody>\n",
       "</table>\n",
       "</div>"
      ],
      "text/plain": [
       "       coefficient          token\n",
       "7986     -0.350568        ordered\n",
       "4666     -0.350877       expected\n",
       "2172     -0.360364         broken\n",
       "12435    -0.375319          worse\n",
       "3290     -0.405371        cramped\n",
       "11435    -0.410960           told\n",
       "6180     -0.428090       informed\n",
       "6250     -0.443113        instead\n",
       "2504     -0.446575        changed\n",
       "10367    -0.457776           slow\n",
       "9715     -0.469672           rude\n",
       "3833     -0.484343  disappointing\n",
       "3816     -0.508463          dirty\n",
       "5866     -0.541025       horrible\n",
       "11248    -0.541328       terrible\n",
       "1682     -0.551780            bad\n",
       "11741    -0.600368  uncomfortable\n",
       "3832     -0.665208   disappointed\n",
       "8566     -0.734146           poor\n",
       "12437    -0.948065          worst"
      ]
     },
     "execution_count": 39,
     "metadata": {},
     "output_type": "execute_result"
    }
   ],
   "source": [
    "coef_df_neg"
   ]
  },
  {
   "cell_type": "markdown",
   "metadata": {},
   "source": [
    "We'll try the `TfidfVectorizer` next."
   ]
  },
  {
   "cell_type": "markdown",
   "metadata": {},
   "source": [
    "##### `TfidfVectorizer()`"
   ]
  },
  {
   "cell_type": "code",
   "execution_count": 40,
   "metadata": {},
   "outputs": [
    {
     "data": {
      "text/plain": [
       "(3080, 12533)"
      ]
     },
     "execution_count": 40,
     "metadata": {},
     "output_type": "execute_result"
    }
   ],
   "source": [
    "bagofwords_tfidf = TfidfVectorizer(stop_words=\"english\")\n",
    "bagofwords_tfidf.fit(X1_train)\n",
    "\n",
    "X1_train_transformed = bagofwords_tfidf.transform(X1_train) \n",
    "X1_test_transformed = bagofwords_tfidf.transform(X1_test) \n",
    "\n",
    "X1_train_transformed.shape"
   ]
  },
  {
   "cell_type": "code",
   "execution_count": 41,
   "metadata": {},
   "outputs": [
    {
     "name": "stderr",
     "output_type": "stream",
     "text": [
      "D:\\UDemy\\lib\\site-packages\\sklearn\\utils\\deprecation.py:87: FutureWarning: Function get_feature_names is deprecated; get_feature_names is deprecated in 1.0 and will be removed in 1.2. Please use get_feature_names_out instead.\n",
      "  warnings.warn(msg, category=FutureWarning)\n"
     ]
    }
   ],
   "source": [
    "words_tfidf = bagofwords_tfidf.get_feature_names()\n",
    "word_counts_tfidf = X1_train_transformed.toarray().sum(axis=0)"
   ]
  },
  {
   "cell_type": "code",
   "execution_count": 42,
   "metadata": {},
   "outputs": [
    {
     "name": "stdout",
     "output_type": "stream",
     "text": [
      "Train score: 0.8808441558441559\n",
      "Test score: 0.8563899868247694\n"
     ]
    }
   ],
   "source": [
    "# Fitting a model\n",
    "logreg_tfidf = LogisticRegression(C = 0.1)\n",
    "logreg_tfidf.fit(X1_train_transformed, y1_train)\n",
    "\n",
    "# Training and test score\n",
    "print(f\"Train score: {logreg_tfidf.score(X1_train_transformed, y1_train)}\")\n",
    "print(f\"Test score: {logreg_tfidf.score(X1_test_transformed, y1_test)}\")"
   ]
  },
  {
   "cell_type": "markdown",
   "metadata": {},
   "source": [
    "This is interesting. \n",
    "\n",
    "It appears there is less overfitting when using the `TfidfVectorizer` between the temporary train and test sets, even though the test accuracy (85.20%) for the `TfidfVectorizer()` is roughly 2 percentage points less than the test accuracy (87.38%) of the `CountVectorizer()` method."
   ]
  },
  {
   "cell_type": "code",
   "execution_count": 43,
   "metadata": {},
   "outputs": [
    {
     "data": {
      "image/png": "[encoded data removed]",
      "text/plain": [
       "<Figure size 720x576 with 2 Axes>"
      ]
     },
     "metadata": {
      "needs_background": "light"
     },
     "output_type": "display_data"
    }
   ],
   "source": [
    "def plot_coefs_tfidf(logreg_tfidf, words_tfidf):\n",
    "    coef_df_tfidf = pd.DataFrame({\"coefficient\": logreg_tfidf.coef_[0], \"token\": words_tfidf})\n",
    "    coef_df_tfidf = coef_df_tfidf.sort_values(\"coefficient\", ascending=False)\n",
    "\n",
    "    fig, axs = plt.subplots(2, 1, figsize=(10, 8))\n",
    "\n",
    "    # smallest coefficient -> tokens indicating negative sentiment \n",
    "    coef_df_tfidf.tail(20).set_index(\"token\").plot(kind=\"bar\", rot=45, ax=axs[0], color=\"red\")\n",
    "    axs[0].set_title(\"Negative indicators\")\n",
    " \n",
    "    \n",
    "    # largest coefficient -> tokens indicating positive sentiment \n",
    "    coef_df_tfidf.head(20).set_index(\"token\").plot(kind=\"bar\", rot=45, ax=axs[1], color=\"blue\")\n",
    "    axs[1].set_title(\"Positive indicators\")\n",
    "    \n",
    "    \n",
    "    sns.despine()\n",
    "    plt.tight_layout()\n",
    "    plt.show()\n",
    "    \n",
    "plot_coefs_tfidf(logreg_tfidf, words_tfidf)"
   ]
  },
  {
   "cell_type": "markdown",
   "metadata": {},
   "source": [
    "Using the `TfidfVectorizer()` method, we do get new positive and negative words that help predict whether the review will lead to a Yes or No Recommend. However, it does look like the `TfidfVectorizer()` was able to pick up certain words like *etihad* which, based on the EDA in the previous notebook, was consistently correlated with negative experiences and scores. There's also not as many descriptive, negatively correlated words in the `TfidfVectorizer()` method as in the `CountVectorizer()`. For example, disappointed, uncomfortable, average, dirty, are some words the `TfidfVectorizer()` did not pick up. \n",
    "\n",
    "Negative correlated words picked up in the `TfidfVectorizer()` such as did, hotel, etihad, said, day, are not indicative of negative experiences. \n",
    "\n",
    "Going forward for the modelling, I will be using the `CountVectorizer()` method as this function was able to accurately pick up on key negative words that were used to describe a traveller's overall experience on the flight, regardless of airline flown. "
   ]
  },
  {
   "cell_type": "code",
   "execution_count": 44,
   "metadata": {},
   "outputs": [],
   "source": [
    "# Create a dataframe for the positive/negative sentiment words \n",
    "# Tfidf\n",
    "\n",
    "coef_df_tfidf = pd.DataFrame({\"coefficient\": logreg_tfidf.coef_[0], \"token\": words_tfidf})\n",
    "coef_df_tfidf = coef_df_tfidf.sort_values(\"coefficient\", ascending=False)"
   ]
  },
  {
   "cell_type": "code",
   "execution_count": 45,
   "metadata": {},
   "outputs": [],
   "source": [
    "# Create dataframes for the top 20 positive/negative words\n",
    "tfidf_df_pos = coef_df_tfidf.head(20)\n",
    "tfidf_df_neg = coef_df_tfidf.tail(20)"
   ]
  },
  {
   "cell_type": "markdown",
   "metadata": {},
   "source": [
    "With that out of the way, I can now move onto creating the detailed, and various machine learning models that will attempt to predict whether a flight will be a Yes/No recommend."
   ]
  },
  {
   "cell_type": "markdown",
   "metadata": {},
   "source": [
    "### 3. Data Splitting"
   ]
  },
  {
   "cell_type": "markdown",
   "metadata": {},
   "source": [
    "The first step is to split the data. I will be creating a train, validation, and test set for this process. "
   ]
  },
  {
   "cell_type": "code",
   "execution_count": 46,
   "metadata": {},
   "outputs": [],
   "source": [
    "# Create X and y variables\n",
    "X = me_airlines.drop(columns=['overall','seat_comfort','cabin_service','entertainment',\n",
    "                              'food_bev','ground_service','value_for_money','recommended'])\n",
    "y = me_airlines['recommended']"
   ]
  },
  {
   "cell_type": "markdown",
   "metadata": {},
   "source": [
    "Creating a remainder set will allow us to split the remainder set into our train and validation sets that we will use for modelling. We do not want to touch the test set until modelling arrives!"
   ]
  },
  {
   "cell_type": "code",
   "execution_count": 47,
   "metadata": {},
   "outputs": [],
   "source": [
    "# Creating a chunk for the 20% test set which I'll leave to the side\n",
    "X_rem, X_test, y_rem, y_test = train_test_split(X,\n",
    "                                               y,\n",
    "                                               test_size=0.2,\n",
    "                                               stratify=y,\n",
    "                                               random_state=42)"
   ]
  },
  {
   "cell_type": "code",
   "execution_count": 48,
   "metadata": {},
   "outputs": [
    {
     "name": "stdout",
     "output_type": "stream",
     "text": [
      "(3678, 912) (920, 912) (3678,) (920,)\n"
     ]
    }
   ],
   "source": [
    "# Inspect the dimensions of each data subset\n",
    "print(X_rem.shape, X_test.shape, y_rem.shape, y_test.shape)"
   ]
  },
  {
   "cell_type": "markdown",
   "metadata": {},
   "source": [
    "I can now use the `CountVectorizer()` method to extract tokens from the `customer_review` column and later combine them with the **remainder** and **test** sets. I will also be reducing the number of features by defining a few parameters:\n",
    "\n",
    "- the `stop_words` parameter will remove any pronouns, conjunctions, etc (i.e. words like and, is, so)\n",
    "- the `min_df` parameter ignores terms that have a document frequency strictly lower than the given threshold. I have decided on `min_df=10` for this data set. So, for example, if the word 'terrific' only appears a total of 9 times in the ~2,800 rows of the remainder set, it will drop 'terrific'.\n",
    "- the `max_features` parameter determines the top # number of tokens in the dataset\n",
    "- the `ngram_range` parameter defines the level at which we aggregrate words (i.e. single words, word pairs).\n",
    "\n",
    "I went with setting a `min_df=10` and `max_features=3000` as I believe 3000 words can be highly indicative of a review."
   ]
  },
  {
   "cell_type": "code",
   "execution_count": 49,
   "metadata": {},
   "outputs": [
    {
     "data": {
      "text/plain": [
       "<3678x3000 sparse matrix of type '<class 'numpy.int64'>'\n",
       "\twith 224894 stored elements in Compressed Sparse Row format>"
      ]
     },
     "execution_count": 49,
     "metadata": {},
     "output_type": "execute_result"
    }
   ],
   "source": [
    "# Instantiate vectorizer\n",
    "bagofwords = CountVectorizer(stop_words=\"english\",\n",
    "                            min_df=10,\n",
    "                            max_features=3000,\n",
    "                            ngram_range=(1,3))\n",
    "\n",
    "# Fit vectorizer\n",
    "bagofwords.fit(X_rem['customer_review'])\n",
    "\n",
    "# Transform text\n",
    "rem_transformed = bagofwords.transform(X_rem['customer_review'])\n",
    "rem_transformed"
   ]
  },
  {
   "cell_type": "code",
   "execution_count": 50,
   "metadata": {},
   "outputs": [
    {
     "data": {
      "text/plain": [
       "array([[0, 0, 0, ..., 0, 0, 0],\n",
       "       [0, 0, 0, ..., 0, 0, 0],\n",
       "       [0, 0, 0, ..., 0, 0, 0],\n",
       "       ...,\n",
       "       [0, 0, 0, ..., 0, 0, 0],\n",
       "       [0, 0, 0, ..., 0, 0, 1],\n",
       "       [0, 0, 0, ..., 0, 0, 0]], dtype=int64)"
      ]
     },
     "execution_count": 50,
     "metadata": {},
     "output_type": "execute_result"
    }
   ],
   "source": [
    "rem_transformed.toarray()"
   ]
  },
  {
   "cell_type": "markdown",
   "metadata": {},
   "source": [
    "I can now convert the reduced sparse matrix to a dense array for interpretation. However, I have to also tokenize the `X_test` subset in the same process."
   ]
  },
  {
   "cell_type": "code",
   "execution_count": 51,
   "metadata": {},
   "outputs": [
    {
     "data": {
      "text/plain": [
       "<920x3000 sparse matrix of type '<class 'numpy.int64'>'\n",
       "\twith 55704 stored elements in Compressed Sparse Row format>"
      ]
     },
     "execution_count": 51,
     "metadata": {},
     "output_type": "execute_result"
    }
   ],
   "source": [
    "# Transform the text of the test subset\n",
    "test_transformed = bagofwords.transform(X_test['customer_review'])\n",
    "test_transformed"
   ]
  },
  {
   "cell_type": "code",
   "execution_count": 52,
   "metadata": {},
   "outputs": [
    {
     "name": "stderr",
     "output_type": "stream",
     "text": [
      "D:\\UDemy\\lib\\site-packages\\sklearn\\utils\\deprecation.py:87: FutureWarning: Function get_feature_names is deprecated; get_feature_names is deprecated in 1.0 and will be removed in 1.2. Please use get_feature_names_out instead.\n",
      "  warnings.warn(msg, category=FutureWarning)\n"
     ]
    },
    {
     "data": {
      "text/html": [
       "<div>\n",
       "<style scoped>\n",
       "    .dataframe tbody tr th:only-of-type {\n",
       "        vertical-align: middle;\n",
       "    }\n",
       "\n",
       "    .dataframe tbody tr th {\n",
       "        vertical-align: top;\n",
       "    }\n",
       "\n",
       "    .dataframe thead th {\n",
       "        text-align: right;\n",
       "    }\n",
       "</style>\n",
       "<table border=\"1\" class=\"dataframe\">\n",
       "  <thead>\n",
       "    <tr style=\"text-align: right;\">\n",
       "      <th></th>\n",
       "      <th>00</th>\n",
       "      <th>000</th>\n",
       "      <th>05</th>\n",
       "      <th>10</th>\n",
       "      <th>10 hour</th>\n",
       "      <th>10 hours</th>\n",
       "      <th>10 minutes</th>\n",
       "      <th>100</th>\n",
       "      <th>11</th>\n",
       "      <th>11 hours</th>\n",
       "      <th>...</th>\n",
       "      <th>years old</th>\n",
       "      <th>yes</th>\n",
       "      <th>yesterday</th>\n",
       "      <th>york</th>\n",
       "      <th>york jfk</th>\n",
       "      <th>young</th>\n",
       "      <th>zagreb</th>\n",
       "      <th>zero</th>\n",
       "      <th>zone</th>\n",
       "      <th>zurich</th>\n",
       "    </tr>\n",
       "  </thead>\n",
       "  <tbody>\n",
       "    <tr>\n",
       "      <th>0</th>\n",
       "      <td>0</td>\n",
       "      <td>0</td>\n",
       "      <td>0</td>\n",
       "      <td>0</td>\n",
       "      <td>0</td>\n",
       "      <td>0</td>\n",
       "      <td>0</td>\n",
       "      <td>0</td>\n",
       "      <td>0</td>\n",
       "      <td>0</td>\n",
       "      <td>...</td>\n",
       "      <td>0</td>\n",
       "      <td>0</td>\n",
       "      <td>0</td>\n",
       "      <td>0</td>\n",
       "      <td>0</td>\n",
       "      <td>0</td>\n",
       "      <td>0</td>\n",
       "      <td>0</td>\n",
       "      <td>0</td>\n",
       "      <td>0</td>\n",
       "    </tr>\n",
       "    <tr>\n",
       "      <th>1</th>\n",
       "      <td>0</td>\n",
       "      <td>0</td>\n",
       "      <td>0</td>\n",
       "      <td>0</td>\n",
       "      <td>0</td>\n",
       "      <td>0</td>\n",
       "      <td>0</td>\n",
       "      <td>0</td>\n",
       "      <td>0</td>\n",
       "      <td>0</td>\n",
       "      <td>...</td>\n",
       "      <td>0</td>\n",
       "      <td>0</td>\n",
       "      <td>0</td>\n",
       "      <td>0</td>\n",
       "      <td>0</td>\n",
       "      <td>0</td>\n",
       "      <td>0</td>\n",
       "      <td>0</td>\n",
       "      <td>0</td>\n",
       "      <td>0</td>\n",
       "    </tr>\n",
       "    <tr>\n",
       "      <th>2</th>\n",
       "      <td>0</td>\n",
       "      <td>0</td>\n",
       "      <td>0</td>\n",
       "      <td>0</td>\n",
       "      <td>0</td>\n",
       "      <td>0</td>\n",
       "      <td>0</td>\n",
       "      <td>0</td>\n",
       "      <td>0</td>\n",
       "      <td>0</td>\n",
       "      <td>...</td>\n",
       "      <td>0</td>\n",
       "      <td>0</td>\n",
       "      <td>0</td>\n",
       "      <td>1</td>\n",
       "      <td>1</td>\n",
       "      <td>0</td>\n",
       "      <td>0</td>\n",
       "      <td>0</td>\n",
       "      <td>0</td>\n",
       "      <td>0</td>\n",
       "    </tr>\n",
       "    <tr>\n",
       "      <th>3</th>\n",
       "      <td>0</td>\n",
       "      <td>0</td>\n",
       "      <td>0</td>\n",
       "      <td>0</td>\n",
       "      <td>0</td>\n",
       "      <td>0</td>\n",
       "      <td>0</td>\n",
       "      <td>0</td>\n",
       "      <td>0</td>\n",
       "      <td>0</td>\n",
       "      <td>...</td>\n",
       "      <td>0</td>\n",
       "      <td>0</td>\n",
       "      <td>0</td>\n",
       "      <td>2</td>\n",
       "      <td>0</td>\n",
       "      <td>0</td>\n",
       "      <td>0</td>\n",
       "      <td>0</td>\n",
       "      <td>0</td>\n",
       "      <td>0</td>\n",
       "    </tr>\n",
       "    <tr>\n",
       "      <th>4</th>\n",
       "      <td>0</td>\n",
       "      <td>0</td>\n",
       "      <td>0</td>\n",
       "      <td>0</td>\n",
       "      <td>0</td>\n",
       "      <td>0</td>\n",
       "      <td>0</td>\n",
       "      <td>0</td>\n",
       "      <td>0</td>\n",
       "      <td>0</td>\n",
       "      <td>...</td>\n",
       "      <td>0</td>\n",
       "      <td>0</td>\n",
       "      <td>0</td>\n",
       "      <td>0</td>\n",
       "      <td>0</td>\n",
       "      <td>0</td>\n",
       "      <td>0</td>\n",
       "      <td>0</td>\n",
       "      <td>0</td>\n",
       "      <td>0</td>\n",
       "    </tr>\n",
       "    <tr>\n",
       "      <th>...</th>\n",
       "      <td>...</td>\n",
       "      <td>...</td>\n",
       "      <td>...</td>\n",
       "      <td>...</td>\n",
       "      <td>...</td>\n",
       "      <td>...</td>\n",
       "      <td>...</td>\n",
       "      <td>...</td>\n",
       "      <td>...</td>\n",
       "      <td>...</td>\n",
       "      <td>...</td>\n",
       "      <td>...</td>\n",
       "      <td>...</td>\n",
       "      <td>...</td>\n",
       "      <td>...</td>\n",
       "      <td>...</td>\n",
       "      <td>...</td>\n",
       "      <td>...</td>\n",
       "      <td>...</td>\n",
       "      <td>...</td>\n",
       "      <td>...</td>\n",
       "    </tr>\n",
       "    <tr>\n",
       "      <th>3673</th>\n",
       "      <td>0</td>\n",
       "      <td>0</td>\n",
       "      <td>0</td>\n",
       "      <td>0</td>\n",
       "      <td>0</td>\n",
       "      <td>0</td>\n",
       "      <td>0</td>\n",
       "      <td>0</td>\n",
       "      <td>0</td>\n",
       "      <td>0</td>\n",
       "      <td>...</td>\n",
       "      <td>0</td>\n",
       "      <td>0</td>\n",
       "      <td>0</td>\n",
       "      <td>0</td>\n",
       "      <td>0</td>\n",
       "      <td>0</td>\n",
       "      <td>0</td>\n",
       "      <td>0</td>\n",
       "      <td>0</td>\n",
       "      <td>0</td>\n",
       "    </tr>\n",
       "    <tr>\n",
       "      <th>3674</th>\n",
       "      <td>0</td>\n",
       "      <td>0</td>\n",
       "      <td>0</td>\n",
       "      <td>0</td>\n",
       "      <td>0</td>\n",
       "      <td>0</td>\n",
       "      <td>0</td>\n",
       "      <td>0</td>\n",
       "      <td>0</td>\n",
       "      <td>0</td>\n",
       "      <td>...</td>\n",
       "      <td>0</td>\n",
       "      <td>0</td>\n",
       "      <td>0</td>\n",
       "      <td>0</td>\n",
       "      <td>0</td>\n",
       "      <td>0</td>\n",
       "      <td>0</td>\n",
       "      <td>0</td>\n",
       "      <td>0</td>\n",
       "      <td>0</td>\n",
       "    </tr>\n",
       "    <tr>\n",
       "      <th>3675</th>\n",
       "      <td>0</td>\n",
       "      <td>0</td>\n",
       "      <td>0</td>\n",
       "      <td>0</td>\n",
       "      <td>0</td>\n",
       "      <td>0</td>\n",
       "      <td>0</td>\n",
       "      <td>0</td>\n",
       "      <td>0</td>\n",
       "      <td>0</td>\n",
       "      <td>...</td>\n",
       "      <td>0</td>\n",
       "      <td>0</td>\n",
       "      <td>0</td>\n",
       "      <td>0</td>\n",
       "      <td>0</td>\n",
       "      <td>0</td>\n",
       "      <td>0</td>\n",
       "      <td>0</td>\n",
       "      <td>0</td>\n",
       "      <td>0</td>\n",
       "    </tr>\n",
       "    <tr>\n",
       "      <th>3676</th>\n",
       "      <td>0</td>\n",
       "      <td>0</td>\n",
       "      <td>0</td>\n",
       "      <td>2</td>\n",
       "      <td>0</td>\n",
       "      <td>0</td>\n",
       "      <td>0</td>\n",
       "      <td>0</td>\n",
       "      <td>0</td>\n",
       "      <td>0</td>\n",
       "      <td>...</td>\n",
       "      <td>0</td>\n",
       "      <td>0</td>\n",
       "      <td>0</td>\n",
       "      <td>0</td>\n",
       "      <td>0</td>\n",
       "      <td>0</td>\n",
       "      <td>0</td>\n",
       "      <td>0</td>\n",
       "      <td>0</td>\n",
       "      <td>1</td>\n",
       "    </tr>\n",
       "    <tr>\n",
       "      <th>3677</th>\n",
       "      <td>0</td>\n",
       "      <td>0</td>\n",
       "      <td>0</td>\n",
       "      <td>0</td>\n",
       "      <td>0</td>\n",
       "      <td>0</td>\n",
       "      <td>0</td>\n",
       "      <td>0</td>\n",
       "      <td>0</td>\n",
       "      <td>0</td>\n",
       "      <td>...</td>\n",
       "      <td>0</td>\n",
       "      <td>0</td>\n",
       "      <td>0</td>\n",
       "      <td>0</td>\n",
       "      <td>0</td>\n",
       "      <td>0</td>\n",
       "      <td>0</td>\n",
       "      <td>0</td>\n",
       "      <td>0</td>\n",
       "      <td>0</td>\n",
       "    </tr>\n",
       "  </tbody>\n",
       "</table>\n",
       "<p>3678 rows × 3000 columns</p>\n",
       "</div>"
      ],
      "text/plain": [
       "      00  000  05  10  10 hour  10 hours  10 minutes  100  11  11 hours  ...  \\\n",
       "0      0    0   0   0        0         0           0    0   0         0  ...   \n",
       "1      0    0   0   0        0         0           0    0   0         0  ...   \n",
       "2      0    0   0   0        0         0           0    0   0         0  ...   \n",
       "3      0    0   0   0        0         0           0    0   0         0  ...   \n",
       "4      0    0   0   0        0         0           0    0   0         0  ...   \n",
       "...   ..  ...  ..  ..      ...       ...         ...  ...  ..       ...  ...   \n",
       "3673   0    0   0   0        0         0           0    0   0         0  ...   \n",
       "3674   0    0   0   0        0         0           0    0   0         0  ...   \n",
       "3675   0    0   0   0        0         0           0    0   0         0  ...   \n",
       "3676   0    0   0   2        0         0           0    0   0         0  ...   \n",
       "3677   0    0   0   0        0         0           0    0   0         0  ...   \n",
       "\n",
       "      years old  yes  yesterday  york  york jfk  young  zagreb  zero  zone  \\\n",
       "0             0    0          0     0         0      0       0     0     0   \n",
       "1             0    0          0     0         0      0       0     0     0   \n",
       "2             0    0          0     1         1      0       0     0     0   \n",
       "3             0    0          0     2         0      0       0     0     0   \n",
       "4             0    0          0     0         0      0       0     0     0   \n",
       "...         ...  ...        ...   ...       ...    ...     ...   ...   ...   \n",
       "3673          0    0          0     0         0      0       0     0     0   \n",
       "3674          0    0          0     0         0      0       0     0     0   \n",
       "3675          0    0          0     0         0      0       0     0     0   \n",
       "3676          0    0          0     0         0      0       0     0     0   \n",
       "3677          0    0          0     0         0      0       0     0     0   \n",
       "\n",
       "      zurich  \n",
       "0          0  \n",
       "1          0  \n",
       "2          0  \n",
       "3          0  \n",
       "4          0  \n",
       "...      ...  \n",
       "3673       0  \n",
       "3674       0  \n",
       "3675       0  \n",
       "3676       1  \n",
       "3677       0  \n",
       "\n",
       "[3678 rows x 3000 columns]"
      ]
     },
     "execution_count": 52,
     "metadata": {},
     "output_type": "execute_result"
    }
   ],
   "source": [
    "# Convert the sparse matrix to dense for the remainder subset\n",
    "customer_review_rem_df = pd.DataFrame(columns=bagofwords.get_feature_names(),\n",
    "                                     data=rem_transformed.toarray())\n",
    "\n",
    "customer_review_rem_df"
   ]
  },
  {
   "cell_type": "code",
   "execution_count": 53,
   "metadata": {},
   "outputs": [
    {
     "name": "stderr",
     "output_type": "stream",
     "text": [
      "D:\\UDemy\\lib\\site-packages\\sklearn\\utils\\deprecation.py:87: FutureWarning: Function get_feature_names is deprecated; get_feature_names is deprecated in 1.0 and will be removed in 1.2. Please use get_feature_names_out instead.\n",
      "  warnings.warn(msg, category=FutureWarning)\n"
     ]
    },
    {
     "data": {
      "text/html": [
       "<div>\n",
       "<style scoped>\n",
       "    .dataframe tbody tr th:only-of-type {\n",
       "        vertical-align: middle;\n",
       "    }\n",
       "\n",
       "    .dataframe tbody tr th {\n",
       "        vertical-align: top;\n",
       "    }\n",
       "\n",
       "    .dataframe thead th {\n",
       "        text-align: right;\n",
       "    }\n",
       "</style>\n",
       "<table border=\"1\" class=\"dataframe\">\n",
       "  <thead>\n",
       "    <tr style=\"text-align: right;\">\n",
       "      <th></th>\n",
       "      <th>00</th>\n",
       "      <th>000</th>\n",
       "      <th>05</th>\n",
       "      <th>10</th>\n",
       "      <th>10 hour</th>\n",
       "      <th>10 hours</th>\n",
       "      <th>10 minutes</th>\n",
       "      <th>100</th>\n",
       "      <th>11</th>\n",
       "      <th>11 hours</th>\n",
       "      <th>...</th>\n",
       "      <th>years old</th>\n",
       "      <th>yes</th>\n",
       "      <th>yesterday</th>\n",
       "      <th>york</th>\n",
       "      <th>york jfk</th>\n",
       "      <th>young</th>\n",
       "      <th>zagreb</th>\n",
       "      <th>zero</th>\n",
       "      <th>zone</th>\n",
       "      <th>zurich</th>\n",
       "    </tr>\n",
       "  </thead>\n",
       "  <tbody>\n",
       "    <tr>\n",
       "      <th>0</th>\n",
       "      <td>0</td>\n",
       "      <td>0</td>\n",
       "      <td>0</td>\n",
       "      <td>0</td>\n",
       "      <td>0</td>\n",
       "      <td>0</td>\n",
       "      <td>0</td>\n",
       "      <td>0</td>\n",
       "      <td>1</td>\n",
       "      <td>0</td>\n",
       "      <td>...</td>\n",
       "      <td>0</td>\n",
       "      <td>0</td>\n",
       "      <td>0</td>\n",
       "      <td>0</td>\n",
       "      <td>0</td>\n",
       "      <td>0</td>\n",
       "      <td>0</td>\n",
       "      <td>0</td>\n",
       "      <td>0</td>\n",
       "      <td>0</td>\n",
       "    </tr>\n",
       "    <tr>\n",
       "      <th>1</th>\n",
       "      <td>0</td>\n",
       "      <td>0</td>\n",
       "      <td>0</td>\n",
       "      <td>0</td>\n",
       "      <td>0</td>\n",
       "      <td>0</td>\n",
       "      <td>0</td>\n",
       "      <td>0</td>\n",
       "      <td>0</td>\n",
       "      <td>0</td>\n",
       "      <td>...</td>\n",
       "      <td>1</td>\n",
       "      <td>0</td>\n",
       "      <td>0</td>\n",
       "      <td>0</td>\n",
       "      <td>0</td>\n",
       "      <td>0</td>\n",
       "      <td>0</td>\n",
       "      <td>0</td>\n",
       "      <td>0</td>\n",
       "      <td>0</td>\n",
       "    </tr>\n",
       "    <tr>\n",
       "      <th>2</th>\n",
       "      <td>0</td>\n",
       "      <td>0</td>\n",
       "      <td>0</td>\n",
       "      <td>0</td>\n",
       "      <td>0</td>\n",
       "      <td>0</td>\n",
       "      <td>0</td>\n",
       "      <td>0</td>\n",
       "      <td>0</td>\n",
       "      <td>0</td>\n",
       "      <td>...</td>\n",
       "      <td>0</td>\n",
       "      <td>0</td>\n",
       "      <td>0</td>\n",
       "      <td>0</td>\n",
       "      <td>0</td>\n",
       "      <td>0</td>\n",
       "      <td>0</td>\n",
       "      <td>0</td>\n",
       "      <td>0</td>\n",
       "      <td>0</td>\n",
       "    </tr>\n",
       "    <tr>\n",
       "      <th>3</th>\n",
       "      <td>0</td>\n",
       "      <td>0</td>\n",
       "      <td>0</td>\n",
       "      <td>0</td>\n",
       "      <td>0</td>\n",
       "      <td>0</td>\n",
       "      <td>0</td>\n",
       "      <td>0</td>\n",
       "      <td>0</td>\n",
       "      <td>0</td>\n",
       "      <td>...</td>\n",
       "      <td>0</td>\n",
       "      <td>0</td>\n",
       "      <td>0</td>\n",
       "      <td>0</td>\n",
       "      <td>0</td>\n",
       "      <td>0</td>\n",
       "      <td>0</td>\n",
       "      <td>0</td>\n",
       "      <td>0</td>\n",
       "      <td>0</td>\n",
       "    </tr>\n",
       "    <tr>\n",
       "      <th>4</th>\n",
       "      <td>0</td>\n",
       "      <td>0</td>\n",
       "      <td>0</td>\n",
       "      <td>0</td>\n",
       "      <td>0</td>\n",
       "      <td>0</td>\n",
       "      <td>0</td>\n",
       "      <td>0</td>\n",
       "      <td>0</td>\n",
       "      <td>0</td>\n",
       "      <td>...</td>\n",
       "      <td>0</td>\n",
       "      <td>0</td>\n",
       "      <td>0</td>\n",
       "      <td>0</td>\n",
       "      <td>0</td>\n",
       "      <td>0</td>\n",
       "      <td>0</td>\n",
       "      <td>0</td>\n",
       "      <td>0</td>\n",
       "      <td>0</td>\n",
       "    </tr>\n",
       "    <tr>\n",
       "      <th>...</th>\n",
       "      <td>...</td>\n",
       "      <td>...</td>\n",
       "      <td>...</td>\n",
       "      <td>...</td>\n",
       "      <td>...</td>\n",
       "      <td>...</td>\n",
       "      <td>...</td>\n",
       "      <td>...</td>\n",
       "      <td>...</td>\n",
       "      <td>...</td>\n",
       "      <td>...</td>\n",
       "      <td>...</td>\n",
       "      <td>...</td>\n",
       "      <td>...</td>\n",
       "      <td>...</td>\n",
       "      <td>...</td>\n",
       "      <td>...</td>\n",
       "      <td>...</td>\n",
       "      <td>...</td>\n",
       "      <td>...</td>\n",
       "      <td>...</td>\n",
       "    </tr>\n",
       "    <tr>\n",
       "      <th>915</th>\n",
       "      <td>0</td>\n",
       "      <td>0</td>\n",
       "      <td>0</td>\n",
       "      <td>0</td>\n",
       "      <td>0</td>\n",
       "      <td>0</td>\n",
       "      <td>0</td>\n",
       "      <td>0</td>\n",
       "      <td>0</td>\n",
       "      <td>0</td>\n",
       "      <td>...</td>\n",
       "      <td>0</td>\n",
       "      <td>0</td>\n",
       "      <td>0</td>\n",
       "      <td>0</td>\n",
       "      <td>0</td>\n",
       "      <td>0</td>\n",
       "      <td>0</td>\n",
       "      <td>0</td>\n",
       "      <td>0</td>\n",
       "      <td>0</td>\n",
       "    </tr>\n",
       "    <tr>\n",
       "      <th>916</th>\n",
       "      <td>0</td>\n",
       "      <td>0</td>\n",
       "      <td>0</td>\n",
       "      <td>0</td>\n",
       "      <td>0</td>\n",
       "      <td>0</td>\n",
       "      <td>0</td>\n",
       "      <td>0</td>\n",
       "      <td>0</td>\n",
       "      <td>0</td>\n",
       "      <td>...</td>\n",
       "      <td>0</td>\n",
       "      <td>0</td>\n",
       "      <td>0</td>\n",
       "      <td>0</td>\n",
       "      <td>0</td>\n",
       "      <td>0</td>\n",
       "      <td>0</td>\n",
       "      <td>0</td>\n",
       "      <td>0</td>\n",
       "      <td>0</td>\n",
       "    </tr>\n",
       "    <tr>\n",
       "      <th>917</th>\n",
       "      <td>0</td>\n",
       "      <td>0</td>\n",
       "      <td>0</td>\n",
       "      <td>0</td>\n",
       "      <td>0</td>\n",
       "      <td>0</td>\n",
       "      <td>0</td>\n",
       "      <td>0</td>\n",
       "      <td>0</td>\n",
       "      <td>0</td>\n",
       "      <td>...</td>\n",
       "      <td>0</td>\n",
       "      <td>0</td>\n",
       "      <td>0</td>\n",
       "      <td>0</td>\n",
       "      <td>0</td>\n",
       "      <td>0</td>\n",
       "      <td>0</td>\n",
       "      <td>0</td>\n",
       "      <td>0</td>\n",
       "      <td>0</td>\n",
       "    </tr>\n",
       "    <tr>\n",
       "      <th>918</th>\n",
       "      <td>0</td>\n",
       "      <td>0</td>\n",
       "      <td>0</td>\n",
       "      <td>0</td>\n",
       "      <td>0</td>\n",
       "      <td>0</td>\n",
       "      <td>0</td>\n",
       "      <td>0</td>\n",
       "      <td>0</td>\n",
       "      <td>0</td>\n",
       "      <td>...</td>\n",
       "      <td>0</td>\n",
       "      <td>0</td>\n",
       "      <td>0</td>\n",
       "      <td>0</td>\n",
       "      <td>0</td>\n",
       "      <td>0</td>\n",
       "      <td>0</td>\n",
       "      <td>0</td>\n",
       "      <td>0</td>\n",
       "      <td>0</td>\n",
       "    </tr>\n",
       "    <tr>\n",
       "      <th>919</th>\n",
       "      <td>0</td>\n",
       "      <td>0</td>\n",
       "      <td>0</td>\n",
       "      <td>0</td>\n",
       "      <td>0</td>\n",
       "      <td>0</td>\n",
       "      <td>0</td>\n",
       "      <td>0</td>\n",
       "      <td>0</td>\n",
       "      <td>0</td>\n",
       "      <td>...</td>\n",
       "      <td>0</td>\n",
       "      <td>0</td>\n",
       "      <td>0</td>\n",
       "      <td>0</td>\n",
       "      <td>0</td>\n",
       "      <td>0</td>\n",
       "      <td>0</td>\n",
       "      <td>0</td>\n",
       "      <td>0</td>\n",
       "      <td>0</td>\n",
       "    </tr>\n",
       "  </tbody>\n",
       "</table>\n",
       "<p>920 rows × 3000 columns</p>\n",
       "</div>"
      ],
      "text/plain": [
       "     00  000  05  10  10 hour  10 hours  10 minutes  100  11  11 hours  ...  \\\n",
       "0     0    0   0   0        0         0           0    0   1         0  ...   \n",
       "1     0    0   0   0        0         0           0    0   0         0  ...   \n",
       "2     0    0   0   0        0         0           0    0   0         0  ...   \n",
       "3     0    0   0   0        0         0           0    0   0         0  ...   \n",
       "4     0    0   0   0        0         0           0    0   0         0  ...   \n",
       "..   ..  ...  ..  ..      ...       ...         ...  ...  ..       ...  ...   \n",
       "915   0    0   0   0        0         0           0    0   0         0  ...   \n",
       "916   0    0   0   0        0         0           0    0   0         0  ...   \n",
       "917   0    0   0   0        0         0           0    0   0         0  ...   \n",
       "918   0    0   0   0        0         0           0    0   0         0  ...   \n",
       "919   0    0   0   0        0         0           0    0   0         0  ...   \n",
       "\n",
       "     years old  yes  yesterday  york  york jfk  young  zagreb  zero  zone  \\\n",
       "0            0    0          0     0         0      0       0     0     0   \n",
       "1            1    0          0     0         0      0       0     0     0   \n",
       "2            0    0          0     0         0      0       0     0     0   \n",
       "3            0    0          0     0         0      0       0     0     0   \n",
       "4            0    0          0     0         0      0       0     0     0   \n",
       "..         ...  ...        ...   ...       ...    ...     ...   ...   ...   \n",
       "915          0    0          0     0         0      0       0     0     0   \n",
       "916          0    0          0     0         0      0       0     0     0   \n",
       "917          0    0          0     0         0      0       0     0     0   \n",
       "918          0    0          0     0         0      0       0     0     0   \n",
       "919          0    0          0     0         0      0       0     0     0   \n",
       "\n",
       "     zurich  \n",
       "0         0  \n",
       "1         0  \n",
       "2         0  \n",
       "3         0  \n",
       "4         0  \n",
       "..      ...  \n",
       "915       0  \n",
       "916       0  \n",
       "917       0  \n",
       "918       0  \n",
       "919       0  \n",
       "\n",
       "[920 rows x 3000 columns]"
      ]
     },
     "execution_count": 53,
     "metadata": {},
     "output_type": "execute_result"
    }
   ],
   "source": [
    "# Convert the sparse matrix to dense for the test subset\n",
    "customer_review_test_df = pd.DataFrame(columns=bagofwords.get_feature_names(),\n",
    "                                     data=test_transformed.toarray())\n",
    "\n",
    "customer_review_test_df"
   ]
  },
  {
   "cell_type": "markdown",
   "metadata": {},
   "source": [
    "I was able to create dataframes for the remainder and test subsets. All that's left to do now is add these dataframes to the `X_rem` and `X_test` subsets respectively and drop the `customer_review` column from both subsets."
   ]
  },
  {
   "cell_type": "code",
   "execution_count": 54,
   "metadata": {},
   "outputs": [
    {
     "data": {
      "text/html": [
       "<div>\n",
       "<style scoped>\n",
       "    .dataframe tbody tr th:only-of-type {\n",
       "        vertical-align: middle;\n",
       "    }\n",
       "\n",
       "    .dataframe tbody tr th {\n",
       "        vertical-align: top;\n",
       "    }\n",
       "\n",
       "    .dataframe thead th {\n",
       "        text-align: right;\n",
       "    }\n",
       "</style>\n",
       "<table border=\"1\" class=\"dataframe\">\n",
       "  <thead>\n",
       "    <tr style=\"text-align: right;\">\n",
       "      <th></th>\n",
       "      <th>customer_review</th>\n",
       "      <th>week_of_year</th>\n",
       "      <th>month_of_year</th>\n",
       "      <th>year</th>\n",
       "      <th>day_of_month</th>\n",
       "      <th>Air Arabia</th>\n",
       "      <th>Egyptair</th>\n",
       "      <th>Emirates</th>\n",
       "      <th>Etihad Airways</th>\n",
       "      <th>Gulf Air</th>\n",
       "      <th>...</th>\n",
       "      <th>years old</th>\n",
       "      <th>yes</th>\n",
       "      <th>yesterday</th>\n",
       "      <th>york</th>\n",
       "      <th>york jfk</th>\n",
       "      <th>young</th>\n",
       "      <th>zagreb</th>\n",
       "      <th>zero</th>\n",
       "      <th>zone</th>\n",
       "      <th>zurich</th>\n",
       "    </tr>\n",
       "  </thead>\n",
       "  <tbody>\n",
       "    <tr>\n",
       "      <th>1415</th>\n",
       "      <td>✅ Verified Review | First Class on Qatar's A38...</td>\n",
       "      <td>18</td>\n",
       "      <td>5</td>\n",
       "      <td>2017</td>\n",
       "      <td>6</td>\n",
       "      <td>0</td>\n",
       "      <td>0</td>\n",
       "      <td>0</td>\n",
       "      <td>0</td>\n",
       "      <td>0</td>\n",
       "      <td>...</td>\n",
       "      <td>0</td>\n",
       "      <td>0</td>\n",
       "      <td>0</td>\n",
       "      <td>0</td>\n",
       "      <td>0</td>\n",
       "      <td>0</td>\n",
       "      <td>0</td>\n",
       "      <td>0</td>\n",
       "      <td>0</td>\n",
       "      <td>0</td>\n",
       "    </tr>\n",
       "    <tr>\n",
       "      <th>719</th>\n",
       "      <td>Me and wife flew Turkish Airlines from Toronto...</td>\n",
       "      <td>3</td>\n",
       "      <td>1</td>\n",
       "      <td>2016</td>\n",
       "      <td>20</td>\n",
       "      <td>0</td>\n",
       "      <td>0</td>\n",
       "      <td>0</td>\n",
       "      <td>0</td>\n",
       "      <td>0</td>\n",
       "      <td>...</td>\n",
       "      <td>0</td>\n",
       "      <td>0</td>\n",
       "      <td>0</td>\n",
       "      <td>0</td>\n",
       "      <td>0</td>\n",
       "      <td>0</td>\n",
       "      <td>0</td>\n",
       "      <td>0</td>\n",
       "      <td>0</td>\n",
       "      <td>0</td>\n",
       "    </tr>\n",
       "    <tr>\n",
       "      <th>33373</th>\n",
       "      <td>✅ Verified Review | Kuwait Airways flight serv...</td>\n",
       "      <td>23</td>\n",
       "      <td>6</td>\n",
       "      <td>2017</td>\n",
       "      <td>5</td>\n",
       "      <td>0</td>\n",
       "      <td>0</td>\n",
       "      <td>0</td>\n",
       "      <td>0</td>\n",
       "      <td>0</td>\n",
       "      <td>...</td>\n",
       "      <td>0</td>\n",
       "      <td>0</td>\n",
       "      <td>0</td>\n",
       "      <td>1</td>\n",
       "      <td>1</td>\n",
       "      <td>0</td>\n",
       "      <td>0</td>\n",
       "      <td>0</td>\n",
       "      <td>0</td>\n",
       "      <td>0</td>\n",
       "    </tr>\n",
       "    <tr>\n",
       "      <th>21717</th>\n",
       "      <td>✅ Verified Review | I took an Etihad flight fr...</td>\n",
       "      <td>30</td>\n",
       "      <td>7</td>\n",
       "      <td>2016</td>\n",
       "      <td>27</td>\n",
       "      <td>0</td>\n",
       "      <td>0</td>\n",
       "      <td>0</td>\n",
       "      <td>1</td>\n",
       "      <td>0</td>\n",
       "      <td>...</td>\n",
       "      <td>0</td>\n",
       "      <td>0</td>\n",
       "      <td>0</td>\n",
       "      <td>2</td>\n",
       "      <td>0</td>\n",
       "      <td>0</td>\n",
       "      <td>0</td>\n",
       "      <td>0</td>\n",
       "      <td>0</td>\n",
       "      <td>0</td>\n",
       "    </tr>\n",
       "    <tr>\n",
       "      <th>1966</th>\n",
       "      <td>✅ Trip Verified | Kuala Lumpur to London via D...</td>\n",
       "      <td>12</td>\n",
       "      <td>3</td>\n",
       "      <td>2019</td>\n",
       "      <td>18</td>\n",
       "      <td>0</td>\n",
       "      <td>0</td>\n",
       "      <td>1</td>\n",
       "      <td>0</td>\n",
       "      <td>0</td>\n",
       "      <td>...</td>\n",
       "      <td>0</td>\n",
       "      <td>0</td>\n",
       "      <td>0</td>\n",
       "      <td>0</td>\n",
       "      <td>0</td>\n",
       "      <td>0</td>\n",
       "      <td>0</td>\n",
       "      <td>0</td>\n",
       "      <td>0</td>\n",
       "      <td>0</td>\n",
       "    </tr>\n",
       "  </tbody>\n",
       "</table>\n",
       "<p>5 rows × 3912 columns</p>\n",
       "</div>"
      ],
      "text/plain": [
       "                                         customer_review  week_of_year  \\\n",
       "1415   ✅ Verified Review | First Class on Qatar's A38...            18   \n",
       "719    Me and wife flew Turkish Airlines from Toronto...             3   \n",
       "33373  ✅ Verified Review | Kuwait Airways flight serv...            23   \n",
       "21717  ✅ Verified Review | I took an Etihad flight fr...            30   \n",
       "1966   ✅ Trip Verified | Kuala Lumpur to London via D...            12   \n",
       "\n",
       "       month_of_year  year  day_of_month  Air Arabia  Egyptair  Emirates  \\\n",
       "1415               5  2017             6           0         0         0   \n",
       "719                1  2016            20           0         0         0   \n",
       "33373              6  2017             5           0         0         0   \n",
       "21717              7  2016            27           0         0         0   \n",
       "1966               3  2019            18           0         0         1   \n",
       "\n",
       "       Etihad Airways  Gulf Air  ...  years old  yes  yesterday  york  \\\n",
       "1415                0         0  ...          0    0          0     0   \n",
       "719                 0         0  ...          0    0          0     0   \n",
       "33373               0         0  ...          0    0          0     1   \n",
       "21717               1         0  ...          0    0          0     2   \n",
       "1966                0         0  ...          0    0          0     0   \n",
       "\n",
       "       york jfk  young  zagreb  zero  zone  zurich  \n",
       "1415          0      0       0     0     0       0  \n",
       "719           0      0       0     0     0       0  \n",
       "33373         1      0       0     0     0       0  \n",
       "21717         0      0       0     0     0       0  \n",
       "1966          0      0       0     0     0       0  \n",
       "\n",
       "[5 rows x 3912 columns]"
      ]
     },
     "execution_count": 54,
     "metadata": {},
     "output_type": "execute_result"
    }
   ],
   "source": [
    "X_rem = pd.concat([X_rem, customer_review_rem_df.set_index(X_rem.index)], axis=1)\n",
    "\n",
    "# Check\n",
    "X_rem.head()"
   ]
  },
  {
   "cell_type": "code",
   "execution_count": 55,
   "metadata": {},
   "outputs": [],
   "source": [
    "# Drop the customer review column\n",
    "X_rem.drop(columns='customer_review', inplace=True)"
   ]
  },
  {
   "cell_type": "code",
   "execution_count": 56,
   "metadata": {},
   "outputs": [
    {
     "data": {
      "text/html": [
       "<div>\n",
       "<style scoped>\n",
       "    .dataframe tbody tr th:only-of-type {\n",
       "        vertical-align: middle;\n",
       "    }\n",
       "\n",
       "    .dataframe tbody tr th {\n",
       "        vertical-align: top;\n",
       "    }\n",
       "\n",
       "    .dataframe thead th {\n",
       "        text-align: right;\n",
       "    }\n",
       "</style>\n",
       "<table border=\"1\" class=\"dataframe\">\n",
       "  <thead>\n",
       "    <tr style=\"text-align: right;\">\n",
       "      <th></th>\n",
       "      <th>week_of_year</th>\n",
       "      <th>month_of_year</th>\n",
       "      <th>year</th>\n",
       "      <th>day_of_month</th>\n",
       "      <th>Air Arabia</th>\n",
       "      <th>Egyptair</th>\n",
       "      <th>Emirates</th>\n",
       "      <th>Etihad Airways</th>\n",
       "      <th>Gulf Air</th>\n",
       "      <th>Kuwait Airways</th>\n",
       "      <th>...</th>\n",
       "      <th>years old</th>\n",
       "      <th>yes</th>\n",
       "      <th>yesterday</th>\n",
       "      <th>york</th>\n",
       "      <th>york jfk</th>\n",
       "      <th>young</th>\n",
       "      <th>zagreb</th>\n",
       "      <th>zero</th>\n",
       "      <th>zone</th>\n",
       "      <th>zurich</th>\n",
       "    </tr>\n",
       "  </thead>\n",
       "  <tbody>\n",
       "    <tr>\n",
       "      <th>1415</th>\n",
       "      <td>18</td>\n",
       "      <td>5</td>\n",
       "      <td>2017</td>\n",
       "      <td>6</td>\n",
       "      <td>0</td>\n",
       "      <td>0</td>\n",
       "      <td>0</td>\n",
       "      <td>0</td>\n",
       "      <td>0</td>\n",
       "      <td>0</td>\n",
       "      <td>...</td>\n",
       "      <td>0</td>\n",
       "      <td>0</td>\n",
       "      <td>0</td>\n",
       "      <td>0</td>\n",
       "      <td>0</td>\n",
       "      <td>0</td>\n",
       "      <td>0</td>\n",
       "      <td>0</td>\n",
       "      <td>0</td>\n",
       "      <td>0</td>\n",
       "    </tr>\n",
       "    <tr>\n",
       "      <th>719</th>\n",
       "      <td>3</td>\n",
       "      <td>1</td>\n",
       "      <td>2016</td>\n",
       "      <td>20</td>\n",
       "      <td>0</td>\n",
       "      <td>0</td>\n",
       "      <td>0</td>\n",
       "      <td>0</td>\n",
       "      <td>0</td>\n",
       "      <td>0</td>\n",
       "      <td>...</td>\n",
       "      <td>0</td>\n",
       "      <td>0</td>\n",
       "      <td>0</td>\n",
       "      <td>0</td>\n",
       "      <td>0</td>\n",
       "      <td>0</td>\n",
       "      <td>0</td>\n",
       "      <td>0</td>\n",
       "      <td>0</td>\n",
       "      <td>0</td>\n",
       "    </tr>\n",
       "    <tr>\n",
       "      <th>33373</th>\n",
       "      <td>23</td>\n",
       "      <td>6</td>\n",
       "      <td>2017</td>\n",
       "      <td>5</td>\n",
       "      <td>0</td>\n",
       "      <td>0</td>\n",
       "      <td>0</td>\n",
       "      <td>0</td>\n",
       "      <td>0</td>\n",
       "      <td>1</td>\n",
       "      <td>...</td>\n",
       "      <td>0</td>\n",
       "      <td>0</td>\n",
       "      <td>0</td>\n",
       "      <td>1</td>\n",
       "      <td>1</td>\n",
       "      <td>0</td>\n",
       "      <td>0</td>\n",
       "      <td>0</td>\n",
       "      <td>0</td>\n",
       "      <td>0</td>\n",
       "    </tr>\n",
       "    <tr>\n",
       "      <th>21717</th>\n",
       "      <td>30</td>\n",
       "      <td>7</td>\n",
       "      <td>2016</td>\n",
       "      <td>27</td>\n",
       "      <td>0</td>\n",
       "      <td>0</td>\n",
       "      <td>0</td>\n",
       "      <td>1</td>\n",
       "      <td>0</td>\n",
       "      <td>0</td>\n",
       "      <td>...</td>\n",
       "      <td>0</td>\n",
       "      <td>0</td>\n",
       "      <td>0</td>\n",
       "      <td>2</td>\n",
       "      <td>0</td>\n",
       "      <td>0</td>\n",
       "      <td>0</td>\n",
       "      <td>0</td>\n",
       "      <td>0</td>\n",
       "      <td>0</td>\n",
       "    </tr>\n",
       "    <tr>\n",
       "      <th>1966</th>\n",
       "      <td>12</td>\n",
       "      <td>3</td>\n",
       "      <td>2019</td>\n",
       "      <td>18</td>\n",
       "      <td>0</td>\n",
       "      <td>0</td>\n",
       "      <td>1</td>\n",
       "      <td>0</td>\n",
       "      <td>0</td>\n",
       "      <td>0</td>\n",
       "      <td>...</td>\n",
       "      <td>0</td>\n",
       "      <td>0</td>\n",
       "      <td>0</td>\n",
       "      <td>0</td>\n",
       "      <td>0</td>\n",
       "      <td>0</td>\n",
       "      <td>0</td>\n",
       "      <td>0</td>\n",
       "      <td>0</td>\n",
       "      <td>0</td>\n",
       "    </tr>\n",
       "  </tbody>\n",
       "</table>\n",
       "<p>5 rows × 3911 columns</p>\n",
       "</div>"
      ],
      "text/plain": [
       "       week_of_year  month_of_year  year  day_of_month  Air Arabia  Egyptair  \\\n",
       "1415             18              5  2017             6           0         0   \n",
       "719               3              1  2016            20           0         0   \n",
       "33373            23              6  2017             5           0         0   \n",
       "21717            30              7  2016            27           0         0   \n",
       "1966             12              3  2019            18           0         0   \n",
       "\n",
       "       Emirates  Etihad Airways  Gulf Air  Kuwait Airways  ...  years old  \\\n",
       "1415          0               0         0               0  ...          0   \n",
       "719           0               0         0               0  ...          0   \n",
       "33373         0               0         0               1  ...          0   \n",
       "21717         0               1         0               0  ...          0   \n",
       "1966          1               0         0               0  ...          0   \n",
       "\n",
       "       yes  yesterday  york  york jfk  young  zagreb  zero  zone  zurich  \n",
       "1415     0          0     0         0      0       0     0     0       0  \n",
       "719      0          0     0         0      0       0     0     0       0  \n",
       "33373    0          0     1         1      0       0     0     0       0  \n",
       "21717    0          0     2         0      0       0     0     0       0  \n",
       "1966     0          0     0         0      0       0     0     0       0  \n",
       "\n",
       "[5 rows x 3911 columns]"
      ]
     },
     "execution_count": 56,
     "metadata": {},
     "output_type": "execute_result"
    }
   ],
   "source": [
    "X_rem.head()"
   ]
  },
  {
   "cell_type": "markdown",
   "metadata": {},
   "source": [
    "Do the same process for the `X_test` subset."
   ]
  },
  {
   "cell_type": "code",
   "execution_count": 57,
   "metadata": {},
   "outputs": [
    {
     "data": {
      "text/html": [
       "<div>\n",
       "<style scoped>\n",
       "    .dataframe tbody tr th:only-of-type {\n",
       "        vertical-align: middle;\n",
       "    }\n",
       "\n",
       "    .dataframe tbody tr th {\n",
       "        vertical-align: top;\n",
       "    }\n",
       "\n",
       "    .dataframe thead th {\n",
       "        text-align: right;\n",
       "    }\n",
       "</style>\n",
       "<table border=\"1\" class=\"dataframe\">\n",
       "  <thead>\n",
       "    <tr style=\"text-align: right;\">\n",
       "      <th></th>\n",
       "      <th>week_of_year</th>\n",
       "      <th>month_of_year</th>\n",
       "      <th>year</th>\n",
       "      <th>day_of_month</th>\n",
       "      <th>Air Arabia</th>\n",
       "      <th>Egyptair</th>\n",
       "      <th>Emirates</th>\n",
       "      <th>Etihad Airways</th>\n",
       "      <th>Gulf Air</th>\n",
       "      <th>Kuwait Airways</th>\n",
       "      <th>...</th>\n",
       "      <th>years old</th>\n",
       "      <th>yes</th>\n",
       "      <th>yesterday</th>\n",
       "      <th>york</th>\n",
       "      <th>york jfk</th>\n",
       "      <th>young</th>\n",
       "      <th>zagreb</th>\n",
       "      <th>zero</th>\n",
       "      <th>zone</th>\n",
       "      <th>zurich</th>\n",
       "    </tr>\n",
       "  </thead>\n",
       "  <tbody>\n",
       "    <tr>\n",
       "      <th>17887</th>\n",
       "      <td>36</td>\n",
       "      <td>9</td>\n",
       "      <td>2015</td>\n",
       "      <td>1</td>\n",
       "      <td>0</td>\n",
       "      <td>1</td>\n",
       "      <td>0</td>\n",
       "      <td>0</td>\n",
       "      <td>0</td>\n",
       "      <td>0</td>\n",
       "      <td>...</td>\n",
       "      <td>0</td>\n",
       "      <td>0</td>\n",
       "      <td>0</td>\n",
       "      <td>0</td>\n",
       "      <td>0</td>\n",
       "      <td>0</td>\n",
       "      <td>0</td>\n",
       "      <td>0</td>\n",
       "      <td>0</td>\n",
       "      <td>0</td>\n",
       "    </tr>\n",
       "    <tr>\n",
       "      <th>2918</th>\n",
       "      <td>40</td>\n",
       "      <td>9</td>\n",
       "      <td>2015</td>\n",
       "      <td>29</td>\n",
       "      <td>0</td>\n",
       "      <td>0</td>\n",
       "      <td>1</td>\n",
       "      <td>0</td>\n",
       "      <td>0</td>\n",
       "      <td>0</td>\n",
       "      <td>...</td>\n",
       "      <td>1</td>\n",
       "      <td>0</td>\n",
       "      <td>0</td>\n",
       "      <td>0</td>\n",
       "      <td>0</td>\n",
       "      <td>0</td>\n",
       "      <td>0</td>\n",
       "      <td>0</td>\n",
       "      <td>0</td>\n",
       "      <td>0</td>\n",
       "    </tr>\n",
       "    <tr>\n",
       "      <th>21216</th>\n",
       "      <td>17</td>\n",
       "      <td>4</td>\n",
       "      <td>2019</td>\n",
       "      <td>28</td>\n",
       "      <td>0</td>\n",
       "      <td>0</td>\n",
       "      <td>0</td>\n",
       "      <td>1</td>\n",
       "      <td>0</td>\n",
       "      <td>0</td>\n",
       "      <td>...</td>\n",
       "      <td>0</td>\n",
       "      <td>0</td>\n",
       "      <td>0</td>\n",
       "      <td>0</td>\n",
       "      <td>0</td>\n",
       "      <td>0</td>\n",
       "      <td>0</td>\n",
       "      <td>0</td>\n",
       "      <td>0</td>\n",
       "      <td>0</td>\n",
       "    </tr>\n",
       "    <tr>\n",
       "      <th>529</th>\n",
       "      <td>48</td>\n",
       "      <td>11</td>\n",
       "      <td>2016</td>\n",
       "      <td>29</td>\n",
       "      <td>0</td>\n",
       "      <td>0</td>\n",
       "      <td>0</td>\n",
       "      <td>0</td>\n",
       "      <td>0</td>\n",
       "      <td>0</td>\n",
       "      <td>...</td>\n",
       "      <td>0</td>\n",
       "      <td>0</td>\n",
       "      <td>0</td>\n",
       "      <td>0</td>\n",
       "      <td>0</td>\n",
       "      <td>0</td>\n",
       "      <td>0</td>\n",
       "      <td>0</td>\n",
       "      <td>0</td>\n",
       "      <td>0</td>\n",
       "    </tr>\n",
       "    <tr>\n",
       "      <th>951</th>\n",
       "      <td>28</td>\n",
       "      <td>7</td>\n",
       "      <td>2015</td>\n",
       "      <td>7</td>\n",
       "      <td>0</td>\n",
       "      <td>0</td>\n",
       "      <td>0</td>\n",
       "      <td>0</td>\n",
       "      <td>0</td>\n",
       "      <td>0</td>\n",
       "      <td>...</td>\n",
       "      <td>0</td>\n",
       "      <td>0</td>\n",
       "      <td>0</td>\n",
       "      <td>0</td>\n",
       "      <td>0</td>\n",
       "      <td>0</td>\n",
       "      <td>0</td>\n",
       "      <td>0</td>\n",
       "      <td>0</td>\n",
       "      <td>0</td>\n",
       "    </tr>\n",
       "  </tbody>\n",
       "</table>\n",
       "<p>5 rows × 3911 columns</p>\n",
       "</div>"
      ],
      "text/plain": [
       "       week_of_year  month_of_year  year  day_of_month  Air Arabia  Egyptair  \\\n",
       "17887            36              9  2015             1           0         1   \n",
       "2918             40              9  2015            29           0         0   \n",
       "21216            17              4  2019            28           0         0   \n",
       "529              48             11  2016            29           0         0   \n",
       "951              28              7  2015             7           0         0   \n",
       "\n",
       "       Emirates  Etihad Airways  Gulf Air  Kuwait Airways  ...  years old  \\\n",
       "17887         0               0         0               0  ...          0   \n",
       "2918          1               0         0               0  ...          1   \n",
       "21216         0               1         0               0  ...          0   \n",
       "529           0               0         0               0  ...          0   \n",
       "951           0               0         0               0  ...          0   \n",
       "\n",
       "       yes  yesterday  york  york jfk  young  zagreb  zero  zone  zurich  \n",
       "17887    0          0     0         0      0       0     0     0       0  \n",
       "2918     0          0     0         0      0       0     0     0       0  \n",
       "21216    0          0     0         0      0       0     0     0       0  \n",
       "529      0          0     0         0      0       0     0     0       0  \n",
       "951      0          0     0         0      0       0     0     0       0  \n",
       "\n",
       "[5 rows x 3911 columns]"
      ]
     },
     "execution_count": 57,
     "metadata": {},
     "output_type": "execute_result"
    }
   ],
   "source": [
    "X_test = pd.concat([X_test, customer_review_test_df.set_index(X_test.index)], axis=1)\n",
    "\n",
    "# Drop customer review column\n",
    "X_test.drop(columns='customer_review', inplace=True)\n",
    "\n",
    "# Check\n",
    "X_test.head()"
   ]
  },
  {
   "cell_type": "markdown",
   "metadata": {},
   "source": [
    "Before I begin modelling, I would like to see what the most common tokens are, and I will be using the `X_rem` subset."
   ]
  },
  {
   "cell_type": "code",
   "execution_count": 58,
   "metadata": {},
   "outputs": [
    {
     "name": "stderr",
     "output_type": "stream",
     "text": [
      "D:\\UDemy\\lib\\site-packages\\sklearn\\utils\\deprecation.py:87: FutureWarning: Function get_feature_names is deprecated; get_feature_names is deprecated in 1.0 and will be removed in 1.2. Please use get_feature_names_out instead.\n",
      "  warnings.warn(msg, category=FutureWarning)\n"
     ]
    },
    {
     "data": {
      "image/png": "[encoded data removed]",
      "text/plain": [
       "<Figure size 1080x576 with 1 Axes>"
      ]
     },
     "metadata": {
      "needs_background": "light"
     },
     "output_type": "display_data"
    }
   ],
   "source": [
    "# Visualize the 30 most common tokens \n",
    "words = bagofwords.get_feature_names()\n",
    "word_counts = rem_transformed.toarray().sum(axis=0)\n",
    "\n",
    "X_rem_df = pd.DataFrame({\"token\": words,\n",
    "                        \"occurrences\": word_counts})\n",
    "\n",
    "X_rem_df_sorted = X_rem_df.sort_values(\"occurrences\", ascending=False)\n",
    "\n",
    "plt.figure(figsize=(15,8))\n",
    "sns.barplot(data = X_rem_df_sorted.head(30), x=\"token\", y=\"occurrences\", color=\"blue\")\n",
    "plt.title('Total Count of Tokenized Words')\n",
    "plt.xticks(rotation=90)\n",
    "plt.show()"
   ]
  },
  {
   "cell_type": "markdown",
   "metadata": {},
   "source": [
    "It looks like 'flight' was the most used token in the Middle Eastern carriers dataframe by far, followed by service, verified, food, time, etc. This visual doesn't inform us whether those words are associated with either a positive/negative review (this step is done earlier). However, I do see a few, possible negative tokens in there (i.e. etihad). "
   ]
  },
  {
   "cell_type": "markdown",
   "metadata": {},
   "source": [
    "With the subsets taken care of, I can now move onto the Modelling section of this report. The first step here is to split the `remainder` subset into a train and validation set."
   ]
  },
  {
   "cell_type": "code",
   "execution_count": 59,
   "metadata": {},
   "outputs": [],
   "source": [
    "# Split the remainder subset into train and validation sets\n",
    "X_train, X_val, y_train, y_val = train_test_split(X_rem,\n",
    "                                                 y_rem,\n",
    "                                                 test_size=0.3,\n",
    "                                                  stratify=y_rem,\n",
    "                                                 random_state=42)"
   ]
  },
  {
   "cell_type": "code",
   "execution_count": 60,
   "metadata": {},
   "outputs": [
    {
     "name": "stdout",
     "output_type": "stream",
     "text": [
      "(2574, 3911) (1104, 3911) (2574,) (1104,)\n"
     ]
    }
   ],
   "source": [
    "# Check shapes\n",
    "print(X_train.shape, X_val.shape, y_train.shape, y_val.shape)"
   ]
  },
  {
   "cell_type": "markdown",
   "metadata": {},
   "source": [
    "It is clear the number of features that were added in the previous step were not affected by this split, and we are left with Train data set of 1948 rows by 3832 columns, and a Validation data set of 836 rows by 3832 columns."
   ]
  },
  {
   "cell_type": "markdown",
   "metadata": {},
   "source": [
    "#### Scaling Data"
   ]
  },
  {
   "cell_type": "markdown",
   "metadata": {},
   "source": [
    "All models - except the Decision Tree Classifier - are distance-based algorithms. Therefore, I will transform all data subsets using the `MinMaxScaler`. I have selected this scaler because I am not looking to change the distribution of the data, but to make sure all feature distributions are shrunk to fit between 0 and 1."
   ]
  },
  {
   "cell_type": "code",
   "execution_count": 61,
   "metadata": {},
   "outputs": [],
   "source": [
    "# Instantiate Scaler\n",
    "scaler = MinMaxScaler()\n",
    "\n",
    "# Fit to X_train and transform\n",
    "X_train_scaled = scaler.fit_transform(X_train)\n",
    "\n",
    "# Transform other subsets\n",
    "X_val_scaled = scaler.transform(X_val)\n",
    "X_test_scaled = scaler.transform(X_test)"
   ]
  },
  {
   "cell_type": "markdown",
   "metadata": {},
   "source": [
    "### 4. Modelling"
   ]
  },
  {
   "cell_type": "markdown",
   "metadata": {},
   "source": [
    "#### Model 4.1 - Logistic Regression"
   ]
  },
  {
   "cell_type": "markdown",
   "metadata": {},
   "source": [
    "My first iteration of a Logistic Regression will be a basic one, with no specified metrics."
   ]
  },
  {
   "cell_type": "code",
   "execution_count": 62,
   "metadata": {},
   "outputs": [
    {
     "data": {
      "text/plain": [
       "'lbfgs'"
      ]
     },
     "execution_count": 62,
     "metadata": {},
     "output_type": "execute_result"
    }
   ],
   "source": [
    "# Check default solver\n",
    "log_reg1 = LogisticRegression(random_state=42)\n",
    "\n",
    "log_reg1.solver"
   ]
  },
  {
   "cell_type": "code",
   "execution_count": 63,
   "metadata": {},
   "outputs": [
    {
     "name": "stdout",
     "output_type": "stream",
     "text": [
      "Train accuracy: 0.9938\n",
      "Validation accuracy: 0.8569\n"
     ]
    }
   ],
   "source": [
    "# Instantiate and fit basic Logistic Regression model\n",
    "log_reg1.fit(X_train_scaled, y_train)\n",
    "\n",
    "# Model performance with train and validation data\n",
    "log_reg1_train_acc = log_reg1.score(X_train_scaled, y_train)\n",
    "log_reg1_val_acc = log_reg1.score(X_val_scaled, y_val)\n",
    "\n",
    "print(f\"Train accuracy: {round(log_reg1_train_acc,4)}\")\n",
    "print(f\"Validation accuracy: {round(log_reg1_val_acc,4)}\")"
   ]
  },
  {
   "cell_type": "markdown",
   "metadata": {},
   "source": [
    "It can be seen that both the Train and Validation sets performed extremely well. The Train accuracy (99.38%) is ~14% percentage points higher than the Validation accuracy (85.69%). This means that there is overfitting in the model. One way to reduce the overfitting is through hyperparameter optimization."
   ]
  },
  {
   "cell_type": "markdown",
   "metadata": {},
   "source": [
    "#### Hyperparameter Optimization"
   ]
  },
  {
   "cell_type": "markdown",
   "metadata": {},
   "source": [
    "I want to spend some time on hyperparameter optimization of the Logistic Regression. The `C` parameter for a Logistic Regression controls the regularization strength of the model where lower `C` values allow greater errors."
   ]
  },
  {
   "cell_type": "code",
   "execution_count": 64,
   "metadata": {},
   "outputs": [
    {
     "name": "stdout",
     "output_type": "stream",
     "text": [
      "C=0.0001 completed\n",
      "C=0.001 completed\n",
      "C=0.01 completed\n",
      "C=0.1 completed\n",
      "C=1 completed\n",
      "C=10 completed\n",
      "C=100 completed\n",
      "C=1000 completed\n"
     ]
    },
    {
     "data": {
      "image/png": "[encoded data removed]",
      "text/plain": [
       "<Figure size 720x432 with 1 Axes>"
      ]
     },
     "metadata": {
      "needs_background": "light"
     },
     "output_type": "display_data"
    }
   ],
   "source": [
    "# Values of C to iterate over\n",
    "C_values = [0.0001, 0.001, 0.01, 0.1, 1, 10, 100, 1000]\n",
    "\n",
    "# Empty lists to store accuracy scores\n",
    "train_acc = []\n",
    "val_acc = []\n",
    "\n",
    "# Loop model iteration across all C-values\n",
    "for C in C_values:\n",
    "    logit_C = LogisticRegression(random_state=42, max_iter=3000, C=C).fit(X_train_scaled, y_train)\n",
    "    train_acc.append(logit_C.score(X_train_scaled, y_train))\n",
    "    val_acc.append(logit_C.score(X_val_scaled, y_val))\n",
    "    print(f\"C={C} completed\")\n",
    "    \n",
    "# Visualize accuracy scores across C-values\n",
    "plt.figure(figsize=(10,6))\n",
    "plt.plot(C_values, train_acc, marker='o', label='Train data')\n",
    "plt.plot(C_values, val_acc, marker='o', label='Validation data')\n",
    "plt.xscale('log')\n",
    "plt.xlabel('Values for C (Regularization Strength)')\n",
    "plt.ylabel('Accuracy')\n",
    "plt.legend()\n",
    "plt.title('Model Accuracy with Different Regularization Strengths')\n",
    "plt.grid()\n",
    "\n",
    "plt.show()"
   ]
  },
  {
   "cell_type": "markdown",
   "metadata": {},
   "source": [
    "Usually, the default `C` is 1. In the case above, the highest Validation accuracy occurs at `C=0.1`. However, the model has less overfitting occurring when `C=0.01`. In this case, I have decided to go with `C=0.1` because the smaller the C-value, the greater the error is, and based on the visual above, there is only slightly more overfitting when `C=0.1` compared to when `C=0.01`."
   ]
  },
  {
   "cell_type": "code",
   "execution_count": 65,
   "metadata": {},
   "outputs": [
    {
     "name": "stdout",
     "output_type": "stream",
     "text": [
      "Train Accuracy: 93.51%\n",
      "Validation Accuracy: 86.05000000000001%\n",
      "Test Accuracy: 86.41%\n"
     ]
    }
   ],
   "source": [
    "# Instantiate model\n",
    "log_reg2 = LogisticRegression(random_state=42, max_iter=3000, C=0.1).fit(X_train_scaled, y_train)\n",
    "\n",
    "# Score model against data subsets\n",
    "log_reg2_train_acc = log_reg2.score(X_train_scaled, y_train)\n",
    "log_reg2_val_acc = log_reg2.score(X_val_scaled, y_val)\n",
    "log_reg2_test_acc = log_reg2.score(X_test_scaled, y_test)\n",
    "\n",
    "print(f\"Train Accuracy: {round(log_reg2_train_acc,4)*100}%\")\n",
    "print(f\"Validation Accuracy: {round(log_reg2_val_acc,4)*100}%\")\n",
    "print(f\"Test Accuracy: {round(log_reg2_test_acc,4)*100}%\")"
   ]
  },
  {
   "cell_type": "markdown",
   "metadata": {},
   "source": [
    "I have managed to reduce the overfitting between the train and test/validation sets significantly. This means the model is more generalized. And with the Validation and Test accuracies relatively close, it looks like minimal data leakage has occurred. "
   ]
  },
  {
   "cell_type": "markdown",
   "metadata": {},
   "source": [
    "Next let me check the classification report."
   ]
  },
  {
   "cell_type": "code",
   "execution_count": 66,
   "metadata": {},
   "outputs": [
    {
     "name": "stderr",
     "output_type": "stream",
     "text": [
      "D:\\UDemy\\lib\\site-packages\\sklearn\\utils\\deprecation.py:87: FutureWarning: Function plot_confusion_matrix is deprecated; Function `plot_confusion_matrix` is deprecated in 1.0 and will be removed in 1.2. Use one of the class methods: ConfusionMatrixDisplay.from_predictions or ConfusionMatrixDisplay.from_estimator.\n",
      "  warnings.warn(msg, category=FutureWarning)\n"
     ]
    },
    {
     "name": "stdout",
     "output_type": "stream",
     "text": [
      "              precision    recall  f1-score   support\n",
      "\n",
      "           0       0.86      0.86      0.86       446\n",
      "           1       0.87      0.87      0.87       474\n",
      "\n",
      "    accuracy                           0.86       920\n",
      "   macro avg       0.86      0.86      0.86       920\n",
      "weighted avg       0.86      0.86      0.86       920\n",
      "\n"
     ]
    },
    {
     "data": {
      "image/png": "[encoded data removed]",
      "text/plain": [
       "<Figure size 432x288 with 2 Axes>"
      ]
     },
     "metadata": {
      "needs_background": "light"
     },
     "output_type": "display_data"
    }
   ],
   "source": [
    "# Model predictions on test data\n",
    "y_pred = log_reg2.predict(X_test_scaled)\n",
    "\n",
    "# Call confusion matrix\n",
    "plot_confusion_matrix(log_reg2, X_test_scaled, y_test, cmap='viridis')\n",
    "\n",
    "print(classification_report(y_test, y_pred))"
   ]
  },
  {
   "cell_type": "markdown",
   "metadata": {},
   "source": [
    "The classification report is summarized as follows:\n",
    "\n",
    "- There are **412** True Positives and **383** True Negatives, adding up to ~86% model accuracy. This means that the model correctly predicted 303 reviews that gave a 'Yes' recommendation, and correctly predicted 290 reviews that gave a 'No' recommendation. \n",
    "- False positives (Type I errors) make up ~6.8% of predictions. This means that the model incorrectly predicted 63 reviews that gave a 'Yes' recommendation.\n",
    "- False negatives (Type II errors) make up ~7.9% of predictions. This means that the model incorrectly predicted 62 reviews that gave a 'No' recommendation.\n",
    "- The precision (positive predictive) value is 87%. This means that 87% of all Class 1 predictions were 'actual' class 1.\n",
    "- The recall (true positive) rate is 87%. This means that 87% of 'actual' Class 1 were predicted correctly."
   ]
  },
  {
   "cell_type": "markdown",
   "metadata": {},
   "source": [
    "The next step I'd like to try is reducing the dimensionality of the data using Principal Component Analysis (PCA). I'd like to see if the model can still produce an accurate result as well as a classification report if some of the dimensions are dropped. "
   ]
  },
  {
   "cell_type": "markdown",
   "metadata": {},
   "source": [
    "##### Logistic Regression - PCA"
   ]
  },
  {
   "cell_type": "code",
   "execution_count": 67,
   "metadata": {},
   "outputs": [
    {
     "data": {
      "text/plain": [
       "PCA()"
      ]
     },
     "execution_count": 67,
     "metadata": {},
     "output_type": "execute_result"
    }
   ],
   "source": [
    "# Instantiate PCA model\n",
    "pca_method = PCA()\n",
    "\n",
    "# Fit PCA to scaled data\n",
    "pca_method.fit(X_train_scaled)"
   ]
  },
  {
   "cell_type": "markdown",
   "metadata": {},
   "source": [
    "I'd like to maintain 80% of the variance in the dataset. To see how many components I'll need to achieve this, I'll be producing a plot that displays the cumulative explained variance of Principal Components."
   ]
  },
  {
   "cell_type": "code",
   "execution_count": 70,
   "metadata": {},
   "outputs": [
    {
     "data": {
      "image/png": "[encoded data removed]",
      "text/plain": [
       "<Figure size 864x504 with 1 Axes>"
      ]
     },
     "metadata": {
      "needs_background": "light"
     },
     "output_type": "display_data"
    }
   ],
   "source": [
    "explained_variance = pca_method.explained_variance_ratio_\n",
    "\n",
    "# Plot the figure\n",
    "plt.figure(figsize=(12,7))\n",
    "\n",
    "plt.plot(range(1, len(explained_variance)+1), explained_variance.cumsum(), marker='.')\n",
    "plt.axhline(0.8, color='black', linestyle='--')\n",
    "plt.axvline(700, color='black', linestyle='--')\n",
    "plt.xlabel('Number of Principal Components')\n",
    "plt.ylabel('Cumulative Explained Variance')\n",
    "plt.title('Plotting Cumulative Explained Variance by Principal Components')\n",
    "\n",
    "plt.show()"
   ]
  },
  {
   "cell_type": "markdown",
   "metadata": {},
   "source": [
    "It looks like the optimal number of Principal Components is needed to achieve around 80% variance is ~700 Principal Components. In order to make sure that this is the right number of components, we could apply a parameter value to the `PCA` function to find the minimum number of components needed. "
   ]
  },
  {
   "cell_type": "code",
   "execution_count": 71,
   "metadata": {},
   "outputs": [],
   "source": [
    "# Fit the new PCA parameter\n",
    "pca_method = PCA(n_components=0.8)\n",
    "\n",
    "pca_method.fit(X_train_scaled)\n",
    "\n",
    "# Transform each data subset\n",
    "X_train_pca = pca_method.transform(X_train_scaled)\n",
    "X_val_pca = pca_method.transform(X_val_scaled)\n",
    "X_test_pca = pca_method.transform(X_test_scaled)"
   ]
  },
  {
   "cell_type": "code",
   "execution_count": 72,
   "metadata": {},
   "outputs": [
    {
     "data": {
      "text/plain": [
       "710"
      ]
     },
     "execution_count": 72,
     "metadata": {},
     "output_type": "execute_result"
    }
   ],
   "source": [
    "pca_method.n_components_"
   ]
  },
  {
   "cell_type": "markdown",
   "metadata": {},
   "source": [
    "Now we can run the same hyperparameter optimization Logistic Regression model with the scaled PCA data."
   ]
  },
  {
   "cell_type": "code",
   "execution_count": 73,
   "metadata": {},
   "outputs": [
    {
     "name": "stdout",
     "output_type": "stream",
     "text": [
      "C=0.0001 completed\n",
      "C=0.001 completed\n",
      "C=0.01 completed\n",
      "C=0.1 completed\n",
      "C=1 completed\n",
      "C=10 completed\n",
      "C=100 completed\n",
      "C=1000 completed\n"
     ]
    },
    {
     "data": {
      "image/png": "[encoded data removed]",
      "text/plain": [
       "<Figure size 720x432 with 1 Axes>"
      ]
     },
     "metadata": {
      "needs_background": "light"
     },
     "output_type": "display_data"
    }
   ],
   "source": [
    "# Values of C to iterate over\n",
    "C_values = [0.0001, 0.001, 0.01, 0.1, 1, 10, 100, 1000]\n",
    "\n",
    "# Empty lists to store accuracy scores\n",
    "train_acc_pca = []\n",
    "val_acc_pca = []\n",
    "\n",
    "# Loop model iteration across all C-values\n",
    "for C in C_values:\n",
    "    logit_C = LogisticRegression(random_state=42, max_iter=3000, C=C).fit(X_train_pca, y_train)\n",
    "    train_acc_pca.append(logit_C.score(X_train_pca, y_train))\n",
    "    val_acc_pca.append(logit_C.score(X_val_pca, y_val))\n",
    "    print(f\"C={C} completed\")\n",
    "    \n",
    "# Visualize accuracy scores across C-values\n",
    "plt.figure(figsize=(10,6))\n",
    "plt.plot(C_values, train_acc_pca, marker='o', label='Train data')\n",
    "plt.plot(C_values, val_acc_pca, marker='o', label='Validation data')\n",
    "plt.xscale('log')\n",
    "plt.xlabel('Values for C (Regularization Strength)')\n",
    "plt.ylabel('Accuracy')\n",
    "plt.legend()\n",
    "plt.title('Model Accuracy with Different Regularization Strengths')\n",
    "plt.grid()\n",
    "\n",
    "plt.show()"
   ]
  },
  {
   "cell_type": "markdown",
   "metadata": {},
   "source": [
    "It appears that `C=0.1` looks to be a good choice again."
   ]
  },
  {
   "cell_type": "code",
   "execution_count": 74,
   "metadata": {},
   "outputs": [
    {
     "name": "stdout",
     "output_type": "stream",
     "text": [
      "Train Accuracy: 90.95%\n",
      "Validation Accuracy: 86.41%\n",
      "Test Accuracy: 86.2%\n"
     ]
    }
   ],
   "source": [
    "# Instantiate model\n",
    "log_reg3 = LogisticRegression(random_state=42, max_iter=3000, C=0.1).fit(X_train_pca, y_train)\n",
    "\n",
    "# Score model against data subsets\n",
    "log_reg3_train_acc = log_reg3.score(X_train_pca, y_train)\n",
    "log_reg3_val_acc = log_reg3.score(X_val_pca, y_val)\n",
    "log_reg3_test_acc = log_reg3.score(X_test_pca, y_test)\n",
    "\n",
    "print(f\"Train Accuracy: {round(log_reg3_train_acc,4)*100}%\")\n",
    "print(f\"Validation Accuracy: {round(log_reg3_val_acc,4)*100}%\")\n",
    "print(f\"Test Accuracy: {round(log_reg3_test_acc,4)*100}%\")"
   ]
  },
  {
   "cell_type": "markdown",
   "metadata": {},
   "source": [
    "Let's create a table that displays all the accuracy scores for the original scaled data, and the pca scaled data."
   ]
  },
  {
   "cell_type": "code",
   "execution_count": 75,
   "metadata": {},
   "outputs": [
    {
     "data": {
      "text/html": [
       "<div>\n",
       "<style scoped>\n",
       "    .dataframe tbody tr th:only-of-type {\n",
       "        vertical-align: middle;\n",
       "    }\n",
       "\n",
       "    .dataframe tbody tr th {\n",
       "        vertical-align: top;\n",
       "    }\n",
       "\n",
       "    .dataframe thead th {\n",
       "        text-align: right;\n",
       "    }\n",
       "</style>\n",
       "<table border=\"1\" class=\"dataframe\">\n",
       "  <thead>\n",
       "    <tr style=\"text-align: right;\">\n",
       "      <th></th>\n",
       "      <th>3911 Dimensions</th>\n",
       "      <th>710 Dimensions</th>\n",
       "    </tr>\n",
       "  </thead>\n",
       "  <tbody>\n",
       "    <tr>\n",
       "      <th>Train Accuracy</th>\n",
       "      <td>0.935120</td>\n",
       "      <td>0.909479</td>\n",
       "    </tr>\n",
       "    <tr>\n",
       "      <th>Validation Accuracy</th>\n",
       "      <td>0.860507</td>\n",
       "      <td>0.864130</td>\n",
       "    </tr>\n",
       "    <tr>\n",
       "      <th>Test Accuracy</th>\n",
       "      <td>0.864130</td>\n",
       "      <td>0.861957</td>\n",
       "    </tr>\n",
       "  </tbody>\n",
       "</table>\n",
       "</div>"
      ],
      "text/plain": [
       "                     3911 Dimensions  710 Dimensions\n",
       "Train Accuracy              0.935120        0.909479\n",
       "Validation Accuracy         0.860507        0.864130\n",
       "Test Accuracy               0.864130        0.861957"
      ]
     },
     "execution_count": 75,
     "metadata": {},
     "output_type": "execute_result"
    }
   ],
   "source": [
    "pd.DataFrame({'3911 Dimensions': [log_reg2_train_acc, log_reg2_val_acc, log_reg2_test_acc],\n",
    "                 '710 Dimensions': [log_reg3_train_acc, log_reg3_val_acc, log_reg3_test_acc]},\n",
    "            index = ['Train Accuracy', 'Validation Accuracy', 'Test Accuracy'])"
   ]
  },
  {
   "cell_type": "markdown",
   "metadata": {},
   "source": [
    "Amazingly there isn't significant difference between any of the datasets once the dimensions were greatly reduced. While the Train Accuracy did fall ~2.5% points, there was an increase in the Validation Accuracy, from 86.0% to 86.4%. However, the Test Accuracy saw a decrease of ~0.3% points. I would say the PCA Logistic Regression is more generalized than the original Logistic Regression model as there is less overfitting occurring between the Test and Train data sets. \n",
    "\n",
    "However, PCA doesn't come without risks. Implementing the PCA method on a dataset runs the risk of information loss and reduced interpretability of independent variables. Due to this issue, I will be sticking with the original scaled Logistic Regression model as it takes all dimensions into account."
   ]
  },
  {
   "cell_type": "markdown",
   "metadata": {},
   "source": [
    "Next I will be creating a model using KNNs."
   ]
  },
  {
   "cell_type": "markdown",
   "metadata": {},
   "source": [
    "#### Model 4.2 - K Nearest Neighbor Classifier"
   ]
  },
  {
   "cell_type": "markdown",
   "metadata": {},
   "source": [
    "I will now be experimenting with a KNN model to see if I get better, worse, or similar results as I did with Logistic Regression. The first step is conducting a simple, plain KNN model."
   ]
  },
  {
   "cell_type": "code",
   "execution_count": 76,
   "metadata": {},
   "outputs": [
    {
     "name": "stdout",
     "output_type": "stream",
     "text": [
      "Training Accuracy: 0.782051282051282\n",
      "Validation Accuracy: 0.6784420289855072\n"
     ]
    }
   ],
   "source": [
    "# Simple KNN with no hyperparamter optimization\n",
    "my_knn = KNeighborsClassifier()\n",
    "\n",
    "my_knn.fit(X_train_scaled, y_train)\n",
    "print(f\"Training Accuracy: {my_knn.score(X_train_scaled, y_train)}\")\n",
    "print(f\"Validation Accuracy: {my_knn.score(X_val_scaled, y_val)}\")"
   ]
  },
  {
   "cell_type": "markdown",
   "metadata": {},
   "source": [
    "There is quite a bit of overfitting between the Train and Validation sets, and the accuracies aren't as good as those for the Logistic Regression modelling, but I will see if I can improve on them through hyperparameter optimization."
   ]
  },
  {
   "cell_type": "code",
   "execution_count": 77,
   "metadata": {},
   "outputs": [
    {
     "name": "stdout",
     "output_type": "stream",
     "text": [
      "99 nearest neighbors modelled\r"
     ]
    }
   ],
   "source": [
    "k_values = np.arange(1, 101, 2)\n",
    "\n",
    "# Empty lists for metrics\n",
    "knn_train_acc = []\n",
    "knn_val_acc = []\n",
    "\n",
    "# Iterate over different 'k' values\n",
    "for k in k_values:\n",
    "    \n",
    "    my_knn = KNeighborsClassifier(n_neighbors=k)\n",
    "    my_knn.fit(X_train_scaled, y_train)\n",
    "    knn_train_acc.append(my_knn.score(X_train_scaled, y_train))\n",
    "    knn_val_acc.append(my_knn.score(X_val_scaled, y_val))\n",
    "    \n",
    "    print(f\"{k} nearest neighbors modelled\", end='\\r')\n",
    "    "
   ]
  },
  {
   "cell_type": "code",
   "execution_count": 78,
   "metadata": {},
   "outputs": [
    {
     "data": {
      "image/png": "[encoded data removed]",
      "text/plain": [
       "<Figure size 864x504 with 1 Axes>"
      ]
     },
     "metadata": {
      "needs_background": "light"
     },
     "output_type": "display_data"
    }
   ],
   "source": [
    "# Visualize relationship between 'k' and model accuracy\n",
    "plt.figure(figsize=(12,7))\n",
    "plt.plot(k_values, knn_train_acc, marker='o', label='Train Data')\n",
    "plt.plot(k_values, knn_val_acc, marker='o', label='Validation Data')\n",
    "plt.legend()\n",
    "plt.xlabel('n_neighbors (k)')\n",
    "plt.ylabel('Model Accuracy')\n",
    "plt.title('Relationship between K and Model Accuracy')\n",
    "\n",
    "plt.show()"
   ]
  },
  {
   "cell_type": "markdown",
   "metadata": {},
   "source": [
    "It can be seen that the Train and Validation sets eventually plateau at around 75%, indicating minimal overfitting on the Validation set's part. However, to find the optimal `k` value, I can employ a pipeline method that can will also make use of cross-validation."
   ]
  },
  {
   "cell_type": "code",
   "execution_count": 79,
   "metadata": {},
   "outputs": [
    {
     "name": "stdout",
     "output_type": "stream",
     "text": [
      "Fitting 3 folds for each of 50 candidates, totalling 150 fits\n"
     ]
    },
    {
     "data": {
      "text/plain": [
       "GridSearchCV(cv=3,\n",
       "             estimator=Pipeline(steps=[('scaler', MinMaxScaler()),\n",
       "                                       ('transformer',\n",
       "                                        KNeighborsTransformer(n_neighbors=101)),\n",
       "                                       ('classifier',\n",
       "                                        KNeighborsClassifier(metric='precomputed'))]),\n",
       "             param_grid={'classifier__n_neighbors': array([ 1,  3,  5,  7,  9, 11, 13, 15, 17, 19, 21, 23, 25, 27, 29, 31, 33,\n",
       "       35, 37, 39, 41, 43, 45, 47, 49, 51, 53, 55, 57, 59, 61, 63, 65, 67,\n",
       "       69, 71, 73, 75, 77, 79, 81, 83, 85, 87, 89, 91, 93, 95, 97, 99])},\n",
       "             verbose=1)"
      ]
     },
     "execution_count": 79,
     "metadata": {},
     "output_type": "execute_result"
    }
   ],
   "source": [
    "# Instantiate KNeighbors Transformer \n",
    "knn_transformer = KNeighborsTransformer(mode='distance', n_neighbors=101)\n",
    "knn_classifier = KNeighborsClassifier(metric='precomputed')\n",
    "\n",
    "# Put in pipeline\n",
    "knn_pipeline = Pipeline([('scaler', MinMaxScaler()),\n",
    "                           ('transformer', knn_transformer),\n",
    "                           ('classifier', knn_classifier)],\n",
    "                         )\n",
    "\n",
    "# Set up the grid search\n",
    "grid_params = {'classifier__n_neighbors':k_values}\n",
    "\n",
    "# Instantiate\n",
    "my_gridsearch = GridSearchCV(knn_pipeline, grid_params, verbose=1, cv=3)\n",
    "\n",
    "# Fit\n",
    "my_gridsearch.fit(X_rem, y_rem)"
   ]
  },
  {
   "cell_type": "markdown",
   "metadata": {},
   "source": [
    "Let's check out what the best parameters are to use for the optimal KNN model."
   ]
  },
  {
   "cell_type": "code",
   "execution_count": 80,
   "metadata": {},
   "outputs": [
    {
     "data": {
      "text/plain": [
       "Pipeline(steps=[('scaler', MinMaxScaler()),\n",
       "                ('transformer', KNeighborsTransformer(n_neighbors=101)),\n",
       "                ('classifier',\n",
       "                 KNeighborsClassifier(metric='precomputed', n_neighbors=99))])"
      ]
     },
     "execution_count": 80,
     "metadata": {},
     "output_type": "execute_result"
    }
   ],
   "source": [
    "# Find out best parameters\n",
    "my_gridsearch.best_estimator_"
   ]
  },
  {
   "cell_type": "markdown",
   "metadata": {},
   "source": [
    "It appears the optimal `k` value occurs when the `n_neighbors=99`. Therefore, in the next iteration of the optimal knn model, I will use `n_neighbors=99`. "
   ]
  },
  {
   "cell_type": "code",
   "execution_count": 81,
   "metadata": {},
   "outputs": [
    {
     "name": "stdout",
     "output_type": "stream",
     "text": [
      "Optimized KNN Model\n",
      "Train Accuracy: 0.7214452214452215\n",
      "Validation Accuracy: 0.7255434782608695\n",
      "Test Accuracy: 0.7054347826086956\n"
     ]
    }
   ],
   "source": [
    "my_knn_optimal = KNeighborsClassifier(n_neighbors=99)\n",
    "\n",
    "my_knn_optimal.fit(X_train_scaled, y_train)\n",
    "\n",
    "knn_optimal_train = my_knn_optimal.score(X_train_scaled, y_train)\n",
    "knn_optimal_val = my_knn_optimal.score(X_val_scaled, y_val)\n",
    "knn_optimal_test = my_knn_optimal.score(X_test_scaled, y_test)\n",
    "\n",
    "print(\"Optimized KNN Model\")\n",
    "print(f\"Train Accuracy: {knn_optimal_train}\")\n",
    "print(f\"Validation Accuracy: {knn_optimal_val}\")\n",
    "print(f\"Test Accuracy: {knn_optimal_test}\")"
   ]
  },
  {
   "cell_type": "markdown",
   "metadata": {},
   "source": [
    "It looks like when `k=99`, I get my best Test Accuracy score of 70.54%, which is only ~1.6% point lower than Train Accuracy score, indicating low overfitting. An added bonus is that when the optimal `n_neighbors=99` the validation accuracy has increased, and the KNN model has much less overfitting occurring compared to the Logistic Regression model. \n",
    "\n",
    "Next we'll see how the model predictions faired. "
   ]
  },
  {
   "cell_type": "code",
   "execution_count": 82,
   "metadata": {},
   "outputs": [
    {
     "name": "stderr",
     "output_type": "stream",
     "text": [
      "D:\\UDemy\\lib\\site-packages\\sklearn\\utils\\deprecation.py:87: FutureWarning: Function plot_confusion_matrix is deprecated; Function `plot_confusion_matrix` is deprecated in 1.0 and will be removed in 1.2. Use one of the class methods: ConfusionMatrixDisplay.from_predictions or ConfusionMatrixDisplay.from_estimator.\n",
      "  warnings.warn(msg, category=FutureWarning)\n"
     ]
    },
    {
     "name": "stdout",
     "output_type": "stream",
     "text": [
      "              precision    recall  f1-score   support\n",
      "\n",
      "           0       0.75      0.59      0.66       446\n",
      "           1       0.68      0.82      0.74       474\n",
      "\n",
      "    accuracy                           0.71       920\n",
      "   macro avg       0.71      0.70      0.70       920\n",
      "weighted avg       0.71      0.71      0.70       920\n",
      "\n"
     ]
    },
    {
     "data": {
      "image/png": "[encoded data removed]",
      "text/plain": [
       "<Figure size 432x288 with 2 Axes>"
      ]
     },
     "metadata": {
      "needs_background": "light"
     },
     "output_type": "display_data"
    }
   ],
   "source": [
    "# Model predictions on test data\n",
    "y_pred_knn = my_knn_optimal.predict(X_test_scaled)\n",
    "\n",
    "# Call confusion matrix\n",
    "plot_confusion_matrix(my_knn_optimal, X_test_scaled, y_test, cmap='viridis')\n",
    "\n",
    "print(classification_report(y_test, y_pred_knn))"
   ]
  },
  {
   "cell_type": "markdown",
   "metadata": {},
   "source": [
    "It can be seen that the KNN model did not perform as well as the Logistic Regression model. The KNN classification report is summarized as follows:\n",
    "\n",
    "- There are **388** True Positives and **261** True Negatives, adding up to ~70% model accuracy. This means that the model correctly predicted 388 reviews that gave a 'Yes' recommendation, and correctly predicted 261 reviews that gave a 'No' recommendation. \n",
    "- False positives (Type I errors) make up ~20.1% of predictions. This means that the model incorrectly predicted 185 reviews that gave a 'Yes' recommendation.\n",
    "- False negatives (Type II errors) make up ~9.3% of predictions. This means that the model incorrectly predicted 86 reviews that gave a 'No' recommendation.\n",
    "- The precision (positive predictive) value is 68%. This means that 68% of all Class 1 predictions were 'actual' class 1.\n",
    "- The recall (true positive) rate is 82%. This means that 82% of 'actual' Class 1 were predicted correctly.\n",
    "\n",
    "Compared to the Logistic Regression model, the precision percentage is significantly lower, but they the recall score is relatively good. It doesn't look good for the KNN model as it predicted a large amount of False Positives, which can be misleading for travellers and airlines alike if this model was used. "
   ]
  },
  {
   "cell_type": "markdown",
   "metadata": {},
   "source": [
    "#### Model 4.3 - Decision Tree Classifier"
   ]
  },
  {
   "cell_type": "code",
   "execution_count": 83,
   "metadata": {},
   "outputs": [
    {
     "name": "stdout",
     "output_type": "stream",
     "text": [
      "Train Accuracy: 1.0\n",
      "Validation Accuracy: 0.7653985507246377\n"
     ]
    }
   ],
   "source": [
    "# Instantiate basic model\n",
    "dtree = DecisionTreeClassifier()\n",
    "\n",
    "# Fit and score \n",
    "dtree.fit(X_train_scaled, y_train)\n",
    "print(f\"Train Accuracy: {dtree.score(X_train_scaled, y_train)}\")\n",
    "print(f\"Validation Accuracy: {dtree.score(X_val_scaled, y_val)}\")"
   ]
  },
  {
   "cell_type": "markdown",
   "metadata": {},
   "source": [
    "The basic Decision Tree model provides a validation accuracy of 75% and a train accuracy 0f 100% which doesn't tell us a lot. Let's try conducting a bit more hyperparameter optimization by exploring how the model performs with varioud `max_depth` values."
   ]
  },
  {
   "cell_type": "code",
   "execution_count": 84,
   "metadata": {},
   "outputs": [
    {
     "name": "stdout",
     "output_type": "stream",
     "text": [
      "Completed max_depth=14\r"
     ]
    }
   ],
   "source": [
    "# Levels of splitting to test\n",
    "max_depths = [2,3,4,5,6,7,8,9,10,11,12,13,14]\n",
    "\n",
    "# Empty lists for metrics\n",
    "dtree_train_acc = []\n",
    "dtree_val_acc = []\n",
    "\n",
    "# Iterate over parameter values\n",
    "for max_depth in max_depths:\n",
    "    dtree_md = DecisionTreeClassifier(max_depth=max_depth)\n",
    "    dtree_md.fit(X_train_scaled, y_train)\n",
    "    \n",
    "    dtree_train_acc.append(dtree_md.score(X_train_scaled, y_train))\n",
    "    dtree_val_acc.append(dtree_md.score(X_val_scaled, y_val))\n",
    "    \n",
    "    print(f\"Completed max_depth={max_depth}\", end='\\r')"
   ]
  },
  {
   "cell_type": "markdown",
   "metadata": {},
   "source": [
    "Plot the results"
   ]
  },
  {
   "cell_type": "code",
   "execution_count": 85,
   "metadata": {
    "scrolled": true
   },
   "outputs": [
    {
     "data": {
      "image/png": "[encoded data removed]",
      "text/plain": [
       "<Figure size 576x360 with 1 Axes>"
      ]
     },
     "metadata": {
      "needs_background": "light"
     },
     "output_type": "display_data"
    }
   ],
   "source": [
    "# Plot the figure\n",
    "plt.figure(figsize=(8,5))\n",
    "\n",
    "plt.plot(max_depths, dtree_train_acc, marker='o', label='Train Data')\n",
    "plt.plot(max_depths, dtree_val_acc, marker='o', label='Validation Data')\n",
    "plt.xlabel('Maximum Depth')\n",
    "plt.ylabel('Accuracy')\n",
    "plt.title(\"Model Accuracy with different 'max_depth' Values\")\n",
    "plt.legend()\n",
    "plt.grid()\n",
    "plt.show()"
   ]
  },
  {
   "cell_type": "markdown",
   "metadata": {},
   "source": [
    "As the train accuracy increases, the validation accuracy seems to plateau around 80%. I will be picking a `max_depth=5` as that depth provides a good accuracy with the least amount of overfitting."
   ]
  },
  {
   "cell_type": "code",
   "execution_count": 86,
   "metadata": {},
   "outputs": [
    {
     "name": "stdout",
     "output_type": "stream",
     "text": [
      "Train Accuracy: 81.04%\n",
      "Validation Accuracy: 79.89%\n",
      "Test Accuracy: 76.2%\n"
     ]
    }
   ],
   "source": [
    "# Use the optimal max depth\n",
    "dtree2 = DecisionTreeClassifier(max_depth=5)\n",
    "\n",
    "dtree2.fit(X_train_scaled, y_train)\n",
    "\n",
    "dtree2_train_acc = dtree2.score(X_train_scaled, y_train)\n",
    "dtree2_val_acc = dtree2.score(X_val_scaled, y_val)\n",
    "dtree2_test_acc = dtree2.score(X_test_scaled, y_test)\n",
    "\n",
    "print(f\"Train Accuracy: {round(dtree2_train_acc, 4)*100}%\")\n",
    "print(f\"Validation Accuracy: {round(dtree2_val_acc, 4)*100}%\")\n",
    "print(f\"Test Accuracy: {round(dtree2_test_acc, 4)*100}%\")"
   ]
  },
  {
   "cell_type": "markdown",
   "metadata": {},
   "source": [
    "The Decision Tree model is more generalized now. We have brought down the accuracy of the train set significantly while increasing the validation accuracy. The Test set performed decently well, presenting an accuracy score of 76%. We can next check the model predictions of the Decision Tree."
   ]
  },
  {
   "cell_type": "code",
   "execution_count": 87,
   "metadata": {},
   "outputs": [
    {
     "name": "stderr",
     "output_type": "stream",
     "text": [
      "D:\\UDemy\\lib\\site-packages\\sklearn\\utils\\deprecation.py:87: FutureWarning: Function plot_confusion_matrix is deprecated; Function `plot_confusion_matrix` is deprecated in 1.0 and will be removed in 1.2. Use one of the class methods: ConfusionMatrixDisplay.from_predictions or ConfusionMatrixDisplay.from_estimator.\n",
      "  warnings.warn(msg, category=FutureWarning)\n"
     ]
    },
    {
     "name": "stdout",
     "output_type": "stream",
     "text": [
      "              precision    recall  f1-score   support\n",
      "\n",
      "           0       0.76      0.75      0.75       446\n",
      "           1       0.77      0.77      0.77       474\n",
      "\n",
      "    accuracy                           0.76       920\n",
      "   macro avg       0.76      0.76      0.76       920\n",
      "weighted avg       0.76      0.76      0.76       920\n",
      "\n"
     ]
    },
    {
     "data": {
      "image/png": "[encoded data removed]",
      "text/plain": [
       "<Figure size 432x288 with 2 Axes>"
      ]
     },
     "metadata": {
      "needs_background": "light"
     },
     "output_type": "display_data"
    }
   ],
   "source": [
    "# Model predictions on test data\n",
    "y_pred_dtree = dtree2.predict(X_test_scaled)\n",
    "\n",
    "# Call confusion matrix\n",
    "plot_confusion_matrix(dtree2, X_test_scaled, y_test, cmap='viridis')\n",
    "\n",
    "print(classification_report(y_test, y_pred_dtree))"
   ]
  },
  {
   "cell_type": "markdown",
   "metadata": {},
   "source": [
    "The Decision Tree model performs slightly better than the KNN model, but not as good as the Logistic Regression mode. The Decision Tree model classification report is summarized as follows:\n",
    "\n",
    "- There are **367** True Positives and **334** True Negatives, adding up to ~76% model accuracy. This means that the model correctly predicted 367 reviews that gave a 'Yes' recommendation, and correctly predicted 334 reviews that gave a 'No' recommendation. \n",
    "- False positives (Type I errors) make up ~12.2% of predictions. This means that the model incorrectly predicted 112 reviews that gave a 'Yes' recommendation.\n",
    "- False negatives (Type II errors) make up ~11.6% of predictions. This means that the model incorrectly predicted 107 reviews that gave a 'No' recommendation.\n",
    "- The precision (positive predictive) value is 77%. This means that 77% of all Class 1 predictions were 'actual' class 1.\n",
    "- The recall (true positive) rate is 77%. This means that 77% of 'actual' Class 1 were predicted correctly.\n",
    "\n",
    "We see better precision and recall scores for the Decision Tree model, with both at 77%. This is great news as, in terms of recall, the model is not missing many class members. However, the Logistic Regression model has a precision and recall score of 87% respectively.\n",
    "\n",
    "When it comes to predicting airline Yes/No recommendations from airline reviews, a higher precision AND recall score would ensure the airlines' executives are receiving accurate data that will help them address certain issues in areas where they can improve on, and maintain consistent standards in areas where they are performing well."
   ]
  },
  {
   "cell_type": "markdown",
   "metadata": {},
   "source": [
    "#### Model 4.4 - Support Vector Machines"
   ]
  },
  {
   "cell_type": "markdown",
   "metadata": {},
   "source": [
    "I have decided to also experiment with a SVM model to see if it can perform better than a Logistic Regression model. The two are similar in certain ways, such that both models learn linear decision boundaries. However, SVM model's goal is to find the boundary which is in the middle of the two classes, maximizing the distance between the decision boundary and the closest points from the training data.\n",
    "\n",
    "Whereas a Logistic Regression model takes a probabilistic approach and aims to maximize the likelihood of the training data given the parameters. \n",
    "\n",
    "So let's see whether a SVM model can perform just as well, if not better, than the Logistic Regression model."
   ]
  },
  {
   "cell_type": "code",
   "execution_count": 88,
   "metadata": {},
   "outputs": [
    {
     "name": "stdout",
     "output_type": "stream",
     "text": [
      "Train Accuracy: 1.0\n",
      "Validation Accuracy: 0.8297101449275363\n"
     ]
    }
   ],
   "source": [
    "# Instantiate basic model\n",
    "SVM_model = LinearSVC()\n",
    "\n",
    "# Fit and score \n",
    "SVM_model.fit(X_train_scaled, y_train)\n",
    "print(f\"Train Accuracy: {SVM_model.score(X_train_scaled, y_train)}\")\n",
    "print(f\"Validation Accuracy: {SVM_model.score(X_val_scaled, y_val)}\")"
   ]
  },
  {
   "cell_type": "markdown",
   "metadata": {},
   "source": [
    "No surprise that the Train Accuracy is 100%, but we do have a decent start with the Validation Accuracy of 82.97%. Next we'll apply hyperparameter optimization to see what the best C candidate is."
   ]
  },
  {
   "cell_type": "code",
   "execution_count": 89,
   "metadata": {},
   "outputs": [
    {
     "data": {
      "image/png": "[encoded data removed]",
      "text/plain": [
       "<Figure size 576x360 with 1 Axes>"
      ]
     },
     "metadata": {
      "needs_background": "light"
     },
     "output_type": "display_data"
    }
   ],
   "source": [
    "# SVM \n",
    "c_candidates = 10**np.arange(-10.0,10.0)\n",
    "\n",
    "svm_train_acc = []\n",
    "svm_val_acc = []\n",
    "\n",
    "# Loop through\n",
    "for c in c_candidates:\n",
    "    \n",
    "    SVM_model = LinearSVC(C=c)\n",
    "    SVM_model.fit(X_train_scaled, y_train)\n",
    "    \n",
    "    svm_train_acc.append(SVM_model.score(X_train_scaled, y_train))\n",
    "    svm_val_acc.append(SVM_model.score(X_val_scaled, y_val))\n",
    "    \n",
    "plt.figure(figsize=(8,5))\n",
    "\n",
    "plt.plot(c_candidates, svm_train_acc, marker='o', label='Train Data')\n",
    "plt.plot(c_candidates, svm_val_acc, marker='o', label='Validation Data')\n",
    "plt.xlabel('C_Candidates')\n",
    "plt.ylabel('Accuracy')\n",
    "plt.title(\"Model Accuracy with different 'c_candidates' Values\")\n",
    "plt.legend()\n",
    "plt.xscale('log')\n",
    "plt.grid()\n",
    "plt.show()"
   ]
  },
  {
   "cell_type": "markdown",
   "metadata": {},
   "source": [
    "The Train set eventually increases 100% accuracy when the `C_candidate=~0.1` whereas the Validation set peaks at `C_candidate=0.01` and then plateaus at ~83%."
   ]
  },
  {
   "cell_type": "code",
   "execution_count": 90,
   "metadata": {
    "scrolled": true
   },
   "outputs": [
    {
     "name": "stdout",
     "output_type": "stream",
     "text": [
      "Train Accuracy: 0.9355089355089355\n",
      "Validation Accuracy: 0.8605072463768116\n",
      "Test Accuracy: 0.8608695652173913\n"
     ]
    }
   ],
   "source": [
    "# Instantiate basic model\n",
    "SVM_model = LinearSVC(random_state=42, max_iter=3000, C=0.01)\n",
    "\n",
    "# Fit and score \n",
    "SVM_model.fit(X_train_scaled, y_train)\n",
    "print(f\"Train Accuracy: {SVM_model.score(X_train_scaled, y_train)}\")\n",
    "print(f\"Validation Accuracy: {SVM_model.score(X_val_scaled, y_val)}\")\n",
    "print(f\"Test Accuracy: {SVM_model.score(X_test_scaled, y_test)}\")"
   ]
  },
  {
   "cell_type": "markdown",
   "metadata": {},
   "source": [
    "We were able to reduce the overfitting, creating a more generalized model, but there is more overfitting with the SVM model compared to the Decision Tree and KNN models, and just slightly more overfitting than the Logistic Regression model. \n",
    "\n",
    "Next let's see the classification report for the SVM model."
   ]
  },
  {
   "cell_type": "code",
   "execution_count": 91,
   "metadata": {},
   "outputs": [
    {
     "name": "stderr",
     "output_type": "stream",
     "text": [
      "D:\\UDemy\\lib\\site-packages\\sklearn\\utils\\deprecation.py:87: FutureWarning: Function plot_confusion_matrix is deprecated; Function `plot_confusion_matrix` is deprecated in 1.0 and will be removed in 1.2. Use one of the class methods: ConfusionMatrixDisplay.from_predictions or ConfusionMatrixDisplay.from_estimator.\n",
      "  warnings.warn(msg, category=FutureWarning)\n"
     ]
    },
    {
     "name": "stdout",
     "output_type": "stream",
     "text": [
      "              precision    recall  f1-score   support\n",
      "\n",
      "           0       0.86      0.85      0.86       446\n",
      "           1       0.86      0.87      0.87       474\n",
      "\n",
      "    accuracy                           0.86       920\n",
      "   macro avg       0.86      0.86      0.86       920\n",
      "weighted avg       0.86      0.86      0.86       920\n",
      "\n"
     ]
    },
    {
     "data": {
      "image/png": "[encoded data removed]",
      "text/plain": [
       "<Figure size 432x288 with 2 Axes>"
      ]
     },
     "metadata": {
      "needs_background": "light"
     },
     "output_type": "display_data"
    }
   ],
   "source": [
    "# Model predictions on test data\n",
    "y_pred_svm = SVM_model.predict(X_test_scaled)\n",
    "\n",
    "# Call confusion matrix\n",
    "plot_confusion_matrix(SVM_model, X_test_scaled, y_test, cmap='viridis')\n",
    "\n",
    "print(classification_report(y_test, y_pred_svm))"
   ]
  },
  {
   "cell_type": "markdown",
   "metadata": {},
   "source": [
    "The SVM model performs better than the KNN and Decision Tree models, but and is comparable to the Logistic Regression model. The SVM model classification report is summarized as follows:\n",
    "\n",
    "- There are **411** True Positives and **381** True Negatives, adding up to ~86% model accuracy. This means that the model correctly predicted 411 reviews that gave a 'Yes' recommendation, and correctly predicted 381 reviews that gave a 'No' recommendation. \n",
    "- False positives (Type I errors) make up ~6.9% of predictions. This means that the model incorrectly predicted 65 reviews that gave a 'Yes' recommendation.\n",
    "- False negatives (Type II errors) make up ~7.9% of predictions. This means that the model incorrectly predicted 63 reviews that gave a 'No' recommendation.\n",
    "- The precision (positive predictive) value is 86%. This means that 86% of all Class 1 predictions were 'actual' class 1.\n",
    "- The recall (true positive) rate is 87%. This means that 87% of 'actual' Class 1 were predicted correctly.\n",
    "\n",
    "Based on the numbers, there isn't much difference in model performance between the Logistic Regression and SVM models. The only difference is that the Logistic Regression model has a slightly better test accuracy score, as well as a slightly better precision score. "
   ]
  },
  {
   "cell_type": "markdown",
   "metadata": {},
   "source": [
    "#### Conclusions"
   ]
  },
  {
   "cell_type": "markdown",
   "metadata": {},
   "source": [
    "In this notebook we performed Natural Language Processing on airline customer reviews using 4 machine learning models. These 4 models were Logistic Regression (with PCA), K-Nearest Neighbors, Decision Trees and Support Vector Machine (SVM). I performed various hyperparameter optimization techniques for all the machine learning methods to find the optimal `k`, `c`, `c_candidate` and `max_depth` for each model, using for loops for all of them. I also applied Principal Component Analysis to the Logistic Regression model to see whether dimension reduction would produce a positive outcome on the Logistic Regression model. \n",
    "\n",
    "After performing an analysis and comparing the precision and recall scores of each model, I have decided to go forward with with the Logistic Regression model. It produces the highest precision and recall scores of 87% respectively, with SVM having a slightly less precision score.\n",
    "\n",
    "A precision and recall score of 87% each is great since the model accurately identifies points that do actually belong to a specific class, and does not miss identifying many class members. This means that the Logistic Regression model is accurately predicting which reviews lead to a yes/no recommend, and is doing so with missing only a minimal amount of class members. It also has a slightly better test accuracy than the SVM model (86.4% to 86.1). The difference is small, but the higher the accuracy, the higher the better chances of predicting which reviews led to a yes/no recommendation."
   ]
  },
  {
   "cell_type": "code",
   "execution_count": null,
   "metadata": {},
   "outputs": [],
   "source": []
  }
 ],
 "metadata": {
  "kernelspec": {
   "display_name": "Python 3 (ipykernel)",
   "language": "python",
   "name": "python3"
  },
  "language_info": {
   "codemirror_mode": {
    "name": "ipython",
    "version": 3
   },
   "file_extension": ".py",
   "mimetype": "text/x-python",
   "name": "python",
   "nbconvert_exporter": "python",
   "pygments_lexer": "ipython3",
   "version": "3.7.12"
  }
 },
 "nbformat": 4,
 "nbformat_minor": 2
}
