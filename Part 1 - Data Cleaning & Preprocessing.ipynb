{
 "cells": [
  {
   "cell_type": "markdown",
   "metadata": {},
   "source": [
    "This notebook will consist of cleaning and preprocessing the data. Imputing and dropping missing values, columns, as well as adding new features will make up the bulk of this notebook.\n",
    "\n",
    "The overall goal of this project is to use customer reviews to predict whether a traveller's experience led to a yes/no recommendation for an airline. This will allow travellers to choose the right airline for their travel needs and have a smooth travel experience. It can also help airlines monitor the the quality of their services provided on each flight for each route, thereby increasing the likelihood of receiving a yes recommendation, and also boosting their customer traffic. \n",
    "\n",
    "The dataset was acquired from Kaggle, and was webscraped from the Skytrax website by Divyansh Agrawal. Now that we know where the dataset comes from, we can begin the cleaning process. "
   ]
  },
  {
   "cell_type": "code",
   "execution_count": 1,
   "metadata": {},
   "outputs": [],
   "source": [
    "# Import necessary libraries\n",
    "\n",
    "import numpy as np\n",
    "import pandas as pd\n",
    "import matplotlib.pyplot as plt\n",
    "import seaborn as sns\n",
    "from datetime import datetime\n",
    "import warnings\n",
    "warnings.filterwarnings(\"ignore\")"
   ]
  },
  {
   "cell_type": "markdown",
   "metadata": {},
   "source": [
    "The next step is reading in the dataset."
   ]
  },
  {
   "cell_type": "code",
   "execution_count": 2,
   "metadata": {},
   "outputs": [],
   "source": [
    "# Read in the airline dataset\n",
    "df = pd.read_csv('capstone_airline_reviews 1.csv')"
   ]
  },
  {
   "cell_type": "markdown",
   "metadata": {},
   "source": [
    "To do a quick overview of the dataset, let's use the `.head()` function to see what kind of data we'll be dealing with and to conduct an initial examination to see what columns to drop/keep."
   ]
  },
  {
   "cell_type": "code",
   "execution_count": 3,
   "metadata": {},
   "outputs": [
    {
     "data": {
      "text/html": [
       "<div>\n",
       "<style scoped>\n",
       "    .dataframe tbody tr th:only-of-type {\n",
       "        vertical-align: middle;\n",
       "    }\n",
       "\n",
       "    .dataframe tbody tr th {\n",
       "        vertical-align: top;\n",
       "    }\n",
       "\n",
       "    .dataframe thead th {\n",
       "        text-align: right;\n",
       "    }\n",
       "</style>\n",
       "<table border=\"1\" class=\"dataframe\">\n",
       "  <thead>\n",
       "    <tr style=\"text-align: right;\">\n",
       "      <th></th>\n",
       "      <th>airline</th>\n",
       "      <th>overall</th>\n",
       "      <th>author</th>\n",
       "      <th>review_date</th>\n",
       "      <th>customer_review</th>\n",
       "      <th>aircraft</th>\n",
       "      <th>traveller_type</th>\n",
       "      <th>cabin</th>\n",
       "      <th>route</th>\n",
       "      <th>date_flown</th>\n",
       "      <th>seat_comfort</th>\n",
       "      <th>cabin_service</th>\n",
       "      <th>food_bev</th>\n",
       "      <th>entertainment</th>\n",
       "      <th>ground_service</th>\n",
       "      <th>value_for_money</th>\n",
       "      <th>recommended</th>\n",
       "    </tr>\n",
       "  </thead>\n",
       "  <tbody>\n",
       "    <tr>\n",
       "      <th>0</th>\n",
       "      <td>Turkish Airlines</td>\n",
       "      <td>7.0</td>\n",
       "      <td>Christopher Hackley</td>\n",
       "      <td>8th May 2019</td>\n",
       "      <td>✅ Trip Verified | London to Izmir via Istanbul...</td>\n",
       "      <td>NaN</td>\n",
       "      <td>Business</td>\n",
       "      <td>Economy Class</td>\n",
       "      <td>London to Izmir via Istanbul</td>\n",
       "      <td>19-May</td>\n",
       "      <td>4.0</td>\n",
       "      <td>5.0</td>\n",
       "      <td>4.0</td>\n",
       "      <td>4.0</td>\n",
       "      <td>2.0</td>\n",
       "      <td>4.0</td>\n",
       "      <td>yes</td>\n",
       "    </tr>\n",
       "    <tr>\n",
       "      <th>1</th>\n",
       "      <td>Turkish Airlines</td>\n",
       "      <td>2.0</td>\n",
       "      <td>Adriana Pisoi</td>\n",
       "      <td>7th May 2019</td>\n",
       "      <td>✅ Trip Verified | Istanbul to Bucharest. We ma...</td>\n",
       "      <td>NaN</td>\n",
       "      <td>Family Leisure</td>\n",
       "      <td>Economy Class</td>\n",
       "      <td>Istanbul to Bucharest</td>\n",
       "      <td>19-May</td>\n",
       "      <td>4.0</td>\n",
       "      <td>1.0</td>\n",
       "      <td>1.0</td>\n",
       "      <td>1.0</td>\n",
       "      <td>1.0</td>\n",
       "      <td>1.0</td>\n",
       "      <td>no</td>\n",
       "    </tr>\n",
       "    <tr>\n",
       "      <th>2</th>\n",
       "      <td>Turkish Airlines</td>\n",
       "      <td>3.0</td>\n",
       "      <td>M Galerko</td>\n",
       "      <td>7th May 2019</td>\n",
       "      <td>✅ Trip Verified | Rome to Prishtina via Istanb...</td>\n",
       "      <td>NaN</td>\n",
       "      <td>Business</td>\n",
       "      <td>Economy Class</td>\n",
       "      <td>Rome to Prishtina via Istanbul</td>\n",
       "      <td>19-May</td>\n",
       "      <td>1.0</td>\n",
       "      <td>4.0</td>\n",
       "      <td>1.0</td>\n",
       "      <td>3.0</td>\n",
       "      <td>1.0</td>\n",
       "      <td>2.0</td>\n",
       "      <td>no</td>\n",
       "    </tr>\n",
       "    <tr>\n",
       "      <th>3</th>\n",
       "      <td>Turkish Airlines</td>\n",
       "      <td>10.0</td>\n",
       "      <td>Zeshan Shah</td>\n",
       "      <td>6th May 2019</td>\n",
       "      <td>✅ Trip Verified | Flew on Turkish Airlines IAD...</td>\n",
       "      <td>A330</td>\n",
       "      <td>Solo Leisure</td>\n",
       "      <td>Economy Class</td>\n",
       "      <td>Washington Dulles to Karachi</td>\n",
       "      <td>19-Apr</td>\n",
       "      <td>4.0</td>\n",
       "      <td>5.0</td>\n",
       "      <td>5.0</td>\n",
       "      <td>5.0</td>\n",
       "      <td>5.0</td>\n",
       "      <td>5.0</td>\n",
       "      <td>yes</td>\n",
       "    </tr>\n",
       "    <tr>\n",
       "      <th>4</th>\n",
       "      <td>Turkish Airlines</td>\n",
       "      <td>1.0</td>\n",
       "      <td>Pooja Jain</td>\n",
       "      <td>6th May 2019</td>\n",
       "      <td>✅ Trip Verified | Mumbai to Dublin via Istanbu...</td>\n",
       "      <td>NaN</td>\n",
       "      <td>Solo Leisure</td>\n",
       "      <td>Economy Class</td>\n",
       "      <td>Mumbai to Dublin via Istanbul</td>\n",
       "      <td>19-May</td>\n",
       "      <td>1.0</td>\n",
       "      <td>1.0</td>\n",
       "      <td>1.0</td>\n",
       "      <td>1.0</td>\n",
       "      <td>1.0</td>\n",
       "      <td>1.0</td>\n",
       "      <td>no</td>\n",
       "    </tr>\n",
       "  </tbody>\n",
       "</table>\n",
       "</div>"
      ],
      "text/plain": [
       "            airline  overall               author   review_date  \\\n",
       "0  Turkish Airlines      7.0  Christopher Hackley  8th May 2019   \n",
       "1  Turkish Airlines      2.0        Adriana Pisoi  7th May 2019   \n",
       "2  Turkish Airlines      3.0            M Galerko  7th May 2019   \n",
       "3  Turkish Airlines     10.0          Zeshan Shah  6th May 2019   \n",
       "4  Turkish Airlines      1.0           Pooja Jain  6th May 2019   \n",
       "\n",
       "                                     customer_review aircraft  traveller_type  \\\n",
       "0  ✅ Trip Verified | London to Izmir via Istanbul...      NaN        Business   \n",
       "1  ✅ Trip Verified | Istanbul to Bucharest. We ma...      NaN  Family Leisure   \n",
       "2  ✅ Trip Verified | Rome to Prishtina via Istanb...      NaN        Business   \n",
       "3  ✅ Trip Verified | Flew on Turkish Airlines IAD...     A330    Solo Leisure   \n",
       "4  ✅ Trip Verified | Mumbai to Dublin via Istanbu...      NaN    Solo Leisure   \n",
       "\n",
       "           cabin                           route date_flown  seat_comfort  \\\n",
       "0  Economy Class    London to Izmir via Istanbul     19-May           4.0   \n",
       "1  Economy Class           Istanbul to Bucharest     19-May           4.0   \n",
       "2  Economy Class  Rome to Prishtina via Istanbul     19-May           1.0   \n",
       "3  Economy Class    Washington Dulles to Karachi     19-Apr           4.0   \n",
       "4  Economy Class   Mumbai to Dublin via Istanbul     19-May           1.0   \n",
       "\n",
       "   cabin_service  food_bev  entertainment  ground_service  value_for_money  \\\n",
       "0            5.0       4.0            4.0             2.0              4.0   \n",
       "1            1.0       1.0            1.0             1.0              1.0   \n",
       "2            4.0       1.0            3.0             1.0              2.0   \n",
       "3            5.0       5.0            5.0             5.0              5.0   \n",
       "4            1.0       1.0            1.0             1.0              1.0   \n",
       "\n",
       "  recommended  \n",
       "0         yes  \n",
       "1          no  \n",
       "2          no  \n",
       "3         yes  \n",
       "4          no  "
      ]
     },
     "execution_count": 3,
     "metadata": {},
     "output_type": "execute_result"
    }
   ],
   "source": [
    "# Check the dataset\n",
    "df.head()"
   ]
  },
  {
   "cell_type": "markdown",
   "metadata": {},
   "source": [
    "It looks like we'll have a bit of cleaning to do just based on the first 5 rows. But before that, let's check the shape of the dataset."
   ]
  },
  {
   "cell_type": "code",
   "execution_count": 4,
   "metadata": {},
   "outputs": [
    {
     "data": {
      "text/plain": [
       "(65947, 17)"
      ]
     },
     "execution_count": 4,
     "metadata": {},
     "output_type": "execute_result"
    }
   ],
   "source": [
    "# Checking shape\n",
    "df.shape"
   ]
  },
  {
   "cell_type": "markdown",
   "metadata": {},
   "source": [
    "So far we are dealing with 65,947 rows by 17 columns. That is most likely to change once we begin the cleaning process. Next, let's see what types of data we'll be dealing with."
   ]
  },
  {
   "cell_type": "code",
   "execution_count": 5,
   "metadata": {},
   "outputs": [
    {
     "name": "stdout",
     "output_type": "stream",
     "text": [
      "<class 'pandas.core.frame.DataFrame'>\n",
      "RangeIndex: 65947 entries, 0 to 65946\n",
      "Data columns (total 17 columns):\n",
      " #   Column           Non-Null Count  Dtype  \n",
      "---  ------           --------------  -----  \n",
      " 0   airline          65947 non-null  object \n",
      " 1   overall          64017 non-null  float64\n",
      " 2   author           65947 non-null  object \n",
      " 3   review_date      65947 non-null  object \n",
      " 4   customer_review  65947 non-null  object \n",
      " 5   aircraft         19718 non-null  object \n",
      " 6   traveller_type   39755 non-null  object \n",
      " 7   cabin            63303 non-null  object \n",
      " 8   route            39726 non-null  object \n",
      " 9   date_flown       39633 non-null  object \n",
      " 10  seat_comfort     60681 non-null  float64\n",
      " 11  cabin_service    60715 non-null  float64\n",
      " 12  food_bev         52608 non-null  float64\n",
      " 13  entertainment    44193 non-null  float64\n",
      " 14  ground_service   39358 non-null  float64\n",
      " 15  value_for_money  63975 non-null  float64\n",
      " 16  recommended      64440 non-null  object \n",
      "dtypes: float64(7), object(10)\n",
      "memory usage: 8.6+ MB\n"
     ]
    }
   ],
   "source": [
    "# Check data types\n",
    "df.info()"
   ]
  },
  {
   "cell_type": "markdown",
   "metadata": {},
   "source": [
    "The current datasets consists of *floats* and *objects*. Going back on our first impressions of the dataset, we can create a more detailed method to see whether any column needs to be altered. The process is as follows below:"
   ]
  },
  {
   "cell_type": "code",
   "execution_count": 6,
   "metadata": {},
   "outputs": [
    {
     "data": {
      "text/html": [
       "<div>\n",
       "<style scoped>\n",
       "    .dataframe tbody tr th:only-of-type {\n",
       "        vertical-align: middle;\n",
       "    }\n",
       "\n",
       "    .dataframe tbody tr th {\n",
       "        vertical-align: top;\n",
       "    }\n",
       "\n",
       "    .dataframe thead th {\n",
       "        text-align: right;\n",
       "    }\n",
       "</style>\n",
       "<table border=\"1\" class=\"dataframe\">\n",
       "  <thead>\n",
       "    <tr style=\"text-align: right;\">\n",
       "      <th></th>\n",
       "      <th>overall</th>\n",
       "      <th>seat_comfort</th>\n",
       "      <th>cabin_service</th>\n",
       "      <th>food_bev</th>\n",
       "      <th>entertainment</th>\n",
       "      <th>ground_service</th>\n",
       "      <th>value_for_money</th>\n",
       "    </tr>\n",
       "  </thead>\n",
       "  <tbody>\n",
       "    <tr>\n",
       "      <th>0</th>\n",
       "      <td>7.0</td>\n",
       "      <td>4.0</td>\n",
       "      <td>5.0</td>\n",
       "      <td>4.0</td>\n",
       "      <td>4.0</td>\n",
       "      <td>2.0</td>\n",
       "      <td>4.0</td>\n",
       "    </tr>\n",
       "    <tr>\n",
       "      <th>1</th>\n",
       "      <td>2.0</td>\n",
       "      <td>4.0</td>\n",
       "      <td>1.0</td>\n",
       "      <td>1.0</td>\n",
       "      <td>1.0</td>\n",
       "      <td>1.0</td>\n",
       "      <td>1.0</td>\n",
       "    </tr>\n",
       "    <tr>\n",
       "      <th>2</th>\n",
       "      <td>3.0</td>\n",
       "      <td>1.0</td>\n",
       "      <td>4.0</td>\n",
       "      <td>1.0</td>\n",
       "      <td>3.0</td>\n",
       "      <td>1.0</td>\n",
       "      <td>2.0</td>\n",
       "    </tr>\n",
       "    <tr>\n",
       "      <th>3</th>\n",
       "      <td>10.0</td>\n",
       "      <td>4.0</td>\n",
       "      <td>5.0</td>\n",
       "      <td>5.0</td>\n",
       "      <td>5.0</td>\n",
       "      <td>5.0</td>\n",
       "      <td>5.0</td>\n",
       "    </tr>\n",
       "    <tr>\n",
       "      <th>4</th>\n",
       "      <td>1.0</td>\n",
       "      <td>1.0</td>\n",
       "      <td>1.0</td>\n",
       "      <td>1.0</td>\n",
       "      <td>1.0</td>\n",
       "      <td>1.0</td>\n",
       "      <td>1.0</td>\n",
       "    </tr>\n",
       "  </tbody>\n",
       "</table>\n",
       "</div>"
      ],
      "text/plain": [
       "   overall  seat_comfort  cabin_service  food_bev  entertainment  \\\n",
       "0      7.0           4.0            5.0       4.0            4.0   \n",
       "1      2.0           4.0            1.0       1.0            1.0   \n",
       "2      3.0           1.0            4.0       1.0            3.0   \n",
       "3     10.0           4.0            5.0       5.0            5.0   \n",
       "4      1.0           1.0            1.0       1.0            1.0   \n",
       "\n",
       "   ground_service  value_for_money  \n",
       "0             2.0              4.0  \n",
       "1             1.0              1.0  \n",
       "2             1.0              2.0  \n",
       "3             5.0              5.0  \n",
       "4             1.0              1.0  "
      ]
     },
     "execution_count": 6,
     "metadata": {},
     "output_type": "execute_result"
    }
   ],
   "source": [
    "# Check all float columns\n",
    "df.select_dtypes('float64').head()"
   ]
  },
  {
   "cell_type": "markdown",
   "metadata": {},
   "source": [
    "Everything looks good so far for the numerical (*float*) data types. Nothing has to be altered as of yet. Next, let's take a look at the categorical (*object*) data types."
   ]
  },
  {
   "cell_type": "code",
   "execution_count": 7,
   "metadata": {},
   "outputs": [
    {
     "data": {
      "text/html": [
       "<div>\n",
       "<style scoped>\n",
       "    .dataframe tbody tr th:only-of-type {\n",
       "        vertical-align: middle;\n",
       "    }\n",
       "\n",
       "    .dataframe tbody tr th {\n",
       "        vertical-align: top;\n",
       "    }\n",
       "\n",
       "    .dataframe thead th {\n",
       "        text-align: right;\n",
       "    }\n",
       "</style>\n",
       "<table border=\"1\" class=\"dataframe\">\n",
       "  <thead>\n",
       "    <tr style=\"text-align: right;\">\n",
       "      <th></th>\n",
       "      <th>airline</th>\n",
       "      <th>author</th>\n",
       "      <th>review_date</th>\n",
       "      <th>customer_review</th>\n",
       "      <th>aircraft</th>\n",
       "      <th>traveller_type</th>\n",
       "      <th>cabin</th>\n",
       "      <th>route</th>\n",
       "      <th>date_flown</th>\n",
       "      <th>recommended</th>\n",
       "    </tr>\n",
       "  </thead>\n",
       "  <tbody>\n",
       "    <tr>\n",
       "      <th>0</th>\n",
       "      <td>Turkish Airlines</td>\n",
       "      <td>Christopher Hackley</td>\n",
       "      <td>8th May 2019</td>\n",
       "      <td>✅ Trip Verified | London to Izmir via Istanbul...</td>\n",
       "      <td>NaN</td>\n",
       "      <td>Business</td>\n",
       "      <td>Economy Class</td>\n",
       "      <td>London to Izmir via Istanbul</td>\n",
       "      <td>19-May</td>\n",
       "      <td>yes</td>\n",
       "    </tr>\n",
       "    <tr>\n",
       "      <th>1</th>\n",
       "      <td>Turkish Airlines</td>\n",
       "      <td>Adriana Pisoi</td>\n",
       "      <td>7th May 2019</td>\n",
       "      <td>✅ Trip Verified | Istanbul to Bucharest. We ma...</td>\n",
       "      <td>NaN</td>\n",
       "      <td>Family Leisure</td>\n",
       "      <td>Economy Class</td>\n",
       "      <td>Istanbul to Bucharest</td>\n",
       "      <td>19-May</td>\n",
       "      <td>no</td>\n",
       "    </tr>\n",
       "    <tr>\n",
       "      <th>2</th>\n",
       "      <td>Turkish Airlines</td>\n",
       "      <td>M Galerko</td>\n",
       "      <td>7th May 2019</td>\n",
       "      <td>✅ Trip Verified | Rome to Prishtina via Istanb...</td>\n",
       "      <td>NaN</td>\n",
       "      <td>Business</td>\n",
       "      <td>Economy Class</td>\n",
       "      <td>Rome to Prishtina via Istanbul</td>\n",
       "      <td>19-May</td>\n",
       "      <td>no</td>\n",
       "    </tr>\n",
       "    <tr>\n",
       "      <th>3</th>\n",
       "      <td>Turkish Airlines</td>\n",
       "      <td>Zeshan Shah</td>\n",
       "      <td>6th May 2019</td>\n",
       "      <td>✅ Trip Verified | Flew on Turkish Airlines IAD...</td>\n",
       "      <td>A330</td>\n",
       "      <td>Solo Leisure</td>\n",
       "      <td>Economy Class</td>\n",
       "      <td>Washington Dulles to Karachi</td>\n",
       "      <td>19-Apr</td>\n",
       "      <td>yes</td>\n",
       "    </tr>\n",
       "    <tr>\n",
       "      <th>4</th>\n",
       "      <td>Turkish Airlines</td>\n",
       "      <td>Pooja Jain</td>\n",
       "      <td>6th May 2019</td>\n",
       "      <td>✅ Trip Verified | Mumbai to Dublin via Istanbu...</td>\n",
       "      <td>NaN</td>\n",
       "      <td>Solo Leisure</td>\n",
       "      <td>Economy Class</td>\n",
       "      <td>Mumbai to Dublin via Istanbul</td>\n",
       "      <td>19-May</td>\n",
       "      <td>no</td>\n",
       "    </tr>\n",
       "  </tbody>\n",
       "</table>\n",
       "</div>"
      ],
      "text/plain": [
       "            airline               author   review_date  \\\n",
       "0  Turkish Airlines  Christopher Hackley  8th May 2019   \n",
       "1  Turkish Airlines        Adriana Pisoi  7th May 2019   \n",
       "2  Turkish Airlines            M Galerko  7th May 2019   \n",
       "3  Turkish Airlines          Zeshan Shah  6th May 2019   \n",
       "4  Turkish Airlines           Pooja Jain  6th May 2019   \n",
       "\n",
       "                                     customer_review aircraft  traveller_type  \\\n",
       "0  ✅ Trip Verified | London to Izmir via Istanbul...      NaN        Business   \n",
       "1  ✅ Trip Verified | Istanbul to Bucharest. We ma...      NaN  Family Leisure   \n",
       "2  ✅ Trip Verified | Rome to Prishtina via Istanb...      NaN        Business   \n",
       "3  ✅ Trip Verified | Flew on Turkish Airlines IAD...     A330    Solo Leisure   \n",
       "4  ✅ Trip Verified | Mumbai to Dublin via Istanbu...      NaN    Solo Leisure   \n",
       "\n",
       "           cabin                           route date_flown recommended  \n",
       "0  Economy Class    London to Izmir via Istanbul     19-May         yes  \n",
       "1  Economy Class           Istanbul to Bucharest     19-May          no  \n",
       "2  Economy Class  Rome to Prishtina via Istanbul     19-May          no  \n",
       "3  Economy Class    Washington Dulles to Karachi     19-Apr         yes  \n",
       "4  Economy Class   Mumbai to Dublin via Istanbul     19-May          no  "
      ]
     },
     "execution_count": 7,
     "metadata": {},
     "output_type": "execute_result"
    }
   ],
   "source": [
    "# Check all object columns\n",
    "df.select_dtypes('object').head()"
   ]
  },
  {
   "cell_type": "markdown",
   "metadata": {},
   "source": [
    "Apart from the missing values that stand out almost immediately for the `aircraft` variable, both the `review_date` and `flown_date` columns appear as *object* data types. We can use the `.to_datetime()` method to convert them to a datetime format. However, upon closer inspection, it appears that they both convey the same kind of information. The only difference is that the `flown_date` variable isn't as detailed as the `review_date` variable, only stating the month and year whereas the `review_date` column conveys the day of travel. \n",
    "\n",
    "On second glance, it also appears that the two dates occur around the same time. Even though this is an assumption, it does to be true. Even for the 4th row, where the flight occurred in April, but the review was written on May 6th 2019, they occur around the same season, or at most, can be a few weeks apart. Of course, I re-iterate again that is an assumption, but one I can get behind on. Therefore, I will be dropping the `flown_date` column as it is not detailed as the `review_date` column and I am going forward with the assumption that the two events (flight and review) occur either at the same time, or a few weeks apart.\n",
    "\n",
    "The following steps involve dropping the `flown_date` variable and converting the `review_date` to a datetime format. "
   ]
  },
  {
   "cell_type": "code",
   "execution_count": 8,
   "metadata": {},
   "outputs": [
    {
     "name": "stdout",
     "output_type": "stream",
     "text": [
      "<class 'pandas.core.frame.DataFrame'>\n",
      "RangeIndex: 65947 entries, 0 to 65946\n",
      "Data columns (total 16 columns):\n",
      " #   Column           Non-Null Count  Dtype         \n",
      "---  ------           --------------  -----         \n",
      " 0   airline          65947 non-null  object        \n",
      " 1   overall          64017 non-null  float64       \n",
      " 2   author           65947 non-null  object        \n",
      " 3   review_date      65947 non-null  datetime64[ns]\n",
      " 4   customer_review  65947 non-null  object        \n",
      " 5   aircraft         19718 non-null  object        \n",
      " 6   traveller_type   39755 non-null  object        \n",
      " 7   cabin            63303 non-null  object        \n",
      " 8   route            39726 non-null  object        \n",
      " 9   seat_comfort     60681 non-null  float64       \n",
      " 10  cabin_service    60715 non-null  float64       \n",
      " 11  food_bev         52608 non-null  float64       \n",
      " 12  entertainment    44193 non-null  float64       \n",
      " 13  ground_service   39358 non-null  float64       \n",
      " 14  value_for_money  63975 non-null  float64       \n",
      " 15  recommended      64440 non-null  object        \n",
      "dtypes: datetime64[ns](1), float64(7), object(8)\n",
      "memory usage: 8.1+ MB\n"
     ]
    }
   ],
   "source": [
    "# Convert the review_date to datetime \n",
    "# Drop date_flown column\n",
    "\n",
    "df.drop(columns='date_flown', inplace=True)\n",
    "df['review_date'] = pd.to_datetime(df['review_date'])\n",
    "\n",
    "# Check the dataset using .info()\n",
    "df.info()"
   ]
  },
  {
   "cell_type": "markdown",
   "metadata": {},
   "source": [
    "The `review_date` column has been converted to a datetime format and the `flown_date` has been successfully dropped. Next, let's take a brief look at the type of numerical data in the dataset. "
   ]
  },
  {
   "cell_type": "code",
   "execution_count": 9,
   "metadata": {},
   "outputs": [],
   "source": [
    "# Check both numeric and categorical data\n",
    "numeric_columns = df.select_dtypes(exclude='object').columns\n",
    "categorical_columns = df.select_dtypes('object').columns"
   ]
  },
  {
   "cell_type": "code",
   "execution_count": 10,
   "metadata": {},
   "outputs": [
    {
     "data": {
      "text/plain": [
       "['overall',\n",
       " 'review_date',\n",
       " 'seat_comfort',\n",
       " 'cabin_service',\n",
       " 'food_bev',\n",
       " 'entertainment',\n",
       " 'ground_service',\n",
       " 'value_for_money']"
      ]
     },
     "execution_count": 10,
     "metadata": {},
     "output_type": "execute_result"
    }
   ],
   "source": [
    "# Check\n",
    "list(numeric_columns)"
   ]
  },
  {
   "cell_type": "code",
   "execution_count": 11,
   "metadata": {},
   "outputs": [
    {
     "data": {
      "text/plain": [
       "['airline',\n",
       " 'author',\n",
       " 'customer_review',\n",
       " 'aircraft',\n",
       " 'traveller_type',\n",
       " 'cabin',\n",
       " 'route',\n",
       " 'recommended']"
      ]
     },
     "execution_count": 11,
     "metadata": {},
     "output_type": "execute_result"
    }
   ],
   "source": [
    "# Check\n",
    "list(categorical_columns)"
   ]
  },
  {
   "cell_type": "markdown",
   "metadata": {},
   "source": [
    "Performed a quick summary on the numerical data using `.describe()` method."
   ]
  },
  {
   "cell_type": "code",
   "execution_count": 12,
   "metadata": {},
   "outputs": [
    {
     "data": {
      "text/html": [
       "<div>\n",
       "<style scoped>\n",
       "    .dataframe tbody tr th:only-of-type {\n",
       "        vertical-align: middle;\n",
       "    }\n",
       "\n",
       "    .dataframe tbody tr th {\n",
       "        vertical-align: top;\n",
       "    }\n",
       "\n",
       "    .dataframe thead th {\n",
       "        text-align: right;\n",
       "    }\n",
       "</style>\n",
       "<table border=\"1\" class=\"dataframe\">\n",
       "  <thead>\n",
       "    <tr style=\"text-align: right;\">\n",
       "      <th></th>\n",
       "      <th>overall</th>\n",
       "      <th>seat_comfort</th>\n",
       "      <th>cabin_service</th>\n",
       "      <th>food_bev</th>\n",
       "      <th>entertainment</th>\n",
       "      <th>ground_service</th>\n",
       "      <th>value_for_money</th>\n",
       "    </tr>\n",
       "  </thead>\n",
       "  <tbody>\n",
       "    <tr>\n",
       "      <th>count</th>\n",
       "      <td>64017.000000</td>\n",
       "      <td>60681.000000</td>\n",
       "      <td>60715.000000</td>\n",
       "      <td>52608.000000</td>\n",
       "      <td>44193.000000</td>\n",
       "      <td>39358.000000</td>\n",
       "      <td>63975.000000</td>\n",
       "    </tr>\n",
       "    <tr>\n",
       "      <th>mean</th>\n",
       "      <td>5.145430</td>\n",
       "      <td>2.952160</td>\n",
       "      <td>3.191814</td>\n",
       "      <td>2.908170</td>\n",
       "      <td>2.863372</td>\n",
       "      <td>2.692820</td>\n",
       "      <td>2.943962</td>\n",
       "    </tr>\n",
       "    <tr>\n",
       "      <th>std</th>\n",
       "      <td>3.477532</td>\n",
       "      <td>1.441362</td>\n",
       "      <td>1.565789</td>\n",
       "      <td>1.481893</td>\n",
       "      <td>1.507262</td>\n",
       "      <td>1.612215</td>\n",
       "      <td>1.587370</td>\n",
       "    </tr>\n",
       "    <tr>\n",
       "      <th>min</th>\n",
       "      <td>1.000000</td>\n",
       "      <td>1.000000</td>\n",
       "      <td>1.000000</td>\n",
       "      <td>1.000000</td>\n",
       "      <td>1.000000</td>\n",
       "      <td>1.000000</td>\n",
       "      <td>1.000000</td>\n",
       "    </tr>\n",
       "    <tr>\n",
       "      <th>25%</th>\n",
       "      <td>1.000000</td>\n",
       "      <td>1.000000</td>\n",
       "      <td>2.000000</td>\n",
       "      <td>1.000000</td>\n",
       "      <td>1.000000</td>\n",
       "      <td>1.000000</td>\n",
       "      <td>1.000000</td>\n",
       "    </tr>\n",
       "    <tr>\n",
       "      <th>50%</th>\n",
       "      <td>5.000000</td>\n",
       "      <td>3.000000</td>\n",
       "      <td>3.000000</td>\n",
       "      <td>3.000000</td>\n",
       "      <td>3.000000</td>\n",
       "      <td>3.000000</td>\n",
       "      <td>3.000000</td>\n",
       "    </tr>\n",
       "    <tr>\n",
       "      <th>75%</th>\n",
       "      <td>9.000000</td>\n",
       "      <td>4.000000</td>\n",
       "      <td>5.000000</td>\n",
       "      <td>4.000000</td>\n",
       "      <td>4.000000</td>\n",
       "      <td>4.000000</td>\n",
       "      <td>4.000000</td>\n",
       "    </tr>\n",
       "    <tr>\n",
       "      <th>max</th>\n",
       "      <td>10.000000</td>\n",
       "      <td>5.000000</td>\n",
       "      <td>5.000000</td>\n",
       "      <td>5.000000</td>\n",
       "      <td>5.000000</td>\n",
       "      <td>5.000000</td>\n",
       "      <td>5.000000</td>\n",
       "    </tr>\n",
       "  </tbody>\n",
       "</table>\n",
       "</div>"
      ],
      "text/plain": [
       "            overall  seat_comfort  cabin_service      food_bev  entertainment  \\\n",
       "count  64017.000000  60681.000000   60715.000000  52608.000000   44193.000000   \n",
       "mean       5.145430      2.952160       3.191814      2.908170       2.863372   \n",
       "std        3.477532      1.441362       1.565789      1.481893       1.507262   \n",
       "min        1.000000      1.000000       1.000000      1.000000       1.000000   \n",
       "25%        1.000000      1.000000       2.000000      1.000000       1.000000   \n",
       "50%        5.000000      3.000000       3.000000      3.000000       3.000000   \n",
       "75%        9.000000      4.000000       5.000000      4.000000       4.000000   \n",
       "max       10.000000      5.000000       5.000000      5.000000       5.000000   \n",
       "\n",
       "       ground_service  value_for_money  \n",
       "count    39358.000000     63975.000000  \n",
       "mean         2.692820         2.943962  \n",
       "std          1.612215         1.587370  \n",
       "min          1.000000         1.000000  \n",
       "25%          1.000000         1.000000  \n",
       "50%          3.000000         3.000000  \n",
       "75%          4.000000         4.000000  \n",
       "max          5.000000         5.000000  "
      ]
     },
     "execution_count": 12,
     "metadata": {},
     "output_type": "execute_result"
    }
   ],
   "source": [
    "# Use describe() method\n",
    "df[numeric_columns].describe()"
   ]
  },
  {
   "cell_type": "markdown",
   "metadata": {},
   "source": [
    "**Key Points**:\n",
    "\n",
    "- **Overall**: The overall review is a score (from 1-10) given to the airline for that specific flight and encompasses the scores of all the individual variables (seat comfort, cabin service, etc.) given for that flight. For the entire dataset, the average overall airline score is 5.1\n",
    "- **Seat Comfort**: The seat comfort is rated on a scale of 1-5, one being a bad score and 5 a great score. For the dataset, the average seat comfort score is 2.9\n",
    "- **Cabin Service**: The cabin service is rated on a scale of 1-5. It rates the overall service of the cabin crew and their hospitality. For the dataset, the average cabin service score is 3.2\n",
    "- **Food and Beverage**: The food and beverage service is rated on a scale of 1-5. Travellers can rate the quality of the meal selection (or lack thereof), drinks selection, and meal selection on a scale of 1-5. For the dataset, the average food and beverage score is 2.9\n",
    "- **Entertainment**: The entertainment score is rated on a scale of 1-5 where travellers can rate the quality of entertainment for the flight. This has to do with wifi service, movie/tv show selection, games selection, etc. For the dataset, the average entertainment score is 2.8\n",
    "- **Ground Service**: The ground service score is rated on a scale of 1-5 and incorporates the overall traveller experience when navigating through the airport. Factors than can influence the score include check-in service, security screening, wait times, airport food selection, amenities, baggage service, etc. For the dataset, the average ground service score is 2.7\n",
    "- **Value for Money**: The value for money score is rated on a scale of 1-5 and allows the traveller to give a numerical rating of whether they feel the cost of the flight was worth their overall experience. For the dataset, the average value for money score is 2.9\n",
    "\n",
    "We can now move onto checking for missing values. "
   ]
  },
  {
   "cell_type": "code",
   "execution_count": 13,
   "metadata": {},
   "outputs": [
    {
     "data": {
      "text/html": [
       "<div>\n",
       "<style scoped>\n",
       "    .dataframe tbody tr th:only-of-type {\n",
       "        vertical-align: middle;\n",
       "    }\n",
       "\n",
       "    .dataframe tbody tr th {\n",
       "        vertical-align: top;\n",
       "    }\n",
       "\n",
       "    .dataframe thead th {\n",
       "        text-align: right;\n",
       "    }\n",
       "</style>\n",
       "<table border=\"1\" class=\"dataframe\">\n",
       "  <thead>\n",
       "    <tr style=\"text-align: right;\">\n",
       "      <th></th>\n",
       "      <th>airline</th>\n",
       "      <th>overall</th>\n",
       "      <th>author</th>\n",
       "      <th>review_date</th>\n",
       "      <th>customer_review</th>\n",
       "      <th>aircraft</th>\n",
       "      <th>traveller_type</th>\n",
       "      <th>cabin</th>\n",
       "      <th>route</th>\n",
       "      <th>seat_comfort</th>\n",
       "      <th>cabin_service</th>\n",
       "      <th>food_bev</th>\n",
       "      <th>entertainment</th>\n",
       "      <th>ground_service</th>\n",
       "      <th>value_for_money</th>\n",
       "      <th>recommended</th>\n",
       "    </tr>\n",
       "  </thead>\n",
       "  <tbody>\n",
       "    <tr>\n",
       "      <th>0</th>\n",
       "      <td>Turkish Airlines</td>\n",
       "      <td>7.0</td>\n",
       "      <td>Christopher Hackley</td>\n",
       "      <td>2019-05-08</td>\n",
       "      <td>✅ Trip Verified | London to Izmir via Istanbul...</td>\n",
       "      <td>NaN</td>\n",
       "      <td>Business</td>\n",
       "      <td>Economy Class</td>\n",
       "      <td>London to Izmir via Istanbul</td>\n",
       "      <td>4.0</td>\n",
       "      <td>5.0</td>\n",
       "      <td>4.0</td>\n",
       "      <td>4.0</td>\n",
       "      <td>2.0</td>\n",
       "      <td>4.0</td>\n",
       "      <td>yes</td>\n",
       "    </tr>\n",
       "    <tr>\n",
       "      <th>1</th>\n",
       "      <td>Turkish Airlines</td>\n",
       "      <td>2.0</td>\n",
       "      <td>Adriana Pisoi</td>\n",
       "      <td>2019-05-07</td>\n",
       "      <td>✅ Trip Verified | Istanbul to Bucharest. We ma...</td>\n",
       "      <td>NaN</td>\n",
       "      <td>Family Leisure</td>\n",
       "      <td>Economy Class</td>\n",
       "      <td>Istanbul to Bucharest</td>\n",
       "      <td>4.0</td>\n",
       "      <td>1.0</td>\n",
       "      <td>1.0</td>\n",
       "      <td>1.0</td>\n",
       "      <td>1.0</td>\n",
       "      <td>1.0</td>\n",
       "      <td>no</td>\n",
       "    </tr>\n",
       "    <tr>\n",
       "      <th>2</th>\n",
       "      <td>Turkish Airlines</td>\n",
       "      <td>3.0</td>\n",
       "      <td>M Galerko</td>\n",
       "      <td>2019-05-07</td>\n",
       "      <td>✅ Trip Verified | Rome to Prishtina via Istanb...</td>\n",
       "      <td>NaN</td>\n",
       "      <td>Business</td>\n",
       "      <td>Economy Class</td>\n",
       "      <td>Rome to Prishtina via Istanbul</td>\n",
       "      <td>1.0</td>\n",
       "      <td>4.0</td>\n",
       "      <td>1.0</td>\n",
       "      <td>3.0</td>\n",
       "      <td>1.0</td>\n",
       "      <td>2.0</td>\n",
       "      <td>no</td>\n",
       "    </tr>\n",
       "    <tr>\n",
       "      <th>3</th>\n",
       "      <td>Turkish Airlines</td>\n",
       "      <td>10.0</td>\n",
       "      <td>Zeshan Shah</td>\n",
       "      <td>2019-05-06</td>\n",
       "      <td>✅ Trip Verified | Flew on Turkish Airlines IAD...</td>\n",
       "      <td>A330</td>\n",
       "      <td>Solo Leisure</td>\n",
       "      <td>Economy Class</td>\n",
       "      <td>Washington Dulles to Karachi</td>\n",
       "      <td>4.0</td>\n",
       "      <td>5.0</td>\n",
       "      <td>5.0</td>\n",
       "      <td>5.0</td>\n",
       "      <td>5.0</td>\n",
       "      <td>5.0</td>\n",
       "      <td>yes</td>\n",
       "    </tr>\n",
       "    <tr>\n",
       "      <th>4</th>\n",
       "      <td>Turkish Airlines</td>\n",
       "      <td>1.0</td>\n",
       "      <td>Pooja Jain</td>\n",
       "      <td>2019-05-06</td>\n",
       "      <td>✅ Trip Verified | Mumbai to Dublin via Istanbu...</td>\n",
       "      <td>NaN</td>\n",
       "      <td>Solo Leisure</td>\n",
       "      <td>Economy Class</td>\n",
       "      <td>Mumbai to Dublin via Istanbul</td>\n",
       "      <td>1.0</td>\n",
       "      <td>1.0</td>\n",
       "      <td>1.0</td>\n",
       "      <td>1.0</td>\n",
       "      <td>1.0</td>\n",
       "      <td>1.0</td>\n",
       "      <td>no</td>\n",
       "    </tr>\n",
       "  </tbody>\n",
       "</table>\n",
       "</div>"
      ],
      "text/plain": [
       "            airline  overall               author review_date  \\\n",
       "0  Turkish Airlines      7.0  Christopher Hackley  2019-05-08   \n",
       "1  Turkish Airlines      2.0        Adriana Pisoi  2019-05-07   \n",
       "2  Turkish Airlines      3.0            M Galerko  2019-05-07   \n",
       "3  Turkish Airlines     10.0          Zeshan Shah  2019-05-06   \n",
       "4  Turkish Airlines      1.0           Pooja Jain  2019-05-06   \n",
       "\n",
       "                                     customer_review aircraft  traveller_type  \\\n",
       "0  ✅ Trip Verified | London to Izmir via Istanbul...      NaN        Business   \n",
       "1  ✅ Trip Verified | Istanbul to Bucharest. We ma...      NaN  Family Leisure   \n",
       "2  ✅ Trip Verified | Rome to Prishtina via Istanb...      NaN        Business   \n",
       "3  ✅ Trip Verified | Flew on Turkish Airlines IAD...     A330    Solo Leisure   \n",
       "4  ✅ Trip Verified | Mumbai to Dublin via Istanbu...      NaN    Solo Leisure   \n",
       "\n",
       "           cabin                           route  seat_comfort  cabin_service  \\\n",
       "0  Economy Class    London to Izmir via Istanbul           4.0            5.0   \n",
       "1  Economy Class           Istanbul to Bucharest           4.0            1.0   \n",
       "2  Economy Class  Rome to Prishtina via Istanbul           1.0            4.0   \n",
       "3  Economy Class    Washington Dulles to Karachi           4.0            5.0   \n",
       "4  Economy Class   Mumbai to Dublin via Istanbul           1.0            1.0   \n",
       "\n",
       "   food_bev  entertainment  ground_service  value_for_money recommended  \n",
       "0       4.0            4.0             2.0              4.0         yes  \n",
       "1       1.0            1.0             1.0              1.0          no  \n",
       "2       1.0            3.0             1.0              2.0          no  \n",
       "3       5.0            5.0             5.0              5.0         yes  \n",
       "4       1.0            1.0             1.0              1.0          no  "
      ]
     },
     "execution_count": 13,
     "metadata": {},
     "output_type": "execute_result"
    }
   ],
   "source": [
    "# Check\n",
    "df.head()"
   ]
  },
  {
   "cell_type": "markdown",
   "metadata": {},
   "source": [
    "We can see that the `aircraft` column contains missing values. But to be certain of missing values in dataset of ~65000 rows, we can use the `.isna()` and `.sum()` methods."
   ]
  },
  {
   "cell_type": "code",
   "execution_count": 14,
   "metadata": {},
   "outputs": [
    {
     "data": {
      "text/plain": [
       "airline                0\n",
       "overall             1930\n",
       "author                 0\n",
       "review_date            0\n",
       "customer_review        0\n",
       "aircraft           46229\n",
       "traveller_type     26192\n",
       "cabin               2644\n",
       "route              26221\n",
       "seat_comfort        5266\n",
       "cabin_service       5232\n",
       "food_bev           13339\n",
       "entertainment      21754\n",
       "ground_service     26589\n",
       "value_for_money     1972\n",
       "recommended         1507\n",
       "dtype: int64"
      ]
     },
     "execution_count": 14,
     "metadata": {},
     "output_type": "execute_result"
    }
   ],
   "source": [
    "# Check for missing values\n",
    "df.isna().sum()"
   ]
  },
  {
   "cell_type": "markdown",
   "metadata": {},
   "source": [
    "Turns out that there are multiple columns with missing values in thousands of rows. To get a more accurate representation of how much data each column is missing, we can perform a quick percentage calculation of missing values."
   ]
  },
  {
   "cell_type": "code",
   "execution_count": 15,
   "metadata": {},
   "outputs": [
    {
     "data": {
      "text/plain": [
       "airline             0.000000\n",
       "overall             2.926593\n",
       "author              0.000000\n",
       "review_date         0.000000\n",
       "customer_review     0.000000\n",
       "aircraft           70.100232\n",
       "traveller_type     39.716742\n",
       "cabin               4.009280\n",
       "route              39.760717\n",
       "seat_comfort        7.985200\n",
       "cabin_service       7.933644\n",
       "food_bev           20.226849\n",
       "entertainment      32.987096\n",
       "ground_service     40.318741\n",
       "value_for_money     2.990280\n",
       "recommended         2.285168\n",
       "dtype: float64"
      ]
     },
     "execution_count": 15,
     "metadata": {},
     "output_type": "execute_result"
    }
   ],
   "source": [
    "# Percentage of missing values\n",
    "df.isna().sum()/len(df)*100"
   ]
  },
  {
   "cell_type": "markdown",
   "metadata": {},
   "source": [
    "Multiple columns have <10% of their values missing. I have decided to drop the missing rows for these columns because they represent a small portion of the dataset (with the majority of them missing <5%) and can be afforded to be dropped. "
   ]
  },
  {
   "cell_type": "code",
   "execution_count": 16,
   "metadata": {},
   "outputs": [],
   "source": [
    "# Drop missing rows for variables that contain <10% missing data\n",
    "df.dropna(subset=['overall',\n",
    "                  'cabin',\n",
    "                  'seat_comfort',\n",
    "                  'cabin_service',\n",
    "                  'value_for_money',\n",
    "                  'recommended'], inplace=True)"
   ]
  },
  {
   "cell_type": "code",
   "execution_count": 17,
   "metadata": {},
   "outputs": [
    {
     "data": {
      "text/plain": [
       "(58288, 16)"
      ]
     },
     "execution_count": 17,
     "metadata": {},
     "output_type": "execute_result"
    }
   ],
   "source": [
    "# Check the new shape\n",
    "df.shape"
   ]
  },
  {
   "cell_type": "markdown",
   "metadata": {},
   "source": [
    "We have now reduced the size of our original dataset from 65,947 rows to 58,288 rows. Do keep in mind that we had also dropped the `flown_date` column earlier. Time to check the missing values once for the remaining dataset."
   ]
  },
  {
   "cell_type": "code",
   "execution_count": 18,
   "metadata": {},
   "outputs": [
    {
     "data": {
      "text/plain": [
       "airline             0.000000\n",
       "overall             0.000000\n",
       "author              0.000000\n",
       "review_date         0.000000\n",
       "customer_review     0.000000\n",
       "aircraft           66.351565\n",
       "traveller_type     33.722207\n",
       "cabin               0.000000\n",
       "route              33.770244\n",
       "seat_comfort        0.000000\n",
       "cabin_service       0.000000\n",
       "food_bev           13.304625\n",
       "entertainment      27.288636\n",
       "ground_service     33.955531\n",
       "value_for_money     0.000000\n",
       "recommended         0.000000\n",
       "dtype: float64"
      ]
     },
     "execution_count": 18,
     "metadata": {},
     "output_type": "execute_result"
    }
   ],
   "source": [
    "# Check percentage of missing values for remaining columns\n",
    "df.isna().sum()/len(df)*100"
   ]
  },
  {
   "cell_type": "markdown",
   "metadata": {},
   "source": [
    "There are columns that still appear to have quite a bit of missing data. Before addressing the missing values from the `aircraft`, `traveller_type` and `route` columns, I will tackle the missing data for the numeric variables - `food_bev`, `entertainment`, and `ground_service` as it will be easier to impute.\n",
    "\n",
    "Also, for the numeric imputation, I will be comparing the mode/median values as I do not want an average float number (i.e. 3.4), but a nice, round number (i.e. 2.0)."
   ]
  },
  {
   "cell_type": "markdown",
   "metadata": {},
   "source": [
    "##### Food and Beverage Imputation"
   ]
  },
  {
   "cell_type": "code",
   "execution_count": 19,
   "metadata": {},
   "outputs": [
    {
     "data": {
      "text/plain": [
       "3.0"
      ]
     },
     "execution_count": 19,
     "metadata": {},
     "output_type": "execute_result"
    }
   ],
   "source": [
    "df['food_bev'].median()"
   ]
  },
  {
   "cell_type": "code",
   "execution_count": 20,
   "metadata": {},
   "outputs": [
    {
     "data": {
      "text/plain": [
       "0    1.0\n",
       "dtype: float64"
      ]
     },
     "execution_count": 20,
     "metadata": {},
     "output_type": "execute_result"
    }
   ],
   "source": [
    "df['food_bev'].mode()"
   ]
  },
  {
   "cell_type": "code",
   "execution_count": 21,
   "metadata": {},
   "outputs": [
    {
     "data": {
      "image/png": "[encoded data removed]",
      "text/plain": [
       "<Figure size 720x576 with 1 Axes>"
      ]
     },
     "metadata": {
      "needs_background": "light"
     },
     "output_type": "display_data"
    }
   ],
   "source": [
    "# Finding out the total number of counts for food and beverage\n",
    "df['food_bev'].value_counts()\n",
    "\n",
    "# Creating a summary dataframe of Average Score counts\n",
    "foodbev_score_df = pd.DataFrame(df['food_bev'].value_counts())\n",
    "foodbev_score_df.columns = ['Count']\n",
    "foodbev_score_df.head()\n",
    "\n",
    "# Plotting the Food_Bev Score Distribution\n",
    "plt.figure(figsize=(10,8))\n",
    "\n",
    "# Add the mode\n",
    "plt.axvline(df['food_bev'].mode()[0], color='red', label='mode')\n",
    "# Add the median\n",
    "plt.axvline(df['food_bev'].median(), color='blue', label='median')\n",
    "\n",
    "plt.bar(foodbev_score_df.index, foodbev_score_df['Count'])\n",
    "plt.xticks(foodbev_score_df.index)\n",
    "plt.xlabel('Food and Beverage Score', fontsize=14)\n",
    "plt.ylabel('Frequency', fontsize=14)\n",
    "plt.title('Distribution of Food and Beverage Scores', fontsize=10)\n",
    "plt.legend()\n",
    "plt.show()"
   ]
  },
  {
   "cell_type": "markdown",
   "metadata": {},
   "source": [
    "The Food and Beverage score distribution appears to have a slight right skew, as the majority of travellers gave a score of 1.0 when it came to Food and Beverage selection on their flights. I will be using the median score of 3.0 to impute into this column as I believe there is a higher chance that customers would have an average experience when it comes to the Food and Beverage service on a flight."
   ]
  },
  {
   "cell_type": "code",
   "execution_count": 22,
   "metadata": {},
   "outputs": [],
   "source": [
    "# Fill in the missing values with the median score of 3.0\n",
    "df['food_bev'] = df['food_bev'].fillna(3.0)"
   ]
  },
  {
   "cell_type": "code",
   "execution_count": 23,
   "metadata": {},
   "outputs": [
    {
     "data": {
      "image/png": "[encoded data removed]",
      "text/plain": [
       "<Figure size 720x576 with 1 Axes>"
      ]
     },
     "metadata": {
      "needs_background": "light"
     },
     "output_type": "display_data"
    }
   ],
   "source": [
    "# Updated visualizatio of the distribution Food and Beverage scores\n",
    "df['food_bev'].value_counts()\n",
    "\n",
    "# Creating a summary dataframe of Average Score counts\n",
    "foodbev_score_df = pd.DataFrame(df['food_bev'].value_counts())\n",
    "foodbev_score_df.columns = ['Count']\n",
    "foodbev_score_df.head()\n",
    "\n",
    "# Plotting the Food_Bev Score Distribution\n",
    "plt.figure(figsize=(10,8))\n",
    "\n",
    "# Add the mode\n",
    "plt.axvline(df['food_bev'].mode()[0], color='red', label='mode')\n",
    "# Add the median\n",
    "plt.axvline(df['food_bev'].median(), color='blue', label='median')\n",
    "\n",
    "plt.bar(foodbev_score_df.index, foodbev_score_df['Count'])\n",
    "plt.xticks(foodbev_score_df.index)\n",
    "plt.xlabel('Food and Beverage Score', fontsize=14)\n",
    "plt.ylabel('Frequency', fontsize=14)\n",
    "plt.title('Distribution of Food and Beverage Scores', fontsize=10)\n",
    "plt.legend()\n",
    "plt.show()"
   ]
  },
  {
   "cell_type": "markdown",
   "metadata": {},
   "source": [
    "Imputing the median score of 3.0 to the Food and Beverage column has created a normal distribution among the scores. The next step is imputing missing values for the *entertainment* column."
   ]
  },
  {
   "cell_type": "markdown",
   "metadata": {},
   "source": [
    "##### Entertainment Imputation"
   ]
  },
  {
   "cell_type": "code",
   "execution_count": 24,
   "metadata": {},
   "outputs": [
    {
     "data": {
      "text/plain": [
       "3.0"
      ]
     },
     "execution_count": 24,
     "metadata": {},
     "output_type": "execute_result"
    }
   ],
   "source": [
    "df['entertainment'].median()"
   ]
  },
  {
   "cell_type": "code",
   "execution_count": 25,
   "metadata": {},
   "outputs": [
    {
     "data": {
      "text/plain": [
       "0    1.0\n",
       "dtype: float64"
      ]
     },
     "execution_count": 25,
     "metadata": {},
     "output_type": "execute_result"
    }
   ],
   "source": [
    "df['entertainment'].mode()"
   ]
  },
  {
   "cell_type": "code",
   "execution_count": 26,
   "metadata": {},
   "outputs": [
    {
     "data": {
      "image/png": "[encoded data removed]",
      "text/plain": [
       "<Figure size 720x576 with 1 Axes>"
      ]
     },
     "metadata": {
      "needs_background": "light"
     },
     "output_type": "display_data"
    }
   ],
   "source": [
    "# Finding out the total number of counts for Entertainment\n",
    "df['entertainment'].value_counts()\n",
    "\n",
    "# Creating a summary dataframe of Average Score counts\n",
    "entertainment_score_df = pd.DataFrame(df['entertainment'].value_counts())\n",
    "entertainment_score_df.columns = ['Count']\n",
    "entertainment_score_df.head()\n",
    "\n",
    "# Plotting the Food_Bev Score Distribution\n",
    "plt.figure(figsize=(10,8))\n",
    "\n",
    "# Add the mode\n",
    "plt.axvline(df['entertainment'].mode()[0], color='red', label='mode')\n",
    "# Add the median\n",
    "plt.axvline(df['entertainment'].median(), color='blue', label='median')\n",
    "\n",
    "plt.bar(entertainment_score_df.index, entertainment_score_df['Count'])\n",
    "plt.xticks(entertainment_score_df.index)\n",
    "plt.xlabel('Entertainment Score', fontsize=14)\n",
    "plt.ylabel('Frequency', fontsize=14)\n",
    "plt.title('Distribution of Entertainment Scores', fontsize=10)\n",
    "plt.legend()\n",
    "plt.show()"
   ]
  },
  {
   "cell_type": "markdown",
   "metadata": {},
   "source": [
    "The Entertainment score distribution also displays a right skew. I will be using the median Entertainment score to impute the missing values just as I did for the Food and Beverage imputation. "
   ]
  },
  {
   "cell_type": "code",
   "execution_count": 27,
   "metadata": {},
   "outputs": [],
   "source": [
    "# Fill in the missing values with the median score of 3.0\n",
    "df['entertainment'] = df['entertainment'].fillna(3.0)"
   ]
  },
  {
   "cell_type": "code",
   "execution_count": 28,
   "metadata": {},
   "outputs": [
    {
     "data": {
      "image/png": "[encoded data removed]",
      "text/plain": [
       "<Figure size 720x576 with 1 Axes>"
      ]
     },
     "metadata": {
      "needs_background": "light"
     },
     "output_type": "display_data"
    }
   ],
   "source": [
    "# Updated visualizatio of the distribution Entertainment scores\n",
    "df['entertainment'].value_counts()\n",
    "\n",
    "# Creating a summary dataframe of Average Score counts\n",
    "entertainment_score_df = pd.DataFrame(df['entertainment'].value_counts())\n",
    "entertainment_score_df.columns = ['Count']\n",
    "entertainment_score_df.head()\n",
    "\n",
    "# Plotting the Food_Bev Score Distribution\n",
    "plt.figure(figsize=(10,8))\n",
    "\n",
    "# Add the mode\n",
    "plt.axvline(df['entertainment'].mode()[0], color='red', label='mode')\n",
    "# Add the median\n",
    "plt.axvline(df['entertainment'].median(), color='blue', label='median')\n",
    "\n",
    "plt.bar(entertainment_score_df.index, entertainment_score_df['Count'])\n",
    "plt.xticks(entertainment_score_df.index)\n",
    "plt.xlabel('Entertainment Score', fontsize=14)\n",
    "plt.ylabel('Frequency', fontsize=14)\n",
    "plt.title('Distribution of Entertainment Scores', fontsize=10)\n",
    "plt.legend()\n",
    "plt.show()"
   ]
  },
  {
   "cell_type": "markdown",
   "metadata": {},
   "source": [
    "The distribution now is definitely more akin to a normal distribution. "
   ]
  },
  {
   "cell_type": "markdown",
   "metadata": {},
   "source": [
    "##### Ground Service Imputation"
   ]
  },
  {
   "cell_type": "code",
   "execution_count": 29,
   "metadata": {},
   "outputs": [
    {
     "data": {
      "text/plain": [
       "3.0"
      ]
     },
     "execution_count": 29,
     "metadata": {},
     "output_type": "execute_result"
    }
   ],
   "source": [
    "df['ground_service'].median()"
   ]
  },
  {
   "cell_type": "code",
   "execution_count": 30,
   "metadata": {},
   "outputs": [
    {
     "data": {
      "text/plain": [
       "0    1.0\n",
       "dtype: float64"
      ]
     },
     "execution_count": 30,
     "metadata": {},
     "output_type": "execute_result"
    }
   ],
   "source": [
    "df['ground_service'].mode()"
   ]
  },
  {
   "cell_type": "code",
   "execution_count": 31,
   "metadata": {},
   "outputs": [
    {
     "data": {
      "image/png": "[encoded data removed]",
      "text/plain": [
       "<Figure size 720x576 with 1 Axes>"
      ]
     },
     "metadata": {
      "needs_background": "light"
     },
     "output_type": "display_data"
    }
   ],
   "source": [
    "# Initial visualizatio of the distribution Entertainment scores\n",
    "df['ground_service'].value_counts()\n",
    "\n",
    "# Creating a summary dataframe of Average Score counts\n",
    "groundservice_score_df = pd.DataFrame(df['ground_service'].value_counts())\n",
    "groundservice_score_df.columns = ['Count']\n",
    "groundservice_score_df.head()\n",
    "\n",
    "# Plotting the Food_Bev Score Distribution\n",
    "plt.figure(figsize=(10,8))\n",
    "\n",
    "# Add the mode\n",
    "plt.axvline(df['ground_service'].mode()[0], color='red', label='mode')\n",
    "# Add the median\n",
    "plt.axvline(df['ground_service'].median(), color='blue', label='median')\n",
    "\n",
    "plt.bar(groundservice_score_df.index, groundservice_score_df['Count'])\n",
    "plt.xticks(groundservice_score_df.index)\n",
    "plt.xlabel('Ground Service Score', fontsize=14)\n",
    "plt.ylabel('Frequency', fontsize=14)\n",
    "plt.title('Distribution of Ground Service Scores', fontsize=10)\n",
    "plt.legend()\n",
    "plt.show()"
   ]
  },
  {
   "cell_type": "markdown",
   "metadata": {},
   "source": [
    "Just as the previous two cases, the data is skewed to the right, and once again I will be using the median score of Ground Service to impute the missing values."
   ]
  },
  {
   "cell_type": "code",
   "execution_count": 32,
   "metadata": {},
   "outputs": [],
   "source": [
    "# Fill in the missing values with the median score of 3.0\n",
    "df['ground_service'] = df['ground_service'].fillna(3.0)"
   ]
  },
  {
   "cell_type": "code",
   "execution_count": 33,
   "metadata": {},
   "outputs": [
    {
     "data": {
      "image/png": "[encoded data removed]",
      "text/plain": [
       "<Figure size 720x576 with 1 Axes>"
      ]
     },
     "metadata": {
      "needs_background": "light"
     },
     "output_type": "display_data"
    }
   ],
   "source": [
    "# Updated visualizatio of the distribution Entertainment scores\n",
    "df['ground_service'].value_counts()\n",
    "\n",
    "# Creating a summary dataframe of Average Score counts\n",
    "groundservice_score_df = pd.DataFrame(df['ground_service'].value_counts())\n",
    "groundservice_score_df.columns = ['Count']\n",
    "groundservice_score_df.head()\n",
    "\n",
    "# Plotting the Food_Bev Score Distribution\n",
    "plt.figure(figsize=(10,8))\n",
    "\n",
    "# Add the mode\n",
    "plt.axvline(df['ground_service'].mode()[0], color='red', label='mode')\n",
    "# Add the median\n",
    "plt.axvline(df['ground_service'].median(), color='blue', label='median')\n",
    "\n",
    "plt.bar(groundservice_score_df.index, groundservice_score_df['Count'])\n",
    "plt.xticks(groundservice_score_df.index)\n",
    "plt.xlabel('Ground Service Score', fontsize=14)\n",
    "plt.ylabel('Frequency', fontsize=14)\n",
    "plt.title('Distribution of Ground Service Scores', fontsize=10)\n",
    "plt.legend()\n",
    "plt.show()"
   ]
  },
  {
   "cell_type": "markdown",
   "metadata": {},
   "source": [
    "Ground Service scores now has a normal distribution. With imputation for the numeric variables done, let's do another check of the number of missing values remaining."
   ]
  },
  {
   "cell_type": "code",
   "execution_count": 34,
   "metadata": {},
   "outputs": [
    {
     "data": {
      "text/plain": [
       "airline                0\n",
       "overall                0\n",
       "author                 0\n",
       "review_date            0\n",
       "customer_review        0\n",
       "aircraft           38675\n",
       "traveller_type     19656\n",
       "cabin                  0\n",
       "route              19684\n",
       "seat_comfort           0\n",
       "cabin_service          0\n",
       "food_bev               0\n",
       "entertainment          0\n",
       "ground_service         0\n",
       "value_for_money        0\n",
       "recommended            0\n",
       "dtype: int64"
      ]
     },
     "execution_count": 34,
     "metadata": {},
     "output_type": "execute_result"
    }
   ],
   "source": [
    "# Check updated dataset\n",
    "df.isna().sum()"
   ]
  },
  {
   "cell_type": "markdown",
   "metadata": {},
   "source": [
    "The only variables that contain missing values are the `aircraft`, `traveller_type`, and `route` columns. Since over 50% of the  values in the `aircraft` column are missing, I have decided to drop it. It is also safe to assume that most travellers, unless they are aviaiton geeks/fans, will not pay attention to what specific type of aircraft they flew on. For example, most travellers will not know the difference between Boeing and Airbus, whether the aircraft is Boeing 737-800, Airbus A320, or Airbus 330-200, etc. \n",
    "\n",
    "However, the remaining variables contain categorical data, and based on previous viewings, we will have to split the `route` column into two columns - `origin` and `destination`. I'm going to create a copy of the dataset to make sure I don't break anything."
   ]
  },
  {
   "cell_type": "code",
   "execution_count": 35,
   "metadata": {},
   "outputs": [],
   "source": [
    "# Make a new copy of the dataset\n",
    "df2 = df.copy()"
   ]
  },
  {
   "cell_type": "markdown",
   "metadata": {},
   "source": [
    "Time to drop the `aircraft` variable."
   ]
  },
  {
   "cell_type": "code",
   "execution_count": 36,
   "metadata": {},
   "outputs": [
    {
     "data": {
      "text/plain": [
       "airline                0\n",
       "overall                0\n",
       "author                 0\n",
       "review_date            0\n",
       "customer_review        0\n",
       "traveller_type     19656\n",
       "cabin                  0\n",
       "route              19684\n",
       "seat_comfort           0\n",
       "cabin_service          0\n",
       "food_bev               0\n",
       "entertainment          0\n",
       "ground_service         0\n",
       "value_for_money        0\n",
       "recommended            0\n",
       "dtype: int64"
      ]
     },
     "execution_count": 36,
     "metadata": {},
     "output_type": "execute_result"
    }
   ],
   "source": [
    "# Drop aircraft column\n",
    "df2.drop(columns=['aircraft'], inplace=True)\n",
    "\n",
    "# Check\n",
    "df2.isna().sum()"
   ]
  },
  {
   "cell_type": "markdown",
   "metadata": {},
   "source": [
    "The `aircraft` variable has been successfully dropped. Let's bring up a view of the dataset to examine the `route` variable."
   ]
  },
  {
   "cell_type": "code",
   "execution_count": 37,
   "metadata": {},
   "outputs": [
    {
     "data": {
      "text/plain": [
       "0      London to Izmir via Istanbul\n",
       "1             Istanbul to Bucharest\n",
       "2    Rome to Prishtina via Istanbul\n",
       "3      Washington Dulles to Karachi\n",
       "4     Mumbai to Dublin via Istanbul\n",
       "Name: route, dtype: object"
      ]
     },
     "execution_count": 37,
     "metadata": {},
     "output_type": "execute_result"
    }
   ],
   "source": [
    "# Check route column\n",
    "df2['route'].head()"
   ]
  },
  {
   "cell_type": "markdown",
   "metadata": {},
   "source": [
    "It can be seen that the `route` column contains the origin and destination of the traveller, but this is something we can split into two columns - one name `origin` and one named `destination`. I have also decided to ignore the layover (via) portion of the route as it will not be needed for this analysis. \n",
    "\n",
    "We can use the `.str.split()` method to try and split the data into origin and destination columns."
   ]
  },
  {
   "cell_type": "code",
   "execution_count": 44,
   "metadata": {},
   "outputs": [
    {
     "data": {
      "text/html": [
       "<div>\n",
       "<style scoped>\n",
       "    .dataframe tbody tr th:only-of-type {\n",
       "        vertical-align: middle;\n",
       "    }\n",
       "\n",
       "    .dataframe tbody tr th {\n",
       "        vertical-align: top;\n",
       "    }\n",
       "\n",
       "    .dataframe thead th {\n",
       "        text-align: right;\n",
       "    }\n",
       "</style>\n",
       "<table border=\"1\" class=\"dataframe\">\n",
       "  <thead>\n",
       "    <tr style=\"text-align: right;\">\n",
       "      <th></th>\n",
       "      <th>0</th>\n",
       "      <th>1</th>\n",
       "      <th>2</th>\n",
       "      <th>3</th>\n",
       "    </tr>\n",
       "  </thead>\n",
       "  <tbody>\n",
       "    <tr>\n",
       "      <th>0</th>\n",
       "      <td>London</td>\n",
       "      <td>Izmir via Istanbul</td>\n",
       "      <td>None</td>\n",
       "      <td>None</td>\n",
       "    </tr>\n",
       "    <tr>\n",
       "      <th>1</th>\n",
       "      <td>Istanbul</td>\n",
       "      <td>Bucharest</td>\n",
       "      <td>None</td>\n",
       "      <td>None</td>\n",
       "    </tr>\n",
       "    <tr>\n",
       "      <th>2</th>\n",
       "      <td>Rome</td>\n",
       "      <td>Prishtina via Istanbul</td>\n",
       "      <td>None</td>\n",
       "      <td>None</td>\n",
       "    </tr>\n",
       "    <tr>\n",
       "      <th>3</th>\n",
       "      <td>Washington Dulles</td>\n",
       "      <td>Karachi</td>\n",
       "      <td>None</td>\n",
       "      <td>None</td>\n",
       "    </tr>\n",
       "    <tr>\n",
       "      <th>4</th>\n",
       "      <td>Mumbai</td>\n",
       "      <td>Dublin via Istanbul</td>\n",
       "      <td>None</td>\n",
       "      <td>None</td>\n",
       "    </tr>\n",
       "    <tr>\n",
       "      <th>...</th>\n",
       "      <td>...</td>\n",
       "      <td>...</td>\n",
       "      <td>...</td>\n",
       "      <td>...</td>\n",
       "    </tr>\n",
       "    <tr>\n",
       "      <th>65912</th>\n",
       "      <td>NaN</td>\n",
       "      <td>NaN</td>\n",
       "      <td>NaN</td>\n",
       "      <td>NaN</td>\n",
       "    </tr>\n",
       "    <tr>\n",
       "      <th>65913</th>\n",
       "      <td>NaN</td>\n",
       "      <td>NaN</td>\n",
       "      <td>NaN</td>\n",
       "      <td>NaN</td>\n",
       "    </tr>\n",
       "    <tr>\n",
       "      <th>65914</th>\n",
       "      <td>NaN</td>\n",
       "      <td>NaN</td>\n",
       "      <td>NaN</td>\n",
       "      <td>NaN</td>\n",
       "    </tr>\n",
       "    <tr>\n",
       "      <th>65915</th>\n",
       "      <td>NaN</td>\n",
       "      <td>NaN</td>\n",
       "      <td>NaN</td>\n",
       "      <td>NaN</td>\n",
       "    </tr>\n",
       "    <tr>\n",
       "      <th>65916</th>\n",
       "      <td>NaN</td>\n",
       "      <td>NaN</td>\n",
       "      <td>NaN</td>\n",
       "      <td>NaN</td>\n",
       "    </tr>\n",
       "  </tbody>\n",
       "</table>\n",
       "<p>58288 rows × 4 columns</p>\n",
       "</div>"
      ],
      "text/plain": [
       "                       0                       1     2     3\n",
       "0                 London      Izmir via Istanbul  None  None\n",
       "1               Istanbul               Bucharest  None  None\n",
       "2                   Rome  Prishtina via Istanbul  None  None\n",
       "3      Washington Dulles                 Karachi  None  None\n",
       "4                 Mumbai     Dublin via Istanbul  None  None\n",
       "...                  ...                     ...   ...   ...\n",
       "65912                NaN                     NaN   NaN   NaN\n",
       "65913                NaN                     NaN   NaN   NaN\n",
       "65914                NaN                     NaN   NaN   NaN\n",
       "65915                NaN                     NaN   NaN   NaN\n",
       "65916                NaN                     NaN   NaN   NaN\n",
       "\n",
       "[58288 rows x 4 columns]"
      ]
     },
     "execution_count": 44,
     "metadata": {},
     "output_type": "execute_result"
    }
   ],
   "source": [
    "# Use the .str.split() function\n",
    "df2['route'].str.split(' to ', expand=True)"
   ]
  },
  {
   "cell_type": "markdown",
   "metadata": {},
   "source": [
    "Using the `.split()` method, we were able to break up the first half of the route column. However, we see that there are 4 columns that appeared instead of 2, indicating that in some instances, there is a maximum of 4 instances with a 'space' and 'to' separating the string characters. I will only be focusing on the first 2 columns and ignoring the last 2 for this analysis. \n",
    "\n",
    "We will assign this first column as the `origin` column. I will also be creating another copy so as not to break anything. "
   ]
  },
  {
   "cell_type": "code",
   "execution_count": 38,
   "metadata": {},
   "outputs": [
    {
     "data": {
      "text/html": [
       "<div>\n",
       "<style scoped>\n",
       "    .dataframe tbody tr th:only-of-type {\n",
       "        vertical-align: middle;\n",
       "    }\n",
       "\n",
       "    .dataframe tbody tr th {\n",
       "        vertical-align: top;\n",
       "    }\n",
       "\n",
       "    .dataframe thead th {\n",
       "        text-align: right;\n",
       "    }\n",
       "</style>\n",
       "<table border=\"1\" class=\"dataframe\">\n",
       "  <thead>\n",
       "    <tr style=\"text-align: right;\">\n",
       "      <th></th>\n",
       "      <th>airline</th>\n",
       "      <th>overall</th>\n",
       "      <th>author</th>\n",
       "      <th>review_date</th>\n",
       "      <th>customer_review</th>\n",
       "      <th>traveller_type</th>\n",
       "      <th>cabin</th>\n",
       "      <th>route</th>\n",
       "      <th>seat_comfort</th>\n",
       "      <th>cabin_service</th>\n",
       "      <th>food_bev</th>\n",
       "      <th>entertainment</th>\n",
       "      <th>ground_service</th>\n",
       "      <th>value_for_money</th>\n",
       "      <th>recommended</th>\n",
       "      <th>origin</th>\n",
       "      <th>destination 1</th>\n",
       "    </tr>\n",
       "  </thead>\n",
       "  <tbody>\n",
       "    <tr>\n",
       "      <th>0</th>\n",
       "      <td>Turkish Airlines</td>\n",
       "      <td>7.0</td>\n",
       "      <td>Christopher Hackley</td>\n",
       "      <td>2019-05-08</td>\n",
       "      <td>✅ Trip Verified | London to Izmir via Istanbul...</td>\n",
       "      <td>Business</td>\n",
       "      <td>Economy Class</td>\n",
       "      <td>London to Izmir via Istanbul</td>\n",
       "      <td>4.0</td>\n",
       "      <td>5.0</td>\n",
       "      <td>4.0</td>\n",
       "      <td>4.0</td>\n",
       "      <td>2.0</td>\n",
       "      <td>4.0</td>\n",
       "      <td>yes</td>\n",
       "      <td>London</td>\n",
       "      <td>Izmir via Istanbul</td>\n",
       "    </tr>\n",
       "    <tr>\n",
       "      <th>1</th>\n",
       "      <td>Turkish Airlines</td>\n",
       "      <td>2.0</td>\n",
       "      <td>Adriana Pisoi</td>\n",
       "      <td>2019-05-07</td>\n",
       "      <td>✅ Trip Verified | Istanbul to Bucharest. We ma...</td>\n",
       "      <td>Family Leisure</td>\n",
       "      <td>Economy Class</td>\n",
       "      <td>Istanbul to Bucharest</td>\n",
       "      <td>4.0</td>\n",
       "      <td>1.0</td>\n",
       "      <td>1.0</td>\n",
       "      <td>1.0</td>\n",
       "      <td>1.0</td>\n",
       "      <td>1.0</td>\n",
       "      <td>no</td>\n",
       "      <td>Istanbul</td>\n",
       "      <td>Bucharest</td>\n",
       "    </tr>\n",
       "    <tr>\n",
       "      <th>2</th>\n",
       "      <td>Turkish Airlines</td>\n",
       "      <td>3.0</td>\n",
       "      <td>M Galerko</td>\n",
       "      <td>2019-05-07</td>\n",
       "      <td>✅ Trip Verified | Rome to Prishtina via Istanb...</td>\n",
       "      <td>Business</td>\n",
       "      <td>Economy Class</td>\n",
       "      <td>Rome to Prishtina via Istanbul</td>\n",
       "      <td>1.0</td>\n",
       "      <td>4.0</td>\n",
       "      <td>1.0</td>\n",
       "      <td>3.0</td>\n",
       "      <td>1.0</td>\n",
       "      <td>2.0</td>\n",
       "      <td>no</td>\n",
       "      <td>Rome</td>\n",
       "      <td>Prishtina via Istanbul</td>\n",
       "    </tr>\n",
       "    <tr>\n",
       "      <th>3</th>\n",
       "      <td>Turkish Airlines</td>\n",
       "      <td>10.0</td>\n",
       "      <td>Zeshan Shah</td>\n",
       "      <td>2019-05-06</td>\n",
       "      <td>✅ Trip Verified | Flew on Turkish Airlines IAD...</td>\n",
       "      <td>Solo Leisure</td>\n",
       "      <td>Economy Class</td>\n",
       "      <td>Washington Dulles to Karachi</td>\n",
       "      <td>4.0</td>\n",
       "      <td>5.0</td>\n",
       "      <td>5.0</td>\n",
       "      <td>5.0</td>\n",
       "      <td>5.0</td>\n",
       "      <td>5.0</td>\n",
       "      <td>yes</td>\n",
       "      <td>Washington Dulles</td>\n",
       "      <td>Karachi</td>\n",
       "    </tr>\n",
       "    <tr>\n",
       "      <th>4</th>\n",
       "      <td>Turkish Airlines</td>\n",
       "      <td>1.0</td>\n",
       "      <td>Pooja Jain</td>\n",
       "      <td>2019-05-06</td>\n",
       "      <td>✅ Trip Verified | Mumbai to Dublin via Istanbu...</td>\n",
       "      <td>Solo Leisure</td>\n",
       "      <td>Economy Class</td>\n",
       "      <td>Mumbai to Dublin via Istanbul</td>\n",
       "      <td>1.0</td>\n",
       "      <td>1.0</td>\n",
       "      <td>1.0</td>\n",
       "      <td>1.0</td>\n",
       "      <td>1.0</td>\n",
       "      <td>1.0</td>\n",
       "      <td>no</td>\n",
       "      <td>Mumbai</td>\n",
       "      <td>Dublin via Istanbul</td>\n",
       "    </tr>\n",
       "  </tbody>\n",
       "</table>\n",
       "</div>"
      ],
      "text/plain": [
       "            airline  overall               author review_date  \\\n",
       "0  Turkish Airlines      7.0  Christopher Hackley  2019-05-08   \n",
       "1  Turkish Airlines      2.0        Adriana Pisoi  2019-05-07   \n",
       "2  Turkish Airlines      3.0            M Galerko  2019-05-07   \n",
       "3  Turkish Airlines     10.0          Zeshan Shah  2019-05-06   \n",
       "4  Turkish Airlines      1.0           Pooja Jain  2019-05-06   \n",
       "\n",
       "                                     customer_review  traveller_type  \\\n",
       "0  ✅ Trip Verified | London to Izmir via Istanbul...        Business   \n",
       "1  ✅ Trip Verified | Istanbul to Bucharest. We ma...  Family Leisure   \n",
       "2  ✅ Trip Verified | Rome to Prishtina via Istanb...        Business   \n",
       "3  ✅ Trip Verified | Flew on Turkish Airlines IAD...    Solo Leisure   \n",
       "4  ✅ Trip Verified | Mumbai to Dublin via Istanbu...    Solo Leisure   \n",
       "\n",
       "           cabin                           route  seat_comfort  cabin_service  \\\n",
       "0  Economy Class    London to Izmir via Istanbul           4.0            5.0   \n",
       "1  Economy Class           Istanbul to Bucharest           4.0            1.0   \n",
       "2  Economy Class  Rome to Prishtina via Istanbul           1.0            4.0   \n",
       "3  Economy Class    Washington Dulles to Karachi           4.0            5.0   \n",
       "4  Economy Class   Mumbai to Dublin via Istanbul           1.0            1.0   \n",
       "\n",
       "   food_bev  entertainment  ground_service  value_for_money recommended  \\\n",
       "0       4.0            4.0             2.0              4.0         yes   \n",
       "1       1.0            1.0             1.0              1.0          no   \n",
       "2       1.0            3.0             1.0              2.0          no   \n",
       "3       5.0            5.0             5.0              5.0         yes   \n",
       "4       1.0            1.0             1.0              1.0          no   \n",
       "\n",
       "              origin           destination 1  \n",
       "0             London      Izmir via Istanbul  \n",
       "1           Istanbul               Bucharest  \n",
       "2               Rome  Prishtina via Istanbul  \n",
       "3  Washington Dulles                 Karachi  \n",
       "4             Mumbai     Dublin via Istanbul  "
      ]
     },
     "execution_count": 38,
     "metadata": {},
     "output_type": "execute_result"
    }
   ],
   "source": [
    "# Split string element-by-element in the pandas series using .str accessor\n",
    "cols_df2 = df2['route'].str.split(' to ', expand=True)\n",
    "\n",
    "# Make a new copy of the dataframe (so as not to break anything)\n",
    "df3 = df2.copy()\n",
    "\n",
    "# Blow away the jobs column with the new origin column\n",
    "df3['origin'] = cols_df2[0]\n",
    "\n",
    "# Add new, temporary column called destination 1 \n",
    "df3['destination 1'] = cols_df2[1]\n",
    "\n",
    "# Check\n",
    "df3.head()"
   ]
  },
  {
   "cell_type": "markdown",
   "metadata": {},
   "source": [
    "We were able to create the `origin` column, but will have to go through the same process for the `destination` column by dropping the text that appears after the 'via' string. \n",
    "\n",
    "I will not include the city name/airport code after the 'via' string as even though it can be categorized as a layover, I am going forward with the assumption that the traveller takes the same airline on the second leg of their journey. "
   ]
  },
  {
   "cell_type": "code",
   "execution_count": 39,
   "metadata": {},
   "outputs": [],
   "source": [
    "# Split string element-by-element in the pandas series using .str accessor\n",
    "cols1_df = df3['destination 1'].str.split(' via ', expand=True)\n",
    "\n",
    "# Make a new copy of the dataframe (so as not to break anything)\n",
    "df4 = df3.copy()\n",
    "\n",
    "# Blow away the jobs column with the new jobs column\n",
    "df4['destination'] = cols1_df[0]"
   ]
  },
  {
   "cell_type": "code",
   "execution_count": 40,
   "metadata": {},
   "outputs": [
    {
     "data": {
      "text/html": [
       "<div>\n",
       "<style scoped>\n",
       "    .dataframe tbody tr th:only-of-type {\n",
       "        vertical-align: middle;\n",
       "    }\n",
       "\n",
       "    .dataframe tbody tr th {\n",
       "        vertical-align: top;\n",
       "    }\n",
       "\n",
       "    .dataframe thead th {\n",
       "        text-align: right;\n",
       "    }\n",
       "</style>\n",
       "<table border=\"1\" class=\"dataframe\">\n",
       "  <thead>\n",
       "    <tr style=\"text-align: right;\">\n",
       "      <th></th>\n",
       "      <th>airline</th>\n",
       "      <th>overall</th>\n",
       "      <th>author</th>\n",
       "      <th>review_date</th>\n",
       "      <th>customer_review</th>\n",
       "      <th>traveller_type</th>\n",
       "      <th>cabin</th>\n",
       "      <th>route</th>\n",
       "      <th>seat_comfort</th>\n",
       "      <th>cabin_service</th>\n",
       "      <th>food_bev</th>\n",
       "      <th>entertainment</th>\n",
       "      <th>ground_service</th>\n",
       "      <th>value_for_money</th>\n",
       "      <th>recommended</th>\n",
       "      <th>origin</th>\n",
       "      <th>destination 1</th>\n",
       "      <th>destination</th>\n",
       "    </tr>\n",
       "  </thead>\n",
       "  <tbody>\n",
       "    <tr>\n",
       "      <th>0</th>\n",
       "      <td>Turkish Airlines</td>\n",
       "      <td>7.0</td>\n",
       "      <td>Christopher Hackley</td>\n",
       "      <td>2019-05-08</td>\n",
       "      <td>✅ Trip Verified | London to Izmir via Istanbul...</td>\n",
       "      <td>Business</td>\n",
       "      <td>Economy Class</td>\n",
       "      <td>London to Izmir via Istanbul</td>\n",
       "      <td>4.0</td>\n",
       "      <td>5.0</td>\n",
       "      <td>4.0</td>\n",
       "      <td>4.0</td>\n",
       "      <td>2.0</td>\n",
       "      <td>4.0</td>\n",
       "      <td>yes</td>\n",
       "      <td>London</td>\n",
       "      <td>Izmir via Istanbul</td>\n",
       "      <td>Izmir</td>\n",
       "    </tr>\n",
       "    <tr>\n",
       "      <th>1</th>\n",
       "      <td>Turkish Airlines</td>\n",
       "      <td>2.0</td>\n",
       "      <td>Adriana Pisoi</td>\n",
       "      <td>2019-05-07</td>\n",
       "      <td>✅ Trip Verified | Istanbul to Bucharest. We ma...</td>\n",
       "      <td>Family Leisure</td>\n",
       "      <td>Economy Class</td>\n",
       "      <td>Istanbul to Bucharest</td>\n",
       "      <td>4.0</td>\n",
       "      <td>1.0</td>\n",
       "      <td>1.0</td>\n",
       "      <td>1.0</td>\n",
       "      <td>1.0</td>\n",
       "      <td>1.0</td>\n",
       "      <td>no</td>\n",
       "      <td>Istanbul</td>\n",
       "      <td>Bucharest</td>\n",
       "      <td>Bucharest</td>\n",
       "    </tr>\n",
       "    <tr>\n",
       "      <th>2</th>\n",
       "      <td>Turkish Airlines</td>\n",
       "      <td>3.0</td>\n",
       "      <td>M Galerko</td>\n",
       "      <td>2019-05-07</td>\n",
       "      <td>✅ Trip Verified | Rome to Prishtina via Istanb...</td>\n",
       "      <td>Business</td>\n",
       "      <td>Economy Class</td>\n",
       "      <td>Rome to Prishtina via Istanbul</td>\n",
       "      <td>1.0</td>\n",
       "      <td>4.0</td>\n",
       "      <td>1.0</td>\n",
       "      <td>3.0</td>\n",
       "      <td>1.0</td>\n",
       "      <td>2.0</td>\n",
       "      <td>no</td>\n",
       "      <td>Rome</td>\n",
       "      <td>Prishtina via Istanbul</td>\n",
       "      <td>Prishtina</td>\n",
       "    </tr>\n",
       "    <tr>\n",
       "      <th>3</th>\n",
       "      <td>Turkish Airlines</td>\n",
       "      <td>10.0</td>\n",
       "      <td>Zeshan Shah</td>\n",
       "      <td>2019-05-06</td>\n",
       "      <td>✅ Trip Verified | Flew on Turkish Airlines IAD...</td>\n",
       "      <td>Solo Leisure</td>\n",
       "      <td>Economy Class</td>\n",
       "      <td>Washington Dulles to Karachi</td>\n",
       "      <td>4.0</td>\n",
       "      <td>5.0</td>\n",
       "      <td>5.0</td>\n",
       "      <td>5.0</td>\n",
       "      <td>5.0</td>\n",
       "      <td>5.0</td>\n",
       "      <td>yes</td>\n",
       "      <td>Washington Dulles</td>\n",
       "      <td>Karachi</td>\n",
       "      <td>Karachi</td>\n",
       "    </tr>\n",
       "    <tr>\n",
       "      <th>4</th>\n",
       "      <td>Turkish Airlines</td>\n",
       "      <td>1.0</td>\n",
       "      <td>Pooja Jain</td>\n",
       "      <td>2019-05-06</td>\n",
       "      <td>✅ Trip Verified | Mumbai to Dublin via Istanbu...</td>\n",
       "      <td>Solo Leisure</td>\n",
       "      <td>Economy Class</td>\n",
       "      <td>Mumbai to Dublin via Istanbul</td>\n",
       "      <td>1.0</td>\n",
       "      <td>1.0</td>\n",
       "      <td>1.0</td>\n",
       "      <td>1.0</td>\n",
       "      <td>1.0</td>\n",
       "      <td>1.0</td>\n",
       "      <td>no</td>\n",
       "      <td>Mumbai</td>\n",
       "      <td>Dublin via Istanbul</td>\n",
       "      <td>Dublin</td>\n",
       "    </tr>\n",
       "  </tbody>\n",
       "</table>\n",
       "</div>"
      ],
      "text/plain": [
       "            airline  overall               author review_date  \\\n",
       "0  Turkish Airlines      7.0  Christopher Hackley  2019-05-08   \n",
       "1  Turkish Airlines      2.0        Adriana Pisoi  2019-05-07   \n",
       "2  Turkish Airlines      3.0            M Galerko  2019-05-07   \n",
       "3  Turkish Airlines     10.0          Zeshan Shah  2019-05-06   \n",
       "4  Turkish Airlines      1.0           Pooja Jain  2019-05-06   \n",
       "\n",
       "                                     customer_review  traveller_type  \\\n",
       "0  ✅ Trip Verified | London to Izmir via Istanbul...        Business   \n",
       "1  ✅ Trip Verified | Istanbul to Bucharest. We ma...  Family Leisure   \n",
       "2  ✅ Trip Verified | Rome to Prishtina via Istanb...        Business   \n",
       "3  ✅ Trip Verified | Flew on Turkish Airlines IAD...    Solo Leisure   \n",
       "4  ✅ Trip Verified | Mumbai to Dublin via Istanbu...    Solo Leisure   \n",
       "\n",
       "           cabin                           route  seat_comfort  cabin_service  \\\n",
       "0  Economy Class    London to Izmir via Istanbul           4.0            5.0   \n",
       "1  Economy Class           Istanbul to Bucharest           4.0            1.0   \n",
       "2  Economy Class  Rome to Prishtina via Istanbul           1.0            4.0   \n",
       "3  Economy Class    Washington Dulles to Karachi           4.0            5.0   \n",
       "4  Economy Class   Mumbai to Dublin via Istanbul           1.0            1.0   \n",
       "\n",
       "   food_bev  entertainment  ground_service  value_for_money recommended  \\\n",
       "0       4.0            4.0             2.0              4.0         yes   \n",
       "1       1.0            1.0             1.0              1.0          no   \n",
       "2       1.0            3.0             1.0              2.0          no   \n",
       "3       5.0            5.0             5.0              5.0         yes   \n",
       "4       1.0            1.0             1.0              1.0          no   \n",
       "\n",
       "              origin           destination 1 destination  \n",
       "0             London      Izmir via Istanbul       Izmir  \n",
       "1           Istanbul               Bucharest   Bucharest  \n",
       "2               Rome  Prishtina via Istanbul   Prishtina  \n",
       "3  Washington Dulles                 Karachi     Karachi  \n",
       "4             Mumbai     Dublin via Istanbul      Dublin  "
      ]
     },
     "execution_count": 40,
     "metadata": {},
     "output_type": "execute_result"
    }
   ],
   "source": [
    "# Check new dataframe for origin and destination column\n",
    "df4.head()"
   ]
  },
  {
   "cell_type": "markdown",
   "metadata": {},
   "source": [
    "We now have our `origin` and `destination` columns! We can drop the `destination 1` and `route` columns as they are no longer needed. "
   ]
  },
  {
   "cell_type": "code",
   "execution_count": 41,
   "metadata": {},
   "outputs": [
    {
     "data": {
      "text/html": [
       "<div>\n",
       "<style scoped>\n",
       "    .dataframe tbody tr th:only-of-type {\n",
       "        vertical-align: middle;\n",
       "    }\n",
       "\n",
       "    .dataframe tbody tr th {\n",
       "        vertical-align: top;\n",
       "    }\n",
       "\n",
       "    .dataframe thead th {\n",
       "        text-align: right;\n",
       "    }\n",
       "</style>\n",
       "<table border=\"1\" class=\"dataframe\">\n",
       "  <thead>\n",
       "    <tr style=\"text-align: right;\">\n",
       "      <th></th>\n",
       "      <th>airline</th>\n",
       "      <th>overall</th>\n",
       "      <th>author</th>\n",
       "      <th>review_date</th>\n",
       "      <th>customer_review</th>\n",
       "      <th>traveller_type</th>\n",
       "      <th>cabin</th>\n",
       "      <th>seat_comfort</th>\n",
       "      <th>cabin_service</th>\n",
       "      <th>food_bev</th>\n",
       "      <th>entertainment</th>\n",
       "      <th>ground_service</th>\n",
       "      <th>value_for_money</th>\n",
       "      <th>recommended</th>\n",
       "      <th>origin</th>\n",
       "      <th>destination</th>\n",
       "    </tr>\n",
       "  </thead>\n",
       "  <tbody>\n",
       "    <tr>\n",
       "      <th>0</th>\n",
       "      <td>Turkish Airlines</td>\n",
       "      <td>7.0</td>\n",
       "      <td>Christopher Hackley</td>\n",
       "      <td>2019-05-08</td>\n",
       "      <td>✅ Trip Verified | London to Izmir via Istanbul...</td>\n",
       "      <td>Business</td>\n",
       "      <td>Economy Class</td>\n",
       "      <td>4.0</td>\n",
       "      <td>5.0</td>\n",
       "      <td>4.0</td>\n",
       "      <td>4.0</td>\n",
       "      <td>2.0</td>\n",
       "      <td>4.0</td>\n",
       "      <td>yes</td>\n",
       "      <td>London</td>\n",
       "      <td>Izmir</td>\n",
       "    </tr>\n",
       "    <tr>\n",
       "      <th>1</th>\n",
       "      <td>Turkish Airlines</td>\n",
       "      <td>2.0</td>\n",
       "      <td>Adriana Pisoi</td>\n",
       "      <td>2019-05-07</td>\n",
       "      <td>✅ Trip Verified | Istanbul to Bucharest. We ma...</td>\n",
       "      <td>Family Leisure</td>\n",
       "      <td>Economy Class</td>\n",
       "      <td>4.0</td>\n",
       "      <td>1.0</td>\n",
       "      <td>1.0</td>\n",
       "      <td>1.0</td>\n",
       "      <td>1.0</td>\n",
       "      <td>1.0</td>\n",
       "      <td>no</td>\n",
       "      <td>Istanbul</td>\n",
       "      <td>Bucharest</td>\n",
       "    </tr>\n",
       "    <tr>\n",
       "      <th>2</th>\n",
       "      <td>Turkish Airlines</td>\n",
       "      <td>3.0</td>\n",
       "      <td>M Galerko</td>\n",
       "      <td>2019-05-07</td>\n",
       "      <td>✅ Trip Verified | Rome to Prishtina via Istanb...</td>\n",
       "      <td>Business</td>\n",
       "      <td>Economy Class</td>\n",
       "      <td>1.0</td>\n",
       "      <td>4.0</td>\n",
       "      <td>1.0</td>\n",
       "      <td>3.0</td>\n",
       "      <td>1.0</td>\n",
       "      <td>2.0</td>\n",
       "      <td>no</td>\n",
       "      <td>Rome</td>\n",
       "      <td>Prishtina</td>\n",
       "    </tr>\n",
       "    <tr>\n",
       "      <th>3</th>\n",
       "      <td>Turkish Airlines</td>\n",
       "      <td>10.0</td>\n",
       "      <td>Zeshan Shah</td>\n",
       "      <td>2019-05-06</td>\n",
       "      <td>✅ Trip Verified | Flew on Turkish Airlines IAD...</td>\n",
       "      <td>Solo Leisure</td>\n",
       "      <td>Economy Class</td>\n",
       "      <td>4.0</td>\n",
       "      <td>5.0</td>\n",
       "      <td>5.0</td>\n",
       "      <td>5.0</td>\n",
       "      <td>5.0</td>\n",
       "      <td>5.0</td>\n",
       "      <td>yes</td>\n",
       "      <td>Washington Dulles</td>\n",
       "      <td>Karachi</td>\n",
       "    </tr>\n",
       "    <tr>\n",
       "      <th>4</th>\n",
       "      <td>Turkish Airlines</td>\n",
       "      <td>1.0</td>\n",
       "      <td>Pooja Jain</td>\n",
       "      <td>2019-05-06</td>\n",
       "      <td>✅ Trip Verified | Mumbai to Dublin via Istanbu...</td>\n",
       "      <td>Solo Leisure</td>\n",
       "      <td>Economy Class</td>\n",
       "      <td>1.0</td>\n",
       "      <td>1.0</td>\n",
       "      <td>1.0</td>\n",
       "      <td>1.0</td>\n",
       "      <td>1.0</td>\n",
       "      <td>1.0</td>\n",
       "      <td>no</td>\n",
       "      <td>Mumbai</td>\n",
       "      <td>Dublin</td>\n",
       "    </tr>\n",
       "  </tbody>\n",
       "</table>\n",
       "</div>"
      ],
      "text/plain": [
       "            airline  overall               author review_date  \\\n",
       "0  Turkish Airlines      7.0  Christopher Hackley  2019-05-08   \n",
       "1  Turkish Airlines      2.0        Adriana Pisoi  2019-05-07   \n",
       "2  Turkish Airlines      3.0            M Galerko  2019-05-07   \n",
       "3  Turkish Airlines     10.0          Zeshan Shah  2019-05-06   \n",
       "4  Turkish Airlines      1.0           Pooja Jain  2019-05-06   \n",
       "\n",
       "                                     customer_review  traveller_type  \\\n",
       "0  ✅ Trip Verified | London to Izmir via Istanbul...        Business   \n",
       "1  ✅ Trip Verified | Istanbul to Bucharest. We ma...  Family Leisure   \n",
       "2  ✅ Trip Verified | Rome to Prishtina via Istanb...        Business   \n",
       "3  ✅ Trip Verified | Flew on Turkish Airlines IAD...    Solo Leisure   \n",
       "4  ✅ Trip Verified | Mumbai to Dublin via Istanbu...    Solo Leisure   \n",
       "\n",
       "           cabin  seat_comfort  cabin_service  food_bev  entertainment  \\\n",
       "0  Economy Class           4.0            5.0       4.0            4.0   \n",
       "1  Economy Class           4.0            1.0       1.0            1.0   \n",
       "2  Economy Class           1.0            4.0       1.0            3.0   \n",
       "3  Economy Class           4.0            5.0       5.0            5.0   \n",
       "4  Economy Class           1.0            1.0       1.0            1.0   \n",
       "\n",
       "   ground_service  value_for_money recommended             origin destination  \n",
       "0             2.0              4.0         yes             London       Izmir  \n",
       "1             1.0              1.0          no           Istanbul   Bucharest  \n",
       "2             1.0              2.0          no               Rome   Prishtina  \n",
       "3             5.0              5.0         yes  Washington Dulles     Karachi  \n",
       "4             1.0              1.0          no             Mumbai      Dublin  "
      ]
     },
     "execution_count": 41,
     "metadata": {},
     "output_type": "execute_result"
    }
   ],
   "source": [
    "# Drop route and destination 1 columns\n",
    "df4.drop(columns=['route','destination 1'], inplace=True)\n",
    "\n",
    "# Check dataframe\n",
    "df4.head()"
   ]
  },
  {
   "cell_type": "markdown",
   "metadata": {},
   "source": [
    "With the `origin` and `destination` columns created, the next step is to drop the `author` column as it is not needed for this analysis or modelling."
   ]
  },
  {
   "cell_type": "code",
   "execution_count": 42,
   "metadata": {},
   "outputs": [
    {
     "data": {
      "text/html": [
       "<div>\n",
       "<style scoped>\n",
       "    .dataframe tbody tr th:only-of-type {\n",
       "        vertical-align: middle;\n",
       "    }\n",
       "\n",
       "    .dataframe tbody tr th {\n",
       "        vertical-align: top;\n",
       "    }\n",
       "\n",
       "    .dataframe thead th {\n",
       "        text-align: right;\n",
       "    }\n",
       "</style>\n",
       "<table border=\"1\" class=\"dataframe\">\n",
       "  <thead>\n",
       "    <tr style=\"text-align: right;\">\n",
       "      <th></th>\n",
       "      <th>airline</th>\n",
       "      <th>overall</th>\n",
       "      <th>review_date</th>\n",
       "      <th>customer_review</th>\n",
       "      <th>traveller_type</th>\n",
       "      <th>cabin</th>\n",
       "      <th>seat_comfort</th>\n",
       "      <th>cabin_service</th>\n",
       "      <th>food_bev</th>\n",
       "      <th>entertainment</th>\n",
       "      <th>ground_service</th>\n",
       "      <th>value_for_money</th>\n",
       "      <th>recommended</th>\n",
       "      <th>origin</th>\n",
       "      <th>destination</th>\n",
       "    </tr>\n",
       "  </thead>\n",
       "  <tbody>\n",
       "    <tr>\n",
       "      <th>0</th>\n",
       "      <td>Turkish Airlines</td>\n",
       "      <td>7.0</td>\n",
       "      <td>2019-05-08</td>\n",
       "      <td>✅ Trip Verified | London to Izmir via Istanbul...</td>\n",
       "      <td>Business</td>\n",
       "      <td>Economy Class</td>\n",
       "      <td>4.0</td>\n",
       "      <td>5.0</td>\n",
       "      <td>4.0</td>\n",
       "      <td>4.0</td>\n",
       "      <td>2.0</td>\n",
       "      <td>4.0</td>\n",
       "      <td>yes</td>\n",
       "      <td>London</td>\n",
       "      <td>Izmir</td>\n",
       "    </tr>\n",
       "    <tr>\n",
       "      <th>1</th>\n",
       "      <td>Turkish Airlines</td>\n",
       "      <td>2.0</td>\n",
       "      <td>2019-05-07</td>\n",
       "      <td>✅ Trip Verified | Istanbul to Bucharest. We ma...</td>\n",
       "      <td>Family Leisure</td>\n",
       "      <td>Economy Class</td>\n",
       "      <td>4.0</td>\n",
       "      <td>1.0</td>\n",
       "      <td>1.0</td>\n",
       "      <td>1.0</td>\n",
       "      <td>1.0</td>\n",
       "      <td>1.0</td>\n",
       "      <td>no</td>\n",
       "      <td>Istanbul</td>\n",
       "      <td>Bucharest</td>\n",
       "    </tr>\n",
       "    <tr>\n",
       "      <th>2</th>\n",
       "      <td>Turkish Airlines</td>\n",
       "      <td>3.0</td>\n",
       "      <td>2019-05-07</td>\n",
       "      <td>✅ Trip Verified | Rome to Prishtina via Istanb...</td>\n",
       "      <td>Business</td>\n",
       "      <td>Economy Class</td>\n",
       "      <td>1.0</td>\n",
       "      <td>4.0</td>\n",
       "      <td>1.0</td>\n",
       "      <td>3.0</td>\n",
       "      <td>1.0</td>\n",
       "      <td>2.0</td>\n",
       "      <td>no</td>\n",
       "      <td>Rome</td>\n",
       "      <td>Prishtina</td>\n",
       "    </tr>\n",
       "    <tr>\n",
       "      <th>3</th>\n",
       "      <td>Turkish Airlines</td>\n",
       "      <td>10.0</td>\n",
       "      <td>2019-05-06</td>\n",
       "      <td>✅ Trip Verified | Flew on Turkish Airlines IAD...</td>\n",
       "      <td>Solo Leisure</td>\n",
       "      <td>Economy Class</td>\n",
       "      <td>4.0</td>\n",
       "      <td>5.0</td>\n",
       "      <td>5.0</td>\n",
       "      <td>5.0</td>\n",
       "      <td>5.0</td>\n",
       "      <td>5.0</td>\n",
       "      <td>yes</td>\n",
       "      <td>Washington Dulles</td>\n",
       "      <td>Karachi</td>\n",
       "    </tr>\n",
       "    <tr>\n",
       "      <th>4</th>\n",
       "      <td>Turkish Airlines</td>\n",
       "      <td>1.0</td>\n",
       "      <td>2019-05-06</td>\n",
       "      <td>✅ Trip Verified | Mumbai to Dublin via Istanbu...</td>\n",
       "      <td>Solo Leisure</td>\n",
       "      <td>Economy Class</td>\n",
       "      <td>1.0</td>\n",
       "      <td>1.0</td>\n",
       "      <td>1.0</td>\n",
       "      <td>1.0</td>\n",
       "      <td>1.0</td>\n",
       "      <td>1.0</td>\n",
       "      <td>no</td>\n",
       "      <td>Mumbai</td>\n",
       "      <td>Dublin</td>\n",
       "    </tr>\n",
       "  </tbody>\n",
       "</table>\n",
       "</div>"
      ],
      "text/plain": [
       "            airline  overall review_date  \\\n",
       "0  Turkish Airlines      7.0  2019-05-08   \n",
       "1  Turkish Airlines      2.0  2019-05-07   \n",
       "2  Turkish Airlines      3.0  2019-05-07   \n",
       "3  Turkish Airlines     10.0  2019-05-06   \n",
       "4  Turkish Airlines      1.0  2019-05-06   \n",
       "\n",
       "                                     customer_review  traveller_type  \\\n",
       "0  ✅ Trip Verified | London to Izmir via Istanbul...        Business   \n",
       "1  ✅ Trip Verified | Istanbul to Bucharest. We ma...  Family Leisure   \n",
       "2  ✅ Trip Verified | Rome to Prishtina via Istanb...        Business   \n",
       "3  ✅ Trip Verified | Flew on Turkish Airlines IAD...    Solo Leisure   \n",
       "4  ✅ Trip Verified | Mumbai to Dublin via Istanbu...    Solo Leisure   \n",
       "\n",
       "           cabin  seat_comfort  cabin_service  food_bev  entertainment  \\\n",
       "0  Economy Class           4.0            5.0       4.0            4.0   \n",
       "1  Economy Class           4.0            1.0       1.0            1.0   \n",
       "2  Economy Class           1.0            4.0       1.0            3.0   \n",
       "3  Economy Class           4.0            5.0       5.0            5.0   \n",
       "4  Economy Class           1.0            1.0       1.0            1.0   \n",
       "\n",
       "   ground_service  value_for_money recommended             origin destination  \n",
       "0             2.0              4.0         yes             London       Izmir  \n",
       "1             1.0              1.0          no           Istanbul   Bucharest  \n",
       "2             1.0              2.0          no               Rome   Prishtina  \n",
       "3             5.0              5.0         yes  Washington Dulles     Karachi  \n",
       "4             1.0              1.0          no             Mumbai      Dublin  "
      ]
     },
     "execution_count": 42,
     "metadata": {},
     "output_type": "execute_result"
    }
   ],
   "source": [
    "# Drop the author column\n",
    "df4.drop(columns=['author'], inplace=True)\n",
    "\n",
    "# Check\n",
    "df4.head()"
   ]
  },
  {
   "cell_type": "markdown",
   "metadata": {},
   "source": [
    "With the `author` column dropped, it's time to look back at the remaining missing values. "
   ]
  },
  {
   "cell_type": "code",
   "execution_count": 43,
   "metadata": {},
   "outputs": [
    {
     "data": {
      "text/plain": [
       "airline             0.000000\n",
       "overall             0.000000\n",
       "review_date         0.000000\n",
       "customer_review     0.000000\n",
       "traveller_type     33.722207\n",
       "cabin               0.000000\n",
       "seat_comfort        0.000000\n",
       "cabin_service       0.000000\n",
       "food_bev            0.000000\n",
       "entertainment       0.000000\n",
       "ground_service      0.000000\n",
       "value_for_money     0.000000\n",
       "recommended         0.000000\n",
       "origin             33.770244\n",
       "destination        33.989844\n",
       "dtype: float64"
      ]
     },
     "execution_count": 43,
     "metadata": {},
     "output_type": "execute_result"
    }
   ],
   "source": [
    "# Check missing values once again\n",
    "df4.isna().sum()/len(df4)*100"
   ]
  },
  {
   "cell_type": "markdown",
   "metadata": {},
   "source": [
    "There is ~34% missing values for the remaining columns. For experimentation, I will be dropping all the missing values of one column and see if it affects We will first drop the missing values for one column to see if it has any change on the other two. We will first drop the missing values from the `destination` column."
   ]
  },
  {
   "cell_type": "code",
   "execution_count": 44,
   "metadata": {},
   "outputs": [
    {
     "data": {
      "text/plain": [
       "airline            0\n",
       "overall            0\n",
       "review_date        0\n",
       "customer_review    0\n",
       "traveller_type     2\n",
       "cabin              0\n",
       "seat_comfort       0\n",
       "cabin_service      0\n",
       "food_bev           0\n",
       "entertainment      0\n",
       "ground_service     0\n",
       "value_for_money    0\n",
       "recommended        0\n",
       "origin             0\n",
       "destination        0\n",
       "dtype: int64"
      ]
     },
     "execution_count": 44,
     "metadata": {},
     "output_type": "execute_result"
    }
   ],
   "source": [
    "# Drop missing rows from destination\n",
    "df4.dropna(subset=['destination'], inplace=True)\n",
    "\n",
    "# Check updated dataframe\n",
    "df4.isna().sum()"
   ]
  },
  {
   "cell_type": "markdown",
   "metadata": {},
   "source": [
    "Turns out that dropping rows containing missing values in the `desintation` column also included all of the rows containing missing values from the `origin` column that had missing values, as well almost all missing values from the `traveller type` column. We can drop the missing two rows in the traveller type variable since it's an incredibly small fraction of the dataset now."
   ]
  },
  {
   "cell_type": "code",
   "execution_count": 45,
   "metadata": {},
   "outputs": [
    {
     "data": {
      "text/plain": [
       "airline            0\n",
       "overall            0\n",
       "review_date        0\n",
       "customer_review    0\n",
       "traveller_type     0\n",
       "cabin              0\n",
       "seat_comfort       0\n",
       "cabin_service      0\n",
       "food_bev           0\n",
       "entertainment      0\n",
       "ground_service     0\n",
       "value_for_money    0\n",
       "recommended        0\n",
       "origin             0\n",
       "destination        0\n",
       "dtype: int64"
      ]
     },
     "execution_count": 45,
     "metadata": {},
     "output_type": "execute_result"
    }
   ],
   "source": [
    "# Drop missing values from traveller type\n",
    "df4.dropna(subset=['traveller_type'], inplace=True)\n",
    "\n",
    "# Check df4 missing values\n",
    "df4.isna().sum()"
   ]
  },
  {
   "cell_type": "markdown",
   "metadata": {},
   "source": [
    "Finally, I'll be checking for any duplicates."
   ]
  },
  {
   "cell_type": "code",
   "execution_count": 46,
   "metadata": {},
   "outputs": [
    {
     "data": {
      "text/plain": [
       "2166"
      ]
     },
     "execution_count": 46,
     "metadata": {},
     "output_type": "execute_result"
    }
   ],
   "source": [
    "# Check for duplicates\n",
    "df4.duplicated().sum()"
   ]
  },
  {
   "cell_type": "markdown",
   "metadata": {},
   "source": [
    "It looks like there are 2166 duplicated rows. We will drop them to ensure the data is not biased. "
   ]
  },
  {
   "cell_type": "code",
   "execution_count": 47,
   "metadata": {},
   "outputs": [
    {
     "data": {
      "text/plain": [
       "0"
      ]
     },
     "execution_count": 47,
     "metadata": {},
     "output_type": "execute_result"
    }
   ],
   "source": [
    "# Drop duplicates\n",
    "df4.drop_duplicates(keep=False, inplace=True)\n",
    "\n",
    "# Check\n",
    "df4.duplicated().sum()"
   ]
  },
  {
   "cell_type": "markdown",
   "metadata": {},
   "source": [
    "There are no more duplicated rows/columns in this dataset. Time to check the shape."
   ]
  },
  {
   "cell_type": "code",
   "execution_count": 48,
   "metadata": {},
   "outputs": [
    {
     "data": {
      "text/plain": [
       "(34142, 15)"
      ]
     },
     "execution_count": 48,
     "metadata": {},
     "output_type": "execute_result"
    }
   ],
   "source": [
    "df4.shape"
   ]
  },
  {
   "cell_type": "markdown",
   "metadata": {},
   "source": [
    "I am left with a dataset that is 34142 rows x 15 columns, but there is still work to do!\n",
    "\n",
    "I did notice that all the numerical, score data is a float data type. I will be converting them to an integer data type as it is preferred to have a nice, round number."
   ]
  },
  {
   "cell_type": "code",
   "execution_count": 49,
   "metadata": {},
   "outputs": [],
   "source": [
    "# Convert numeric colums from float to integer\n",
    "df4[['overall','seat_comfort','cabin_service','food_bev','entertainment','ground_service','value_for_money']] = df4[['overall',\n",
    "                                                                                                                    'seat_comfort',\n",
    "                                                                                                                    'cabin_service',\n",
    "                                                                                                                    'food_bev',\n",
    "                                                                                                                    'entertainment',\n",
    "                                                                                                                    'ground_service',\n",
    "                                                                                                                    'value_for_money']].astype('int64')"
   ]
  },
  {
   "cell_type": "code",
   "execution_count": 50,
   "metadata": {},
   "outputs": [
    {
     "name": "stdout",
     "output_type": "stream",
     "text": [
      "<class 'pandas.core.frame.DataFrame'>\n",
      "Int64Index: 34142 entries, 0 to 65856\n",
      "Data columns (total 15 columns):\n",
      " #   Column           Non-Null Count  Dtype         \n",
      "---  ------           --------------  -----         \n",
      " 0   airline          34142 non-null  object        \n",
      " 1   overall          34142 non-null  int64         \n",
      " 2   review_date      34142 non-null  datetime64[ns]\n",
      " 3   customer_review  34142 non-null  object        \n",
      " 4   traveller_type   34142 non-null  object        \n",
      " 5   cabin            34142 non-null  object        \n",
      " 6   seat_comfort     34142 non-null  int64         \n",
      " 7   cabin_service    34142 non-null  int64         \n",
      " 8   food_bev         34142 non-null  int64         \n",
      " 9   entertainment    34142 non-null  int64         \n",
      " 10  ground_service   34142 non-null  int64         \n",
      " 11  value_for_money  34142 non-null  int64         \n",
      " 12  recommended      34142 non-null  object        \n",
      " 13  origin           34142 non-null  object        \n",
      " 14  destination      34142 non-null  object        \n",
      "dtypes: datetime64[ns](1), int64(7), object(7)\n",
      "memory usage: 4.2+ MB\n"
     ]
    }
   ],
   "source": [
    "# Check updated data types\n",
    "df4.info()"
   ]
  },
  {
   "cell_type": "markdown",
   "metadata": {},
   "source": [
    "We have now updated the numeric data from *float* to *int*. Let's see how it looks when we bring up the first 5 rows."
   ]
  },
  {
   "cell_type": "code",
   "execution_count": 51,
   "metadata": {},
   "outputs": [
    {
     "data": {
      "text/html": [
       "<div>\n",
       "<style scoped>\n",
       "    .dataframe tbody tr th:only-of-type {\n",
       "        vertical-align: middle;\n",
       "    }\n",
       "\n",
       "    .dataframe tbody tr th {\n",
       "        vertical-align: top;\n",
       "    }\n",
       "\n",
       "    .dataframe thead th {\n",
       "        text-align: right;\n",
       "    }\n",
       "</style>\n",
       "<table border=\"1\" class=\"dataframe\">\n",
       "  <thead>\n",
       "    <tr style=\"text-align: right;\">\n",
       "      <th></th>\n",
       "      <th>airline</th>\n",
       "      <th>overall</th>\n",
       "      <th>review_date</th>\n",
       "      <th>customer_review</th>\n",
       "      <th>traveller_type</th>\n",
       "      <th>cabin</th>\n",
       "      <th>seat_comfort</th>\n",
       "      <th>cabin_service</th>\n",
       "      <th>food_bev</th>\n",
       "      <th>entertainment</th>\n",
       "      <th>ground_service</th>\n",
       "      <th>value_for_money</th>\n",
       "      <th>recommended</th>\n",
       "      <th>origin</th>\n",
       "      <th>destination</th>\n",
       "    </tr>\n",
       "  </thead>\n",
       "  <tbody>\n",
       "    <tr>\n",
       "      <th>0</th>\n",
       "      <td>Turkish Airlines</td>\n",
       "      <td>7</td>\n",
       "      <td>2019-05-08</td>\n",
       "      <td>✅ Trip Verified | London to Izmir via Istanbul...</td>\n",
       "      <td>Business</td>\n",
       "      <td>Economy Class</td>\n",
       "      <td>4</td>\n",
       "      <td>5</td>\n",
       "      <td>4</td>\n",
       "      <td>4</td>\n",
       "      <td>2</td>\n",
       "      <td>4</td>\n",
       "      <td>yes</td>\n",
       "      <td>London</td>\n",
       "      <td>Izmir</td>\n",
       "    </tr>\n",
       "    <tr>\n",
       "      <th>1</th>\n",
       "      <td>Turkish Airlines</td>\n",
       "      <td>2</td>\n",
       "      <td>2019-05-07</td>\n",
       "      <td>✅ Trip Verified | Istanbul to Bucharest. We ma...</td>\n",
       "      <td>Family Leisure</td>\n",
       "      <td>Economy Class</td>\n",
       "      <td>4</td>\n",
       "      <td>1</td>\n",
       "      <td>1</td>\n",
       "      <td>1</td>\n",
       "      <td>1</td>\n",
       "      <td>1</td>\n",
       "      <td>no</td>\n",
       "      <td>Istanbul</td>\n",
       "      <td>Bucharest</td>\n",
       "    </tr>\n",
       "    <tr>\n",
       "      <th>2</th>\n",
       "      <td>Turkish Airlines</td>\n",
       "      <td>3</td>\n",
       "      <td>2019-05-07</td>\n",
       "      <td>✅ Trip Verified | Rome to Prishtina via Istanb...</td>\n",
       "      <td>Business</td>\n",
       "      <td>Economy Class</td>\n",
       "      <td>1</td>\n",
       "      <td>4</td>\n",
       "      <td>1</td>\n",
       "      <td>3</td>\n",
       "      <td>1</td>\n",
       "      <td>2</td>\n",
       "      <td>no</td>\n",
       "      <td>Rome</td>\n",
       "      <td>Prishtina</td>\n",
       "    </tr>\n",
       "    <tr>\n",
       "      <th>3</th>\n",
       "      <td>Turkish Airlines</td>\n",
       "      <td>10</td>\n",
       "      <td>2019-05-06</td>\n",
       "      <td>✅ Trip Verified | Flew on Turkish Airlines IAD...</td>\n",
       "      <td>Solo Leisure</td>\n",
       "      <td>Economy Class</td>\n",
       "      <td>4</td>\n",
       "      <td>5</td>\n",
       "      <td>5</td>\n",
       "      <td>5</td>\n",
       "      <td>5</td>\n",
       "      <td>5</td>\n",
       "      <td>yes</td>\n",
       "      <td>Washington Dulles</td>\n",
       "      <td>Karachi</td>\n",
       "    </tr>\n",
       "    <tr>\n",
       "      <th>4</th>\n",
       "      <td>Turkish Airlines</td>\n",
       "      <td>1</td>\n",
       "      <td>2019-05-06</td>\n",
       "      <td>✅ Trip Verified | Mumbai to Dublin via Istanbu...</td>\n",
       "      <td>Solo Leisure</td>\n",
       "      <td>Economy Class</td>\n",
       "      <td>1</td>\n",
       "      <td>1</td>\n",
       "      <td>1</td>\n",
       "      <td>1</td>\n",
       "      <td>1</td>\n",
       "      <td>1</td>\n",
       "      <td>no</td>\n",
       "      <td>Mumbai</td>\n",
       "      <td>Dublin</td>\n",
       "    </tr>\n",
       "  </tbody>\n",
       "</table>\n",
       "</div>"
      ],
      "text/plain": [
       "            airline  overall review_date  \\\n",
       "0  Turkish Airlines        7  2019-05-08   \n",
       "1  Turkish Airlines        2  2019-05-07   \n",
       "2  Turkish Airlines        3  2019-05-07   \n",
       "3  Turkish Airlines       10  2019-05-06   \n",
       "4  Turkish Airlines        1  2019-05-06   \n",
       "\n",
       "                                     customer_review  traveller_type  \\\n",
       "0  ✅ Trip Verified | London to Izmir via Istanbul...        Business   \n",
       "1  ✅ Trip Verified | Istanbul to Bucharest. We ma...  Family Leisure   \n",
       "2  ✅ Trip Verified | Rome to Prishtina via Istanb...        Business   \n",
       "3  ✅ Trip Verified | Flew on Turkish Airlines IAD...    Solo Leisure   \n",
       "4  ✅ Trip Verified | Mumbai to Dublin via Istanbu...    Solo Leisure   \n",
       "\n",
       "           cabin  seat_comfort  cabin_service  food_bev  entertainment  \\\n",
       "0  Economy Class             4              5         4              4   \n",
       "1  Economy Class             4              1         1              1   \n",
       "2  Economy Class             1              4         1              3   \n",
       "3  Economy Class             4              5         5              5   \n",
       "4  Economy Class             1              1         1              1   \n",
       "\n",
       "   ground_service  value_for_money recommended             origin destination  \n",
       "0               2                4         yes             London       Izmir  \n",
       "1               1                1          no           Istanbul   Bucharest  \n",
       "2               1                2          no               Rome   Prishtina  \n",
       "3               5                5         yes  Washington Dulles     Karachi  \n",
       "4               1                1          no             Mumbai      Dublin  "
      ]
     },
     "execution_count": 51,
     "metadata": {},
     "output_type": "execute_result"
    }
   ],
   "source": [
    "# Check\n",
    "df4.head()"
   ]
  },
  {
   "cell_type": "markdown",
   "metadata": {},
   "source": [
    "Everything looks great! Next, we will be extracting day, week, month, and year columns from the `review_date` variable."
   ]
  },
  {
   "cell_type": "code",
   "execution_count": 52,
   "metadata": {},
   "outputs": [],
   "source": [
    "# Create a Week column\n",
    "df4['week_of_year'] = df4['review_date'].dt.week\n",
    "\n",
    "# Create a Month column\n",
    "df4['month_of_year'] = df4['review_date'].dt.month\n",
    "\n",
    "# Create an Year column\n",
    "df4['year'] = df4['review_date'].dt.year\n",
    "\n",
    "# Create a day of the month column\n",
    "df4['day_of_month'] = df4['review_date'].dt.day"
   ]
  },
  {
   "cell_type": "code",
   "execution_count": 53,
   "metadata": {},
   "outputs": [
    {
     "data": {
      "text/html": [
       "<div>\n",
       "<style scoped>\n",
       "    .dataframe tbody tr th:only-of-type {\n",
       "        vertical-align: middle;\n",
       "    }\n",
       "\n",
       "    .dataframe tbody tr th {\n",
       "        vertical-align: top;\n",
       "    }\n",
       "\n",
       "    .dataframe thead th {\n",
       "        text-align: right;\n",
       "    }\n",
       "</style>\n",
       "<table border=\"1\" class=\"dataframe\">\n",
       "  <thead>\n",
       "    <tr style=\"text-align: right;\">\n",
       "      <th></th>\n",
       "      <th>airline</th>\n",
       "      <th>overall</th>\n",
       "      <th>review_date</th>\n",
       "      <th>customer_review</th>\n",
       "      <th>traveller_type</th>\n",
       "      <th>cabin</th>\n",
       "      <th>seat_comfort</th>\n",
       "      <th>cabin_service</th>\n",
       "      <th>food_bev</th>\n",
       "      <th>entertainment</th>\n",
       "      <th>ground_service</th>\n",
       "      <th>value_for_money</th>\n",
       "      <th>recommended</th>\n",
       "      <th>origin</th>\n",
       "      <th>destination</th>\n",
       "      <th>week_of_year</th>\n",
       "      <th>month_of_year</th>\n",
       "      <th>year</th>\n",
       "      <th>day_of_month</th>\n",
       "    </tr>\n",
       "  </thead>\n",
       "  <tbody>\n",
       "    <tr>\n",
       "      <th>0</th>\n",
       "      <td>Turkish Airlines</td>\n",
       "      <td>7</td>\n",
       "      <td>2019-05-08</td>\n",
       "      <td>✅ Trip Verified | London to Izmir via Istanbul...</td>\n",
       "      <td>Business</td>\n",
       "      <td>Economy Class</td>\n",
       "      <td>4</td>\n",
       "      <td>5</td>\n",
       "      <td>4</td>\n",
       "      <td>4</td>\n",
       "      <td>2</td>\n",
       "      <td>4</td>\n",
       "      <td>yes</td>\n",
       "      <td>London</td>\n",
       "      <td>Izmir</td>\n",
       "      <td>19</td>\n",
       "      <td>5</td>\n",
       "      <td>2019</td>\n",
       "      <td>8</td>\n",
       "    </tr>\n",
       "    <tr>\n",
       "      <th>1</th>\n",
       "      <td>Turkish Airlines</td>\n",
       "      <td>2</td>\n",
       "      <td>2019-05-07</td>\n",
       "      <td>✅ Trip Verified | Istanbul to Bucharest. We ma...</td>\n",
       "      <td>Family Leisure</td>\n",
       "      <td>Economy Class</td>\n",
       "      <td>4</td>\n",
       "      <td>1</td>\n",
       "      <td>1</td>\n",
       "      <td>1</td>\n",
       "      <td>1</td>\n",
       "      <td>1</td>\n",
       "      <td>no</td>\n",
       "      <td>Istanbul</td>\n",
       "      <td>Bucharest</td>\n",
       "      <td>19</td>\n",
       "      <td>5</td>\n",
       "      <td>2019</td>\n",
       "      <td>7</td>\n",
       "    </tr>\n",
       "    <tr>\n",
       "      <th>2</th>\n",
       "      <td>Turkish Airlines</td>\n",
       "      <td>3</td>\n",
       "      <td>2019-05-07</td>\n",
       "      <td>✅ Trip Verified | Rome to Prishtina via Istanb...</td>\n",
       "      <td>Business</td>\n",
       "      <td>Economy Class</td>\n",
       "      <td>1</td>\n",
       "      <td>4</td>\n",
       "      <td>1</td>\n",
       "      <td>3</td>\n",
       "      <td>1</td>\n",
       "      <td>2</td>\n",
       "      <td>no</td>\n",
       "      <td>Rome</td>\n",
       "      <td>Prishtina</td>\n",
       "      <td>19</td>\n",
       "      <td>5</td>\n",
       "      <td>2019</td>\n",
       "      <td>7</td>\n",
       "    </tr>\n",
       "    <tr>\n",
       "      <th>3</th>\n",
       "      <td>Turkish Airlines</td>\n",
       "      <td>10</td>\n",
       "      <td>2019-05-06</td>\n",
       "      <td>✅ Trip Verified | Flew on Turkish Airlines IAD...</td>\n",
       "      <td>Solo Leisure</td>\n",
       "      <td>Economy Class</td>\n",
       "      <td>4</td>\n",
       "      <td>5</td>\n",
       "      <td>5</td>\n",
       "      <td>5</td>\n",
       "      <td>5</td>\n",
       "      <td>5</td>\n",
       "      <td>yes</td>\n",
       "      <td>Washington Dulles</td>\n",
       "      <td>Karachi</td>\n",
       "      <td>19</td>\n",
       "      <td>5</td>\n",
       "      <td>2019</td>\n",
       "      <td>6</td>\n",
       "    </tr>\n",
       "    <tr>\n",
       "      <th>4</th>\n",
       "      <td>Turkish Airlines</td>\n",
       "      <td>1</td>\n",
       "      <td>2019-05-06</td>\n",
       "      <td>✅ Trip Verified | Mumbai to Dublin via Istanbu...</td>\n",
       "      <td>Solo Leisure</td>\n",
       "      <td>Economy Class</td>\n",
       "      <td>1</td>\n",
       "      <td>1</td>\n",
       "      <td>1</td>\n",
       "      <td>1</td>\n",
       "      <td>1</td>\n",
       "      <td>1</td>\n",
       "      <td>no</td>\n",
       "      <td>Mumbai</td>\n",
       "      <td>Dublin</td>\n",
       "      <td>19</td>\n",
       "      <td>5</td>\n",
       "      <td>2019</td>\n",
       "      <td>6</td>\n",
       "    </tr>\n",
       "  </tbody>\n",
       "</table>\n",
       "</div>"
      ],
      "text/plain": [
       "            airline  overall review_date  \\\n",
       "0  Turkish Airlines        7  2019-05-08   \n",
       "1  Turkish Airlines        2  2019-05-07   \n",
       "2  Turkish Airlines        3  2019-05-07   \n",
       "3  Turkish Airlines       10  2019-05-06   \n",
       "4  Turkish Airlines        1  2019-05-06   \n",
       "\n",
       "                                     customer_review  traveller_type  \\\n",
       "0  ✅ Trip Verified | London to Izmir via Istanbul...        Business   \n",
       "1  ✅ Trip Verified | Istanbul to Bucharest. We ma...  Family Leisure   \n",
       "2  ✅ Trip Verified | Rome to Prishtina via Istanb...        Business   \n",
       "3  ✅ Trip Verified | Flew on Turkish Airlines IAD...    Solo Leisure   \n",
       "4  ✅ Trip Verified | Mumbai to Dublin via Istanbu...    Solo Leisure   \n",
       "\n",
       "           cabin  seat_comfort  cabin_service  food_bev  entertainment  \\\n",
       "0  Economy Class             4              5         4              4   \n",
       "1  Economy Class             4              1         1              1   \n",
       "2  Economy Class             1              4         1              3   \n",
       "3  Economy Class             4              5         5              5   \n",
       "4  Economy Class             1              1         1              1   \n",
       "\n",
       "   ground_service  value_for_money recommended             origin destination  \\\n",
       "0               2                4         yes             London       Izmir   \n",
       "1               1                1          no           Istanbul   Bucharest   \n",
       "2               1                2          no               Rome   Prishtina   \n",
       "3               5                5         yes  Washington Dulles     Karachi   \n",
       "4               1                1          no             Mumbai      Dublin   \n",
       "\n",
       "   week_of_year  month_of_year  year  day_of_month  \n",
       "0            19              5  2019             8  \n",
       "1            19              5  2019             7  \n",
       "2            19              5  2019             7  \n",
       "3            19              5  2019             6  \n",
       "4            19              5  2019             6  "
      ]
     },
     "execution_count": 53,
     "metadata": {},
     "output_type": "execute_result"
    }
   ],
   "source": [
    "# Check\n",
    "df4.head()"
   ]
  },
  {
   "cell_type": "markdown",
   "metadata": {},
   "source": [
    "I can now drop the `review_date` column"
   ]
  },
  {
   "cell_type": "code",
   "execution_count": 54,
   "metadata": {},
   "outputs": [
    {
     "data": {
      "text/html": [
       "<div>\n",
       "<style scoped>\n",
       "    .dataframe tbody tr th:only-of-type {\n",
       "        vertical-align: middle;\n",
       "    }\n",
       "\n",
       "    .dataframe tbody tr th {\n",
       "        vertical-align: top;\n",
       "    }\n",
       "\n",
       "    .dataframe thead th {\n",
       "        text-align: right;\n",
       "    }\n",
       "</style>\n",
       "<table border=\"1\" class=\"dataframe\">\n",
       "  <thead>\n",
       "    <tr style=\"text-align: right;\">\n",
       "      <th></th>\n",
       "      <th>airline</th>\n",
       "      <th>overall</th>\n",
       "      <th>customer_review</th>\n",
       "      <th>traveller_type</th>\n",
       "      <th>cabin</th>\n",
       "      <th>seat_comfort</th>\n",
       "      <th>cabin_service</th>\n",
       "      <th>food_bev</th>\n",
       "      <th>entertainment</th>\n",
       "      <th>ground_service</th>\n",
       "      <th>value_for_money</th>\n",
       "      <th>recommended</th>\n",
       "      <th>origin</th>\n",
       "      <th>destination</th>\n",
       "      <th>week_of_year</th>\n",
       "      <th>month_of_year</th>\n",
       "      <th>year</th>\n",
       "      <th>day_of_month</th>\n",
       "    </tr>\n",
       "  </thead>\n",
       "  <tbody>\n",
       "    <tr>\n",
       "      <th>0</th>\n",
       "      <td>Turkish Airlines</td>\n",
       "      <td>7</td>\n",
       "      <td>✅ Trip Verified | London to Izmir via Istanbul...</td>\n",
       "      <td>Business</td>\n",
       "      <td>Economy Class</td>\n",
       "      <td>4</td>\n",
       "      <td>5</td>\n",
       "      <td>4</td>\n",
       "      <td>4</td>\n",
       "      <td>2</td>\n",
       "      <td>4</td>\n",
       "      <td>yes</td>\n",
       "      <td>London</td>\n",
       "      <td>Izmir</td>\n",
       "      <td>19</td>\n",
       "      <td>5</td>\n",
       "      <td>2019</td>\n",
       "      <td>8</td>\n",
       "    </tr>\n",
       "    <tr>\n",
       "      <th>1</th>\n",
       "      <td>Turkish Airlines</td>\n",
       "      <td>2</td>\n",
       "      <td>✅ Trip Verified | Istanbul to Bucharest. We ma...</td>\n",
       "      <td>Family Leisure</td>\n",
       "      <td>Economy Class</td>\n",
       "      <td>4</td>\n",
       "      <td>1</td>\n",
       "      <td>1</td>\n",
       "      <td>1</td>\n",
       "      <td>1</td>\n",
       "      <td>1</td>\n",
       "      <td>no</td>\n",
       "      <td>Istanbul</td>\n",
       "      <td>Bucharest</td>\n",
       "      <td>19</td>\n",
       "      <td>5</td>\n",
       "      <td>2019</td>\n",
       "      <td>7</td>\n",
       "    </tr>\n",
       "    <tr>\n",
       "      <th>2</th>\n",
       "      <td>Turkish Airlines</td>\n",
       "      <td>3</td>\n",
       "      <td>✅ Trip Verified | Rome to Prishtina via Istanb...</td>\n",
       "      <td>Business</td>\n",
       "      <td>Economy Class</td>\n",
       "      <td>1</td>\n",
       "      <td>4</td>\n",
       "      <td>1</td>\n",
       "      <td>3</td>\n",
       "      <td>1</td>\n",
       "      <td>2</td>\n",
       "      <td>no</td>\n",
       "      <td>Rome</td>\n",
       "      <td>Prishtina</td>\n",
       "      <td>19</td>\n",
       "      <td>5</td>\n",
       "      <td>2019</td>\n",
       "      <td>7</td>\n",
       "    </tr>\n",
       "    <tr>\n",
       "      <th>3</th>\n",
       "      <td>Turkish Airlines</td>\n",
       "      <td>10</td>\n",
       "      <td>✅ Trip Verified | Flew on Turkish Airlines IAD...</td>\n",
       "      <td>Solo Leisure</td>\n",
       "      <td>Economy Class</td>\n",
       "      <td>4</td>\n",
       "      <td>5</td>\n",
       "      <td>5</td>\n",
       "      <td>5</td>\n",
       "      <td>5</td>\n",
       "      <td>5</td>\n",
       "      <td>yes</td>\n",
       "      <td>Washington Dulles</td>\n",
       "      <td>Karachi</td>\n",
       "      <td>19</td>\n",
       "      <td>5</td>\n",
       "      <td>2019</td>\n",
       "      <td>6</td>\n",
       "    </tr>\n",
       "    <tr>\n",
       "      <th>4</th>\n",
       "      <td>Turkish Airlines</td>\n",
       "      <td>1</td>\n",
       "      <td>✅ Trip Verified | Mumbai to Dublin via Istanbu...</td>\n",
       "      <td>Solo Leisure</td>\n",
       "      <td>Economy Class</td>\n",
       "      <td>1</td>\n",
       "      <td>1</td>\n",
       "      <td>1</td>\n",
       "      <td>1</td>\n",
       "      <td>1</td>\n",
       "      <td>1</td>\n",
       "      <td>no</td>\n",
       "      <td>Mumbai</td>\n",
       "      <td>Dublin</td>\n",
       "      <td>19</td>\n",
       "      <td>5</td>\n",
       "      <td>2019</td>\n",
       "      <td>6</td>\n",
       "    </tr>\n",
       "  </tbody>\n",
       "</table>\n",
       "</div>"
      ],
      "text/plain": [
       "            airline  overall  \\\n",
       "0  Turkish Airlines        7   \n",
       "1  Turkish Airlines        2   \n",
       "2  Turkish Airlines        3   \n",
       "3  Turkish Airlines       10   \n",
       "4  Turkish Airlines        1   \n",
       "\n",
       "                                     customer_review  traveller_type  \\\n",
       "0  ✅ Trip Verified | London to Izmir via Istanbul...        Business   \n",
       "1  ✅ Trip Verified | Istanbul to Bucharest. We ma...  Family Leisure   \n",
       "2  ✅ Trip Verified | Rome to Prishtina via Istanb...        Business   \n",
       "3  ✅ Trip Verified | Flew on Turkish Airlines IAD...    Solo Leisure   \n",
       "4  ✅ Trip Verified | Mumbai to Dublin via Istanbu...    Solo Leisure   \n",
       "\n",
       "           cabin  seat_comfort  cabin_service  food_bev  entertainment  \\\n",
       "0  Economy Class             4              5         4              4   \n",
       "1  Economy Class             4              1         1              1   \n",
       "2  Economy Class             1              4         1              3   \n",
       "3  Economy Class             4              5         5              5   \n",
       "4  Economy Class             1              1         1              1   \n",
       "\n",
       "   ground_service  value_for_money recommended             origin destination  \\\n",
       "0               2                4         yes             London       Izmir   \n",
       "1               1                1          no           Istanbul   Bucharest   \n",
       "2               1                2          no               Rome   Prishtina   \n",
       "3               5                5         yes  Washington Dulles     Karachi   \n",
       "4               1                1          no             Mumbai      Dublin   \n",
       "\n",
       "   week_of_year  month_of_year  year  day_of_month  \n",
       "0            19              5  2019             8  \n",
       "1            19              5  2019             7  \n",
       "2            19              5  2019             7  \n",
       "3            19              5  2019             6  \n",
       "4            19              5  2019             6  "
      ]
     },
     "execution_count": 54,
     "metadata": {},
     "output_type": "execute_result"
    }
   ],
   "source": [
    "# Drop review_date column\n",
    "df4.drop(columns=['review_date'], inplace = True)\n",
    "\n",
    "# Check\n",
    "df4.head()"
   ]
  },
  {
   "cell_type": "code",
   "execution_count": 55,
   "metadata": {},
   "outputs": [
    {
     "data": {
      "text/plain": [
       "(34142, 18)"
      ]
     },
     "execution_count": 55,
     "metadata": {},
     "output_type": "execute_result"
    }
   ],
   "source": [
    "df4.shape"
   ]
  },
  {
   "cell_type": "markdown",
   "metadata": {},
   "source": [
    "I have now reduced the original dataset size of ~69000 rows by 17 columns to ~34000 rows by 18 columns. Just to make sure there are no duplicates in the Origin and Destination columns (for the more popular and frequently travelled cities) let's do a `.value_counts()` of those two columns."
   ]
  },
  {
   "cell_type": "code",
   "execution_count": 56,
   "metadata": {},
   "outputs": [
    {
     "data": {
      "text/plain": [
       "London           967\n",
       "LHR              861\n",
       "Los Angeles      455\n",
       "Chicago          416\n",
       "New York         398\n",
       "Bangkok          397\n",
       "Singapore        370\n",
       "Amsterdam        369\n",
       "Toronto          358\n",
       "Sydney           337\n",
       "LAX              326\n",
       "JFK              317\n",
       "Denver           305\n",
       "Orlando          300\n",
       "San Francisco    298\n",
       "Gatwick          294\n",
       "LGW              286\n",
       "Paris            285\n",
       "Dubai            282\n",
       "Boston           273\n",
       "Name: origin, dtype: int64"
      ]
     },
     "metadata": {},
     "output_type": "display_data"
    },
    {
     "data": {
      "text/plain": [
       "London           821\n",
       "LHR              640\n",
       "Bangkok          505\n",
       "Los Angeles      477\n",
       "New York         392\n",
       "Amsterdam        385\n",
       "Sydney           349\n",
       "Chicago          348\n",
       "Las Vegas        340\n",
       "Singapore        339\n",
       "JFK              330\n",
       "Toronto          328\n",
       "Orlando          327\n",
       "BKK              305\n",
       "Denver           303\n",
       "LAX              284\n",
       "Paris            277\n",
       "San Francisco    273\n",
       "Melbourne        262\n",
       "Dubai            259\n",
       "Name: destination, dtype: int64"
      ]
     },
     "metadata": {},
     "output_type": "display_data"
    }
   ],
   "source": [
    "display(df4['origin'].value_counts().head(20))\n",
    "display(df4['destination'].value_counts().head(20))"
   ]
  },
  {
   "cell_type": "markdown",
   "metadata": {},
   "source": [
    "We do in fact see some duplicates as both LHR and London are the same destination (in this case). Because there are probably many airport codes and city names that are duplicated in this data set, for now I will replace SOME of the Airport Code origin/destinations with their city names, but only for major cities. And this will only be fore the more frequently flown to destinations/origins. \n",
    "\n",
    "\n",
    "Once I create dataframes of airlines of specific regions, I will have a better understanding of what airport codes to replace their city names with. "
   ]
  },
  {
   "cell_type": "code",
   "execution_count": 57,
   "metadata": {},
   "outputs": [],
   "source": [
    "df4['destination'] = df4['destination'].apply(lambda x: x.replace(\"HKG\", \"Hong Kong\"))\n",
    "df4['destination'] = df4['destination'].apply(lambda x: x.replace(\"DXB\", \"Dubai\"))\n",
    "df4['destination'] = df4['destination'].apply(lambda x: x.replace(\"LHR\", \"London\"))\n",
    "df4['destination'] = df4['destination'].apply(lambda x: x.replace(\"JFK\", \"New York\"))\n",
    "df4['destination'] = df4['destination'].apply(lambda x: x.replace(\"SYD\", \"Sydney\"))\n",
    "df4['destination'] = df4['destination'].apply(lambda x: x.replace(\"AKL\", \"Auckland\"))\n",
    "df4['destination'] = df4['destination'].apply(lambda x: x.replace(\"MEL\", \"Melbourne\"))\n",
    "df4['destination'] = df4['destination'].apply(lambda x: x.replace(\"BKK\", \"Bangkok\"))\n",
    "df4['destination'] = df4['destination'].apply(lambda x: x.replace(\"SIN\", \"Singapore\"))\n",
    "df4['destination'] = df4['destination'].apply(lambda x: x.replace(\"YYZ\", \"Toronto\"))\n",
    "df4['destination'] = df4['destination'].apply(lambda x: x.replace(\"CDG\", \"Paris\"))\n",
    "df4['destination'] = df4['destination'].apply(lambda x: x.replace(\"AMS\", \"Amsterdam\"))\n",
    "df4['destination'] = df4['destination'].apply(lambda x: x.replace(\"ORD\", \"Chicago\"))\n",
    "df4['destination'] = df4['destination'].apply(lambda x: x.replace(\"LAX\", \"Los Angeles\"))\n",
    "df4['destination'] = df4['destination'].apply(lambda x: x.replace(\"IST\", \"Istanbul\"))\n",
    "df4['destination'] = df4['destination'].apply(lambda x: x.replace(\"LGW\", \"Gatwick\"))\n",
    "df4['destination'] = df4['destination'].apply(lambda x: x.replace(\"ZRH\", \"Zurich\"))\n",
    "df4['destination'] = df4['destination'].apply(lambda x: x.replace(\"AYT\", \"Antalya\"))\n",
    "df4['destination'] = df4['destination'].apply(lambda x: x.replace(\"MIA\", \"Miami\"))\n",
    "df4['destination'] = df4['destination'].apply(lambda x: x.replace(\"BRU\", \"Brussels\"))\n",
    "df4['destination'] = df4['destination'].apply(lambda x: x.replace(\"FCO\", \"Rome\"))\n",
    "df4['destination'] = df4['destination'].apply(lambda x: x.replace(\"VIE\", \"Vienna\"))\n",
    "df4['destination'] = df4['destination'].apply(lambda x: x.replace(\"MAD\", \"Madrid\"))\n",
    "df4['destination'] = df4['destination'].apply(lambda x: x.replace(\"BNE\", \"Brisbane\"))\n",
    "df4['destination'] = df4['destination'].apply(lambda x: x.replace(\"MAN\", \"Manchester\"))\n",
    "df4['destination'] = df4['destination'].apply(lambda x: x.replace(\"PER\", \"Perth\"))\n",
    "df4['destination'] = df4['destination'].apply(lambda x: x.replace(\"CMB\", \"Colombo\"))\n",
    "df4['destination'] = df4['destination'].apply(lambda x: x.replace(\"BHX\", \"Birmingham\"))\n",
    "df4['destination'] = df4['destination'].apply(lambda x: x.replace(\"ATH\", \"Athens\"))\n",
    "df4['destination'] = df4['destination'].apply(lambda x: x.replace(\"DEL\", \"Delhi\"))\n",
    "df4['destination'] = df4['destination'].apply(lambda x: x.replace(\"LAS\", \"Las Vegas\"))\n",
    "df4['destination'] = df4['destination'].apply(lambda x: x.replace(\"LIS\", \"Lisbon\"))\n",
    "df4['destination'] = df4['destination'].apply(lambda x: x.replace(\"KUL\", \"Kuala Lumpur\"))\n",
    "df4['destination'] = df4['destination'].apply(lambda x: x.replace(\"PEK\", \"Beijing\"))\n",
    "df4['destination'] = df4['destination'].apply(lambda x: x.replace(\"MCO\", \"Orlando\"))"
   ]
  },
  {
   "cell_type": "markdown",
   "metadata": {},
   "source": [
    "This is only a select number of city/airport codes I have replaced with their city names. Upon earlier inspection, I noticed that some origin and destination cities either had incorrect spelling, some were upper/lowercase, and some would have to split again. In this iteration, I will not be focusing on the origin/destination variables too much. "
   ]
  },
  {
   "cell_type": "code",
   "execution_count": 58,
   "metadata": {},
   "outputs": [
    {
     "data": {
      "text/plain": [
       "London         1461\n",
       "Bangkok         810\n",
       "Los Angeles     761\n",
       "New York        722\n",
       "Amsterdam       577\n",
       "Singapore       562\n",
       "Sydney          501\n",
       "Las Vegas       493\n",
       "Chicago         490\n",
       "Toronto         462\n",
       "Paris           456\n",
       "Gatwick         433\n",
       "Dubai           420\n",
       "Orlando         414\n",
       "Melbourne       394\n",
       "Name: destination, dtype: int64"
      ]
     },
     "execution_count": 58,
     "metadata": {},
     "output_type": "execute_result"
    }
   ],
   "source": [
    "df4['destination'].value_counts().head(15)"
   ]
  },
  {
   "cell_type": "markdown",
   "metadata": {},
   "source": [
    "Next, let's do the same conversions for the `origin` column for now."
   ]
  },
  {
   "cell_type": "code",
   "execution_count": 59,
   "metadata": {},
   "outputs": [],
   "source": [
    "df4['origin'] = df4['origin'].apply(lambda x: x.replace(\"HKG\", \"Hong Kong\"))\n",
    "df4['origin'] = df4['origin'].apply(lambda x: x.replace(\"DXB\", \"Dubai\"))\n",
    "df4['origin'] = df4['origin'].apply(lambda x: x.replace(\"LHR\", \"London\"))\n",
    "df4['origin'] = df4['origin'].apply(lambda x: x.replace(\"JFK\", \"New York\"))\n",
    "df4['origin'] = df4['origin'].apply(lambda x: x.replace(\"SYD\", \"Sydney\"))\n",
    "df4['origin'] = df4['origin'].apply(lambda x: x.replace(\"AKL\", \"Auckland\"))\n",
    "df4['origin'] = df4['origin'].apply(lambda x: x.replace(\"MEL\", \"Melbourne\"))\n",
    "df4['origin'] = df4['origin'].apply(lambda x: x.replace(\"BKK\", \"Bangkok\"))\n",
    "df4['origin'] = df4['origin'].apply(lambda x: x.replace(\"SIN\", \"Singapore\"))\n",
    "df4['origin'] = df4['origin'].apply(lambda x: x.replace(\"YYZ\", \"Toronto\"))\n",
    "df4['origin'] = df4['origin'].apply(lambda x: x.replace(\"CDG\", \"Paris\"))\n",
    "df4['origin'] = df4['origin'].apply(lambda x: x.replace(\"AMS\", \"Amsterdam\"))\n",
    "df4['origin'] = df4['origin'].apply(lambda x: x.replace(\"ORD\", \"Chicago\"))\n",
    "df4['origin'] = df4['origin'].apply(lambda x: x.replace(\"LAX\", \"Los Angeles\"))\n",
    "df4['origin'] = df4['origin'].apply(lambda x: x.replace(\"IST\", \"Istanbul\"))\n",
    "df4['origin'] = df4['origin'].apply(lambda x: x.replace(\"LGW\", \"Gatwick\"))\n",
    "df4['origin'] = df4['origin'].apply(lambda x: x.replace(\"ZRH\", \"Zurich\"))\n",
    "df4['origin'] = df4['origin'].apply(lambda x: x.replace(\"AYT\", \"Antalya\"))\n",
    "df4['origin'] = df4['origin'].apply(lambda x: x.replace(\"MIA\", \"Miami\"))\n",
    "df4['origin'] = df4['origin'].apply(lambda x: x.replace(\"BRU\", \"Brussels\"))\n",
    "df4['origin'] = df4['origin'].apply(lambda x: x.replace(\"FCO\", \"Rome\"))\n",
    "df4['origin'] = df4['origin'].apply(lambda x: x.replace(\"VIE\", \"Vienna\"))\n",
    "df4['origin'] = df4['origin'].apply(lambda x: x.replace(\"MAD\", \"Madrid\"))\n",
    "df4['origin'] = df4['origin'].apply(lambda x: x.replace(\"BNE\", \"Brisbane\"))\n",
    "df4['origin'] = df4['origin'].apply(lambda x: x.replace(\"MAN\", \"Manchester\"))\n",
    "df4['origin'] = df4['origin'].apply(lambda x: x.replace(\"PER\", \"Perth\"))\n",
    "df4['origin'] = df4['origin'].apply(lambda x: x.replace(\"CMB\", \"Colombo\"))\n",
    "df4['origin'] = df4['origin'].apply(lambda x: x.replace(\"BHX\", \"Birmingham\"))\n",
    "df4['origin'] = df4['origin'].apply(lambda x: x.replace(\"ATH\", \"Athens\"))\n",
    "df4['origin'] = df4['origin'].apply(lambda x: x.replace(\"DEL\", \"Delhi\"))\n",
    "df4['origin'] = df4['origin'].apply(lambda x: x.replace(\"LAS\", \"Las Vegas\"))\n",
    "df4['origin'] = df4['origin'].apply(lambda x: x.replace(\"LIS\", \"Lisbon\"))\n",
    "df4['origin'] = df4['origin'].apply(lambda x: x.replace(\"KUL\", \"Kuala Lumpur\"))\n",
    "df4['origin'] = df4['origin'].apply(lambda x: x.replace(\"PEK\", \"Beijing\"))\n",
    "df4['origin'] = df4['origin'].apply(lambda x: x.replace(\"MCO\", \"Orlando\"))"
   ]
  },
  {
   "cell_type": "code",
   "execution_count": 60,
   "metadata": {},
   "outputs": [
    {
     "data": {
      "text/plain": [
       "London         1828\n",
       "Los Angeles     781\n",
       "New York        715\n",
       "Bangkok         668\n",
       "Chicago         588\n",
       "Gatwick         580\n",
       "Singapore       572\n",
       "Amsterdam       572\n",
       "Toronto         526\n",
       "Sydney          517\n",
       "Paris           460\n",
       "Dubai           406\n",
       "Manchester      375\n",
       "Orlando         372\n",
       "Las Vegas       360\n",
       "Name: origin, dtype: int64"
      ]
     },
     "execution_count": 60,
     "metadata": {},
     "output_type": "execute_result"
    }
   ],
   "source": [
    "# Check origin column\n",
    "df4['origin'].value_counts().head(15)"
   ]
  },
  {
   "cell_type": "markdown",
   "metadata": {},
   "source": [
    "Now we can save this cleaned dataframe. I will not be converting the `recommended` column here as I will need the unaltered column for the data analysis portion."
   ]
  },
  {
   "cell_type": "code",
   "execution_count": 68,
   "metadata": {},
   "outputs": [],
   "source": [
    "# Save the cleaned data\n",
    "df4.to_csv('airlines_data_cleaned_finalized.csv', index=False)"
   ]
  },
  {
   "cell_type": "markdown",
   "metadata": {},
   "source": [
    "With the cleaning process done, we can move onto the EDA portion in the next notebook."
   ]
  }
 ],
 "metadata": {
  "kernelspec": {
   "display_name": "Python 3 (ipykernel)",
   "language": "python",
   "name": "python3"
  },
  "language_info": {
   "codemirror_mode": {
    "name": "ipython",
    "version": 3
   },
   "file_extension": ".py",
   "mimetype": "text/x-python",
   "name": "python",
   "nbconvert_exporter": "python",
   "pygments_lexer": "ipython3",
   "version": "3.7.12"
  }
 },
 "nbformat": 4,
 "nbformat_minor": 2
}
